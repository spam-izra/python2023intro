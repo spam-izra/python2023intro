{
 "cells": [
  {
   "cell_type": "markdown",
   "metadata": {},
   "source": [
    "# Лекция 3. Цикл while. Коллекции (начало)\n",
    "\n",
    "* Цикл __while__\n",
    "* Списки\n",
    "* Кортежи\n",
    "* Особенности присваивания"
   ]
  },
  {
   "cell_type": "markdown",
   "metadata": {},
   "source": [
    "# Циклы\n",
    "\n",
    "Всякий раз, когда нам нужно выполнить какое-то действие несколько раз подряд, нам необходимо использовать циклы."
   ]
  },
  {
   "cell_type": "markdown",
   "metadata": {},
   "source": [
    "## while\n",
    "\n",
    "Самый простой цикл выглядит следующим образом\n",
    "\n",
    "```Python\n",
    "while <условие>:\n",
    "    <Тело цикла. Ваш код.>\n",
    "else:\n",
    "    <ваш код>\n",
    "```\n",
    "\n",
    "Данный цикл работает достаточно просто. В начале проверяется условие и если оно True, то выполняется тело цикла (также как для if). После выполнения блока, Python снова возвращается к условию и снова его проверяет. И если в этот раз, условие тоже True, то тело выполняется еще раз. И так до тех пор будет повторяться, пока условие истинно.\n",
    "\n",
    "> `break` - позволяет немедленно остановить выполнение тела цикла и вернуться в основную программу\n",
    "\n",
    "> `continue` - позволяет немедленно остановить выполнение тела цикла и перейти сразу же к началу цикла. Для while - это проверка условия.\n",
    "\n",
    "> `else` - данный блок срабатывает, если в теле цикла не сработал `break` (при этом он может там присутствовать)"
   ]
  },
  {
   "cell_type": "code",
   "execution_count": 12,
   "metadata": {},
   "outputs": [
    {
     "ename": "KeyboardInterrupt",
     "evalue": "",
     "output_type": "error",
     "traceback": [
      "\u001b[1;31m---------------------------------------------------------------------------\u001b[0m",
      "\u001b[1;31mKeyboardInterrupt\u001b[0m                         Traceback (most recent call last)",
      "Cell \u001b[1;32mIn[12], line 3\u001b[0m\n\u001b[0;32m      1\u001b[0m \u001b[38;5;66;03m# бесконечный цикл\u001b[39;00m\n\u001b[1;32m----> 3\u001b[0m \u001b[38;5;28;01mwhile\u001b[39;00m \u001b[38;5;28;01mTrue\u001b[39;00m:\n\u001b[0;32m      4\u001b[0m     \u001b[38;5;28;01mpass\u001b[39;00m\n",
      "\u001b[1;31mKeyboardInterrupt\u001b[0m: "
     ]
    }
   ],
   "source": [
    "# бесконечный цикл\n",
    "\n",
    "while True:\n",
    "    pass"
   ]
  },
  {
   "cell_type": "markdown",
   "metadata": {},
   "source": [
    "> `pass` - пустой оператор, буквально ничего не делает"
   ]
  },
  {
   "cell_type": "code",
   "execution_count": 31,
   "metadata": {},
   "outputs": [
    {
     "name": "stdout",
     "output_type": "stream",
     "text": [
      "2\n",
      "4\n",
      "6\n",
      "8\n",
      "10\n",
      "while end\n"
     ]
    }
   ],
   "source": [
    "# Пример условия\n",
    "\n",
    "i = 0\n",
    "while i < 10:\n",
    "    i += 1\n",
    "    if i % 2:\n",
    "        continue\n",
    "    print(i)\n",
    "else:\n",
    "    print(\"while end\")"
   ]
  },
  {
   "cell_type": "code",
   "execution_count": 38,
   "metadata": {},
   "outputs": [
    {
     "name": "stdout",
     "output_type": "stream",
     "text": [
      "H\n",
      "E\n",
      "L\n",
      "L\n",
      "O\n",
      " \n",
      "W\n",
      "O\n",
      "R\n",
      "L\n",
      "D\n"
     ]
    }
   ],
   "source": [
    "# Пример условия\n",
    "\n",
    "s = \"Hello World\"\n",
    "i = 0\n",
    "while i < len(s):\n",
    "    print(s[i].upper())\n",
    "    i += 1"
   ]
  },
  {
   "cell_type": "code",
   "execution_count": 41,
   "metadata": {},
   "outputs": [
    {
     "name": "stdout",
     "output_type": "stream",
     "text": [
      "H\n",
      "e\n",
      "l\n",
      "l\n",
      "o\n",
      "DONE\n"
     ]
    }
   ],
   "source": [
    "# Пример прерывания цикла\n",
    "\n",
    "s = \"Hello.World\"\n",
    "i = 0\n",
    "while i < len(s):\n",
    "    if s[i] == \".\":\n",
    "        break\n",
    "        print(\"you don't see\")\n",
    "\n",
    "    print(s[i])\n",
    "    i += 1\n",
    "else:\n",
    "    print(\"you don't see\")\n",
    "    \n",
    "print(\"DONE\")"
   ]
  },
  {
   "cell_type": "code",
   "execution_count": 44,
   "metadata": {},
   "outputs": [
    {
     "name": "stdout",
     "output_type": "stream",
     "text": [
      "e\n",
      "l\n",
      "l\n",
      "o\n",
      ".\n",
      "o\n",
      "r\n",
      "l\n",
      "d\n",
      "Done\n"
     ]
    }
   ],
   "source": [
    "# Пример перехода к другой итерации\n",
    "\n",
    "s = \"Hello.World\"\n",
    "i = 0\n",
    "while i < len(s):\n",
    "    if s[i].isupper():\n",
    "        i += 1\n",
    "        continue\n",
    "        \n",
    "    print(s[i])\n",
    "    i += 1\n",
    "else:\n",
    "    print(\"Done\")"
   ]
  },
  {
   "cell_type": "markdown",
   "metadata": {},
   "source": [
    "# Списки и кортежи\n",
    "\n",
    "> __Список (list)__ - это изменяемый упорядоченный набор данных\n",
    "\n",
    "Создать список очень просто. Достаточно использовать литерал __\"[]\"__ или __\"list()\"__"
   ]
  },
  {
   "cell_type": "code",
   "execution_count": 111,
   "metadata": {},
   "outputs": [
    {
     "name": "stdout",
     "output_type": "stream",
     "text": [
      "['h', 'e', 'l', 'l', 'o', ' ', 'w', 'o', 'r', 'l', 'd']\n",
      "[0, 1, 2, 3, 4, 5, 6, 7, 8, 9]\n"
     ]
    }
   ],
   "source": [
    "# создать пустой список\n",
    "a = []\n",
    "\n",
    "# создать список из разных элементов\n",
    "a = [1, 2, \"text\"]\n",
    "\n",
    "# а можем даже список из списков\n",
    "a = [\n",
    "    [1, 2, 3],\n",
    "    [4, 5, 6],\n",
    "    [7, 8, 9],\n",
    "]\n",
    "\n",
    "# а можем создать из любого итерируемого объекта\n",
    "a = list(\"hello world\")\n",
    "print(a)\n",
    "\n",
    "a = list(range(10))\n",
    "print(a)"
   ]
  },
  {
   "cell_type": "markdown",
   "metadata": {},
   "source": [
    "> __Кортеж (tuple)__ - это неизменяемый упорядоченный набор данных\n",
    "\n",
    "Создать кортеж на столько же просто - для этого есть литерал __\"()\"__ и __\"tuple()\"__"
   ]
  },
  {
   "cell_type": "code",
   "execution_count": 60,
   "metadata": {},
   "outputs": [
    {
     "name": "stdout",
     "output_type": "stream",
     "text": [
      "('h', 'e', 'l', 'l', 'o')\n",
      "(1, 2, 3)\n",
      "(1, 2, 'ggg')\n"
     ]
    }
   ],
   "source": [
    "# Пустой кортеж\n",
    "a = ()\n",
    "\n",
    "# Из нескольких элементов\n",
    "a = (1, 2, \"text\")\n",
    "\n",
    "# Даже кортеж из кортежей\n",
    "a = (\n",
    "    ('1', 2, '3'),\n",
    "    (5, 2),\n",
    "    [],\n",
    ")\n",
    "\n",
    "# и также можем из любого итерируемого объекта\n",
    "a = tuple(\"hello\")\n",
    "print(a)\n",
    "\n",
    "# это включает и списки\n",
    "a = tuple([1, 2, 3])\n",
    "print(a)\n",
    "\n",
    "# И чтобы запутать наверняка. Перечесление элементов через запятую создает кортеж\n",
    "a = 1, 2, \"ggg\",\n",
    "print(a)"
   ]
  },
  {
   "cell_type": "code",
   "execution_count": 15,
   "metadata": {},
   "outputs": [
    {
     "name": "stdout",
     "output_type": "stream",
     "text": [
      "5\n"
     ]
    }
   ],
   "source": [
    "# а теперь нюанс создания кортежа\n",
    "\n",
    "a = (5)\n",
    "\n",
    "# Какой результат?\n",
    "print(a)"
   ]
  },
  {
   "cell_type": "code",
   "execution_count": 23,
   "metadata": {},
   "outputs": [
    {
     "name": "stdout",
     "output_type": "stream",
     "text": [
      "(5,)\n"
     ]
    }
   ],
   "source": [
    "# Правильно будет\n",
    "\n",
    "a = (5,)\n",
    "print(a)"
   ]
  },
  {
   "cell_type": "markdown",
   "metadata": {},
   "source": [
    "> __Рекомендация:__ ставьте запятую после последнего элемента в списках или кортежах (как и в словарях далее) "
   ]
  },
  {
   "cell_type": "code",
   "execution_count": 8,
   "metadata": {},
   "outputs": [],
   "source": [
    "a = [\n",
    "    1, \n",
    "    2, \n",
    "    3,\n",
    "]"
   ]
  },
  {
   "cell_type": "markdown",
   "metadata": {},
   "source": [
    "Действия над списками и кортежами почти идентичны (они возвращают новый объект, не меняя оригинал)\n",
    "- `a[0], a[5:]` - индексация и срезы\n",
    "- `(1,2) + (3,4)` - конкатенация\n",
    "- `a*4` - повторение\n",
    "- `len(a)` - количество элементов в коллекции\n",
    "- `1 in a` - проверка на вхождение объекта в коллекцию\n",
    "- `a.index('HI'), a.count('HI') ` - найти индекс/количество вхождений элемента равного `'HI'`"
   ]
  },
  {
   "cell_type": "markdown",
   "metadata": {},
   "source": [
    "Теперь рассмотрим, чем же они отличаются"
   ]
  },
  {
   "cell_type": "code",
   "execution_count": 10,
   "metadata": {},
   "outputs": [
    {
     "name": "stdout",
     "output_type": "stream",
     "text": [
      "[1, 7, 3]\n"
     ]
    }
   ],
   "source": [
    "# Мы можем сделать так со списками\n",
    "a = [1, 2, 3]\n",
    "a[1] = 7\n",
    "print(a)"
   ]
  },
  {
   "cell_type": "code",
   "execution_count": 11,
   "metadata": {},
   "outputs": [
    {
     "ename": "TypeError",
     "evalue": "'tuple' object does not support item assignment",
     "output_type": "error",
     "traceback": [
      "\u001b[0;31m---------------------------------------------------------------------------\u001b[0m",
      "\u001b[0;31mTypeError\u001b[0m                                 Traceback (most recent call last)",
      "\u001b[0;32m<ipython-input-11-81aa0d0af4a4>\u001b[0m in \u001b[0;36m<module>\u001b[0;34m\u001b[0m\n\u001b[1;32m      1\u001b[0m \u001b[0ma\u001b[0m \u001b[0;34m=\u001b[0m \u001b[0;34m(\u001b[0m\u001b[0;36m1\u001b[0m\u001b[0;34m,\u001b[0m \u001b[0;36m2\u001b[0m\u001b[0;34m,\u001b[0m \u001b[0;36m3\u001b[0m\u001b[0;34m)\u001b[0m\u001b[0;34m\u001b[0m\u001b[0;34m\u001b[0m\u001b[0m\n\u001b[0;32m----> 2\u001b[0;31m \u001b[0ma\u001b[0m\u001b[0;34m[\u001b[0m\u001b[0;36m1\u001b[0m\u001b[0;34m]\u001b[0m \u001b[0;34m=\u001b[0m \u001b[0;36m7\u001b[0m\u001b[0;34m\u001b[0m\u001b[0;34m\u001b[0m\u001b[0m\n\u001b[0m\u001b[1;32m      3\u001b[0m \u001b[0mprint\u001b[0m\u001b[0;34m(\u001b[0m\u001b[0ma\u001b[0m\u001b[0;34m)\u001b[0m\u001b[0;34m\u001b[0m\u001b[0;34m\u001b[0m\u001b[0m\n",
      "\u001b[0;31mTypeError\u001b[0m: 'tuple' object does not support item assignment"
     ]
    }
   ],
   "source": [
    "# Но не можем сделать с кортежами (мы не можем привязать элемент к новому объекту!)\n",
    "a = (1, 2, 3)\n",
    "a[1] = 7\n",
    "print(a)"
   ]
  },
  {
   "cell_type": "code",
   "execution_count": 25,
   "metadata": {},
   "outputs": [
    {
     "name": "stdout",
     "output_type": "stream",
     "text": [
      "(1, [7], 3)\n"
     ]
    }
   ],
   "source": [
    "# При этом можно сделать так\n",
    "\n",
    "a = (1, [2], 3)\n",
    "a[1][0] = 7\n",
    "print(a)\n",
    "\n",
    "# Это возможно благодаря тому, что мы не привязывали новый объект, мы просто изменили сам старый"
   ]
  },
  {
   "cell_type": "markdown",
   "metadata": {},
   "source": [
    "## Дополнительные операции для списков\n",
    "\n",
    "В связи с возможностью изменяться список поддерживает дополнительные операции (изменяется сам список)\n",
    "\n",
    "- `a.sort()` - сортировка списка по ключу\n",
    "- `a.append('text')` - добавить элемент в конец списка\n",
    "- `a.insert(5, 'text')` - вставить элемент на позицию 5, остальные подвинуть\n",
    "- `a.extend([2, 4, 6])` - добавить пачку элементов\n",
    "- `a.reverse(), a.clear()` - поменять порядок элементов, удалить все\n",
    "- `del a[1], del a[1:2], a[1:5] = []` - удалить конкретный элемент или элементы, замена участка\n",
    "- `a[1] = 4, , a[:2] = [1, 2, 3]` - изменить элемент/элементы\n",
    "- `a.copy()` - получить поверхностную копию списка"
   ]
  },
  {
   "cell_type": "code",
   "execution_count": 38,
   "metadata": {},
   "outputs": [
    {
     "name": "stdout",
     "output_type": "stream",
     "text": [
      "[7, 2, 3, 4]\n",
      "[7, 9, 9, 9, 9, 4]\n"
     ]
    }
   ],
   "source": [
    "a = [1, 2, 3, 4]\n",
    "\n",
    "# изменить элемент\n",
    "a[0] = 7\n",
    "print(a)\n",
    "\n",
    "# замена интервала внутри списка\n",
    "a[1:3] = [9, 9, 9, 9]\n",
    "print(a)"
   ]
  },
  {
   "cell_type": "code",
   "execution_count": 39,
   "metadata": {},
   "outputs": [
    {
     "name": "stdout",
     "output_type": "stream",
     "text": [
      "[7, 9, 9, 9, 9, 4, 'text']\n",
      "[13, 7, 9, 9, 9, 9, 4, 'text']\n",
      "[13, 7, 9, 9, 9, 9, 4]\n",
      "[7, 9, 9, 9, 9, 4]\n"
     ]
    }
   ],
   "source": [
    "# добавляем новый элемент\n",
    "a.append(\"text\")\n",
    "print(a)\n",
    "a.insert(0, 13)\n",
    "print(a)\n",
    "\n",
    "# удаляем последний\n",
    "del a[-1]\n",
    "print(a)\n",
    "# удаляем по значению\n",
    "a.remove(13)\n",
    "print(a)"
   ]
  },
  {
   "cell_type": "code",
   "execution_count": 41,
   "metadata": {},
   "outputs": [
    {
     "name": "stdout",
     "output_type": "stream",
     "text": [
      "[9, 9, 9, 9, 7, 4]\n",
      "[9, 9, 9, 7]\n",
      "[9, 9, 9, 7]\n",
      "[9, 9, 9, 7, 'new']\n"
     ]
    }
   ],
   "source": [
    "# сортировка\n",
    "a.sort(key=lambda x: 1/x)\n",
    "print(a)\n",
    "\n",
    "# Получить и удалить последний элемент\n",
    "v = a.pop()\n",
    "\n",
    "# Получить и удалить конкретный элемент по индексу\n",
    "v = a.pop(1)\n",
    "print(a)\n",
    "\n",
    "# сделать копию\n",
    "b = a[:]\n",
    "b = a.copy()\n",
    "b.append(\"new\")\n",
    "print(a)\n",
    "print(b)"
   ]
  },
  {
   "cell_type": "markdown",
   "metadata": {},
   "source": [
    "> `sorted()` - позволяет отсортировать любой итерируемый объект и возвращает новый экземпляр"
   ]
  },
  {
   "cell_type": "code",
   "execution_count": 42,
   "metadata": {},
   "outputs": [
    {
     "name": "stdout",
     "output_type": "stream",
     "text": [
      "hello\n",
      "['e', 'h', 'l', 'l', 'o']\n"
     ]
    }
   ],
   "source": [
    "a = \"hello\"\n",
    "b = sorted(a)\n",
    "print(a)\n",
    "print(b)"
   ]
  },
  {
   "cell_type": "markdown",
   "metadata": {},
   "source": [
    "# Особенности присваивания\n",
    "\n",
    "Мы уже знакомы с самой простой формой присваивания"
   ]
  },
  {
   "cell_type": "code",
   "execution_count": 56,
   "metadata": {},
   "outputs": [],
   "source": [
    "a = 5\n",
    "a = b = 6"
   ]
  },
  {
   "cell_type": "markdown",
   "metadata": {},
   "source": [
    "При этом существуют более сложные формы для данного оператора. Например, позиционное присваивание кортежа"
   ]
  },
  {
   "cell_type": "code",
   "execution_count": 43,
   "metadata": {},
   "outputs": [
    {
     "name": "stdout",
     "output_type": "stream",
     "text": [
      "a = 6\n",
      "b = 7\n"
     ]
    }
   ],
   "source": [
    "a, b = 6, 7\n",
    "print(f\"a = {a}\")\n",
    "print(f\"b = {b}\")"
   ]
  },
  {
   "cell_type": "code",
   "execution_count": 46,
   "metadata": {},
   "outputs": [
    {
     "name": "stdout",
     "output_type": "stream",
     "text": [
      "a = 7\n",
      "b = 6\n"
     ]
    }
   ],
   "source": [
    "# задача поменять значений переменных местами делается в одну строку\n",
    "a, b = b, a\n",
    "print(f\"a = {a}\")\n",
    "print(f\"b = {b}\")"
   ]
  },
  {
   "cell_type": "markdown",
   "metadata": {},
   "source": [
    "Тоже самое работает со списками"
   ]
  },
  {
   "cell_type": "code",
   "execution_count": 44,
   "metadata": {},
   "outputs": [
    {
     "name": "stdout",
     "output_type": "stream",
     "text": [
      "a = 10\n",
      "b = 14\n"
     ]
    }
   ],
   "source": [
    "[a, b] = [10, 14]\n",
    "print(f\"a = {a}\")\n",
    "print(f\"b = {b}\")"
   ]
  },
  {
   "cell_type": "markdown",
   "metadata": {},
   "source": [
    "На самом деле, это работает с любыми последовательностями. Важно только, чтобы количество элементов слева равнялось количеству элементов справа."
   ]
  },
  {
   "cell_type": "code",
   "execution_count": 45,
   "metadata": {},
   "outputs": [
    {
     "name": "stdout",
     "output_type": "stream",
     "text": [
      "a = p\n",
      "b = i\n",
      "c = n\n",
      "d = g\n"
     ]
    }
   ],
   "source": [
    "a, b, c, d = \"ping\"\n",
    "print(f\"a = {a}\")\n",
    "print(f\"b = {b}\")\n",
    "print(f\"c = {c}\")\n",
    "print(f\"d = {d}\")"
   ]
  },
  {
   "cell_type": "markdown",
   "metadata": {},
   "source": [
    "Это даже верно для вложенных коллекций"
   ]
  },
  {
   "cell_type": "code",
   "execution_count": 57,
   "metadata": {},
   "outputs": [
    {
     "name": "stdout",
     "output_type": "stream",
     "text": [
      "a = p\n",
      "b = i\n",
      "c = n\n",
      "d = g\n"
     ]
    }
   ],
   "source": [
    "s = \"ping\"\n",
    "(a, b), (c, d) = s[:2], s[2:]\n",
    "print(f\"a = {a}\")\n",
    "print(f\"b = {b}\")\n",
    "print(f\"c = {c}\")\n",
    "print(f\"d = {d}\")"
   ]
  },
  {
   "cell_type": "markdown",
   "metadata": {},
   "source": [
    "При этом существует расширенная форма присваивания, которая позволяет иметь различное количество символов"
   ]
  },
  {
   "cell_type": "code",
   "execution_count": 49,
   "metadata": {},
   "outputs": [
    {
     "ename": "ValueError",
     "evalue": "too many values to unpack (expected 3)",
     "output_type": "error",
     "traceback": [
      "\u001b[1;31m---------------------------------------------------------------------------\u001b[0m",
      "\u001b[1;31mValueError\u001b[0m                                Traceback (most recent call last)",
      "Cell \u001b[1;32mIn[49], line 7\u001b[0m\n\u001b[0;32m      4\u001b[0m a, b, c, d \u001b[38;5;241m=\u001b[39m s\n\u001b[0;32m      6\u001b[0m \u001b[38;5;66;03m# А вот это выдаст ошибку\u001b[39;00m\n\u001b[1;32m----> 7\u001b[0m a, b, c \u001b[38;5;241m=\u001b[39m s\n",
      "\u001b[1;31mValueError\u001b[0m: too many values to unpack (expected 3)"
     ]
    }
   ],
   "source": [
    "s = \"ping\"\n",
    "\n",
    "# Это сработает отлично\n",
    "a, b, c, d = s\n",
    "\n",
    "# А вот это выдаст ошибку\n",
    "a, b, c = s"
   ]
  },
  {
   "cell_type": "code",
   "execution_count": 54,
   "metadata": {},
   "outputs": [
    {
     "name": "stdout",
     "output_type": "stream",
     "text": [
      "a = p\n",
      "b = i\n",
      "c = ['n', 'g']\n"
     ]
    }
   ],
   "source": [
    "a, b, *c = \"ping\"\n",
    "\n",
    "print(f\"a = {a}\")\n",
    "print(f\"b = {b}\")\n",
    "print(f\"c = {c}\")\n",
    "\n",
    "# Эквивалентно\n",
    "a, b, c = s[0], s[1], s[2:]"
   ]
  },
  {
   "cell_type": "code",
   "execution_count": 55,
   "metadata": {},
   "outputs": [
    {
     "name": "stdout",
     "output_type": "stream",
     "text": [
      "a = ['p', 'i']\n",
      "b = n\n",
      "c = g\n"
     ]
    }
   ],
   "source": [
    "# А можно сделать так\n",
    "\n",
    "*a, b, c = s\n",
    "print(f\"a = {a}\")\n",
    "print(f\"b = {b}\")\n",
    "print(f\"c = {c}\")\n",
    "\n",
    "\n",
    "# Важно, чтобы была только одна *"
   ]
  },
  {
   "cell_type": "code",
   "execution_count": 66,
   "metadata": {},
   "outputs": [
    {
     "name": "stdout",
     "output_type": "stream",
     "text": [
      "4\n"
     ]
    }
   ],
   "source": [
    "# Например получение последнего элемента без срезов\n",
    "a = [1, 2, 3, 4]\n",
    "*seq, last = a\n",
    "\n",
    "# или тоже самое\n",
    "seq, last = a[:-1], a[-1]\n",
    "\n",
    "# или тоже самое\n",
    "seq = a[:-1]\n",
    "last = a[-1]\n",
    "\n",
    "print(last)"
   ]
  },
  {
   "cell_type": "markdown",
   "metadata": {},
   "source": [
    "## Условия и последовательности\n",
    "\n",
    "Так же можно делать поэлементное сравнение последовательностей, __исключительного одного и того же типа__"
   ]
  },
  {
   "cell_type": "code",
   "execution_count": 105,
   "metadata": {},
   "outputs": [
    {
     "name": "stdout",
     "output_type": "stream",
     "text": [
      "True\n",
      "False\n",
      "False\n",
      "True\n"
     ]
    },
    {
     "data": {
      "text/plain": [
       "True"
      ]
     },
     "execution_count": 105,
     "metadata": {},
     "output_type": "execute_result"
    }
   ],
   "source": [
    "a = [1, 2]\n",
    "b = [1, 2]\n",
    "c = (1, 2)\n",
    "d = (1, 2)\n",
    "\n",
    "# Элементы одинаковы\n",
    "print(a == b)\n",
    "# Но это не один и тот же объект\n",
    "print(a is b)\n",
    "# в то же время, сравнить список и кортеж нельзя\n",
    "print(a == c)\n",
    "# а кортеж с кортежом - легко\n",
    "print(c == d)\n",
    "\n",
    "# Все это эквивалентно\n",
    "a[0] == b[0] and a[1] == b[1]"
   ]
  },
  {
   "cell_type": "markdown",
   "metadata": {},
   "source": [
    "# Исключения (начало)\n",
    "\n",
    "При работе программы могу происходить исключительные ситуации, которые Python не может обработать, о чем он и сообщает. \n",
    "\n",
    "Данные исключительные ситуации останавливают выполнение программы. Python предоставляет инструментарий, который позволяет перехватывать эти исключения и обрабатывать их\n",
    "\n",
    "```Python\n",
    "try:\n",
    "    <код, может произойти исключение>\n",
    "except <тип исключения>:\n",
    "    <что делать>\n",
    "except <тип исключения> as <куда поместить>:\n",
    "    <что делать>\n",
    "except:\n",
    "    <перехват любых исключений>\n",
    "finally:\n",
    "    <выполняет в конце в любом случае>\n",
    "```"
   ]
  },
  {
   "cell_type": "code",
   "execution_count": 73,
   "metadata": {},
   "outputs": [
    {
     "name": "stdout",
     "output_type": "stream",
     "text": [
      "Error:  invalid literal for int() with base 10: 'aaa'\n",
      "end\n",
      "Hello\n"
     ]
    }
   ],
   "source": [
    "a = \"aaa\"\n",
    "\n",
    "try:\n",
    "    n = int(a)\n",
    "except ValueError as e:\n",
    "    print(\"Error: \", e)\n",
    "finally:\n",
    "    print(\"end\")\n",
    "    \n",
    "print(\"Hello\")"
   ]
  },
  {
   "cell_type": "code",
   "execution_count": 60,
   "metadata": {},
   "outputs": [
    {
     "name": "stdout",
     "output_type": "stream",
     "text": [
      "Unknown Error\n",
      "end\n"
     ]
    }
   ],
   "source": [
    "try:\n",
    "    n = int(a)\n",
    "except:\n",
    "    print(\"Unknown Error\")\n",
    "finally:\n",
    "    print(\"end\")"
   ]
  },
  {
   "cell_type": "markdown",
   "metadata": {},
   "source": [
    "# Домашнее задание\n",
    "\n",
    "# Задача 1\n",
    "\n",
    "Необходимо найти все [простые числа](https://ru.wikipedia.org/wiki/%D0%9F%D1%80%D0%BE%D1%81%D1%82%D0%BE%D0%B5_%D1%87%D0%B8%D1%81%D0%BB%D0%BE) от 2 до N, где N - это число которое должен ввести пользователь. Для поиска простых чисел __необходимо__ использовать [решето Эратосфена](https://ru.wikipedia.org/wiki/%D0%A0%D0%B5%D1%88%D0%B5%D1%82%D0%BE_%D0%AD%D1%80%D0%B0%D1%82%D0%BE%D1%81%D1%84%D0%B5%D0%BD%D0%B0).\n",
    "\n",
    "Все также нужно обрабатывать некорректный ввод пользователя.\n",
    "\n",
    "Вывести найденные числа на экран."
   ]
  },
  {
   "cell_type": "markdown",
   "metadata": {},
   "source": [
    "# Задача 2\n",
    "\n",
    "Пользователь вводит два целых числа больше нуля (два отдельных ввода, то есть два последовательных вызова `input`). Нужно найти [наибольший общий делитель](https://ru.wikipedia.org/wiki/%D0%9D%D0%B0%D0%B8%D0%B1%D0%BE%D0%BB%D1%8C%D1%88%D0%B8%D0%B9_%D0%BE%D0%B1%D1%89%D0%B8%D0%B9_%D0%B4%D0%B5%D0%BB%D0%B8%D1%82%D0%B5%D0%BB%D1%8C) этих чисел и вывести его на экран.\n",
    "\n",
    "Все также нужно обрабатывать некорректный ввод пользователя. \n",
    "\n",
    "Отдельный плюс за оптимальный алгоритм."
   ]
  },
  {
   "cell_type": "markdown",
   "metadata": {},
   "source": [
    "# Задача 3 (опционально)\n",
    "\n",
    "Дан лабиринт, пользователь должен ввести координаты начала пути. Нужно ввыести самый **кратчайший** путь из указанной пользователем позиции. Нумерация координаты `x` от нуля слева направа, для `y` - от нуля сверху вниз. Выходом является любая пустая клетка на краю лабиринта.\n",
    "\n",
    "* `#` - это стена\n",
    "* `+` - путь\n",
    "* ` ` - (пробел), пустой пространство\n",
    "\n",
    "Все также нужно обрабатывать некорректный ввод пользователя."
   ]
  },
  {
   "cell_type": "code",
   "execution_count": 9,
   "metadata": {},
   "outputs": [
    {
     "name": "stdout",
     "output_type": "stream",
     "text": [
      "    ██████████████████████████████████████\n",
      "        ██              ██          ██  ██\n",
      "██  ██████████████████  ██████  ██████  ██\n",
      "██      ██                  ██          ██\n",
      "██████  ██  ██████████████████  ██████  ██\n",
      "██      ██              ██  ██  ██  ██  ██\n",
      "██  ██████████  ██████████  ██  ██  ██  ██\n",
      "██                      ██          ██  ██\n",
      "██  ██  ██████  ██████  ██████  ██████  ██\n",
      "██  ██  ██          ██      ██      ██  ██\n",
      "██  ██  ██++██  ██████████████████  ██████\n",
      "██  ██  ██  ██          ██  ██  ██  ██  ██\n",
      "██  ██████████  ██  ██  ██  ██  ██  ██  ██\n",
      "██      ██  ██  ██  ██                  ██\n",
      "██████████  ██████  ██  ██████  ██████████\n",
      "██                  ██      ██      ██  ██\n",
      "██  ██  ██  ██████████████████  ██  ██  ██\n",
      "██  ██  ██      ██  ██          ██      ██\n",
      "██  ██  ██████████  ██  ██████  ██  ██████\n",
      "██  ██          ██      ██      ██        \n",
      "██████████████████████████████████████    \n"
     ]
    }
   ],
   "source": [
    "maze = [\n",
    "    [' ', ' ', '#', '#', '#', '#', '#', '#', '#', '#', '#', '#', '#', '#', '#', '#', '#', '#', '#', '#', '#'],\n",
    "    [' ', ' ', ' ', ' ', '#', ' ', ' ', ' ', ' ', ' ', ' ', ' ', '#', ' ', ' ', ' ', ' ', ' ', '#', ' ', '#'],\n",
    "    ['#', ' ', '#', '#', '#', '#', '#', '#', '#', '#', '#', ' ', '#', '#', '#', ' ', '#', '#', '#', ' ', '#'],\n",
    "    ['#', ' ', ' ', ' ', '#', ' ', ' ', ' ', ' ', ' ', ' ', ' ', ' ', ' ', '#', ' ', ' ', ' ', ' ', ' ', '#'],\n",
    "    ['#', '#', '#', ' ', '#', ' ', '#', '#', '#', '#', '#', '#', '#', '#', '#', ' ', '#', '#', '#', ' ', '#'],\n",
    "    ['#', ' ', ' ', ' ', '#', ' ', ' ', ' ', ' ', ' ', ' ', ' ', '#', ' ', '#', ' ', '#', ' ', '#', ' ', '#'],\n",
    "    ['#', ' ', '#', '#', '#', '#', '#', ' ', '#', '#', '#', '#', '#', ' ', '#', ' ', '#', ' ', '#', ' ', '#'],\n",
    "    ['#', ' ', ' ', ' ', ' ', ' ', ' ', ' ', ' ', ' ', ' ', ' ', '#', ' ', ' ', ' ', ' ', ' ', '#', ' ', '#'],\n",
    "    ['#', ' ', '#', ' ', '#', '#', '#', ' ', '#', '#', '#', ' ', '#', '#', '#', ' ', '#', '#', '#', ' ', '#'],\n",
    "    ['#', ' ', '#', ' ', '#', ' ', ' ', ' ', ' ', ' ', '#', ' ', ' ', ' ', '#', ' ', ' ', ' ', '#', ' ', '#'],\n",
    "    ['#', ' ', '#', ' ', '#', ' ', '#', ' ', '#', '#', '#', '#', '#', '#', '#', '#', '#', ' ', '#', '#', '#'],\n",
    "    ['#', ' ', '#', ' ', '#', ' ', '#', ' ', ' ', ' ', ' ', ' ', '#', ' ', '#', ' ', '#', ' ', '#', ' ', '#'],\n",
    "    ['#', ' ', '#', '#', '#', '#', '#', ' ', '#', ' ', '#', ' ', '#', ' ', '#', ' ', '#', ' ', '#', ' ', '#'],\n",
    "    ['#', ' ', ' ', ' ', '#', ' ', '#', ' ', '#', ' ', '#', ' ', ' ', ' ', ' ', ' ', ' ', ' ', ' ', ' ', '#'],\n",
    "    ['#', '#', '#', '#', '#', ' ', '#', '#', '#', ' ', '#', ' ', '#', '#', '#', ' ', '#', '#', '#', '#', '#'],\n",
    "    ['#', ' ', ' ', ' ', ' ', ' ', ' ', ' ', ' ', ' ', '#', ' ', ' ', ' ', '#', ' ', ' ', ' ', '#', ' ', '#'],\n",
    "    ['#', ' ', '#', ' ', '#', ' ', '#', '#', '#', '#', '#', '#', '#', '#', '#', ' ', '#', ' ', '#', ' ', '#'],\n",
    "    ['#', ' ', '#', ' ', '#', ' ', ' ', ' ', '#', ' ', '#', ' ', ' ', ' ', ' ', ' ', '#', ' ', ' ', ' ', '#'],\n",
    "    ['#', ' ', '#', ' ', '#', '#', '#', '#', '#', ' ', '#', ' ', '#', '#', '#', ' ', '#', ' ', '#', '#', '#'],\n",
    "    ['#', ' ', '#', ' ', ' ', ' ', ' ', ' ', '#', ' ', ' ', ' ', '#', ' ', ' ', ' ', '#', ' ', ' ', ' ', ' '],\n",
    "    ['#', '#', '#', '#', '#', '#', '#', '#', '#', '#', '#', '#', '#', '#', '#', '#', '#', '#', '#', ' ', ' '],\n",
    "]\n",
    "\n",
    "# Распечатаем лабиринт + поставим крестик на начало пути\n",
    "x = 5\n",
    "y = 10\n",
    "\n",
    "maze[y][x] = \"++\"\n",
    "\n",
    "xi, yi = 0, 0\n",
    "while yi < len(maze):\n",
    "    print(\"\".join(maze[yi]).replace(\"#\", \"██\").replace(\" \", \"  \"))\n",
    "    yi += 1"
   ]
  }
 ],
 "metadata": {
  "kernelspec": {
   "display_name": "Python 3 (ipykernel)",
   "language": "python",
   "name": "python3"
  },
  "language_info": {
   "codemirror_mode": {
    "name": "ipython",
    "version": 3
   },
   "file_extension": ".py",
   "mimetype": "text/x-python",
   "name": "python",
   "nbconvert_exporter": "python",
   "pygments_lexer": "ipython3",
   "version": "3.10.11"
  }
 },
 "nbformat": 4,
 "nbformat_minor": 4
}
