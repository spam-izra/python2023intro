{
 "cells": [
  {
   "cell_type": "markdown",
   "metadata": {},
   "source": [
    "# Лекция 8. Классы (продолжение)\n",
    "\n",
    "* Атрибуты\n",
    "* Наследование"
   ]
  },
  {
   "cell_type": "markdown",
   "metadata": {},
   "source": [
    "# Атрибуты\n",
    "\n",
    "Важно различать, что такое атрибуты класса и атрибуты экземпляра"
   ]
  },
  {
   "cell_type": "code",
   "execution_count": 64,
   "metadata": {},
   "outputs": [],
   "source": [
    "class MySecondClass:\n",
    "    # это атрибут класса\n",
    "    var1 = [\"test\"]\n",
    "    \n",
    "    # это метод класса\n",
    "    def Method1(self):\n",
    "        pass\n",
    "    \n",
    "    def __init__(self):\n",
    "        # А вот это создаст атрибут экземпляра во время его создания\n",
    "        self.var2 = [\"test2\"]\n",
    "\n",
    "a = MySecondClass()"
   ]
  },
  {
   "cell_type": "code",
   "execution_count": 65,
   "metadata": {},
   "outputs": [
    {
     "name": "stdout",
     "output_type": "stream",
     "text": [
      "['test']\n",
      "['test2']\n"
     ]
    }
   ],
   "source": [
    "print(a.var1)\n",
    "print(a.var2)"
   ]
  },
  {
   "cell_type": "code",
   "execution_count": 66,
   "metadata": {},
   "outputs": [
    {
     "data": {
      "text/plain": [
       "{'var2': ['test2']}"
      ]
     },
     "execution_count": 66,
     "metadata": {},
     "output_type": "execute_result"
    }
   ],
   "source": [
    "a.__dict__"
   ]
  },
  {
   "cell_type": "code",
   "execution_count": 67,
   "metadata": {},
   "outputs": [
    {
     "data": {
      "text/plain": [
       "mappingproxy({'__module__': '__main__',\n",
       "              'var1': ['test'],\n",
       "              'Method1': <function __main__.MySecondClass.Method1(self)>,\n",
       "              '__init__': <function __main__.MySecondClass.__init__(self)>,\n",
       "              '__dict__': <attribute '__dict__' of 'MySecondClass' objects>,\n",
       "              '__weakref__': <attribute '__weakref__' of 'MySecondClass' objects>,\n",
       "              '__doc__': None})"
      ]
     },
     "execution_count": 67,
     "metadata": {},
     "output_type": "execute_result"
    }
   ],
   "source": [
    "a.__class__.__dict__"
   ]
  },
  {
   "cell_type": "code",
   "execution_count": 68,
   "metadata": {},
   "outputs": [
    {
     "name": "stdout",
     "output_type": "stream",
     "text": [
      "a.var1=['test']\n",
      "a.var2=['test2']\n",
      "b.var1=['test']\n",
      "b.var2=['test2']\n"
     ]
    }
   ],
   "source": [
    "# Создадим второй экземпляр\n",
    "\n",
    "b = MySecondClass()\n",
    "\n",
    "print(f'{a.var1=}')\n",
    "print(f'{a.var2=}')\n",
    "print(f'{b.var1=}')\n",
    "print(f'{b.var2=}')"
   ]
  },
  {
   "cell_type": "code",
   "execution_count": 6,
   "metadata": {},
   "outputs": [
    {
     "name": "stdout",
     "output_type": "stream",
     "text": [
      "a.var1=['test']\n",
      "a.var2=['test2']\n",
      "b.var1=['test']\n",
      "b.var2=['test2', '!']\n"
     ]
    }
   ],
   "source": [
    "# Немного изменим второй экземпляр\n",
    "\n",
    "# изменим атрибут экземпляра класса\n",
    "b.var2.append(\"!\")\n",
    "\n",
    "print(f'{a.var1=}')\n",
    "print(f'{a.var2=}')\n",
    "print(f'{b.var1=}')\n",
    "print(f'{b.var2=}')"
   ]
  },
  {
   "cell_type": "code",
   "execution_count": 7,
   "metadata": {},
   "outputs": [
    {
     "name": "stdout",
     "output_type": "stream",
     "text": [
      "a.var1=['test', '!']\n",
      "a.var2=['test2']\n",
      "b.var1=['test', '!']\n",
      "b.var2=['test2', '!']\n"
     ]
    }
   ],
   "source": [
    "# Немного изменим второй экземпляр\n",
    "\n",
    "# изменим атрибут класса\n",
    "b.var1.append(\"!\")\n",
    "\n",
    "print(f'{a.var1=}')\n",
    "print(f'{a.var2=}')\n",
    "print(f'{b.var1=}')\n",
    "print(f'{b.var2=}')"
   ]
  },
  {
   "cell_type": "code",
   "execution_count": 8,
   "metadata": {},
   "outputs": [
    {
     "name": "stdout",
     "output_type": "stream",
     "text": [
      "a.var1=['test', '!']\n",
      "a.var2=['test2']\n",
      "b.var1=1\n",
      "b.var2=['test2', '!']\n"
     ]
    }
   ],
   "source": [
    "# Немного изменим второй экземпляр\n",
    "\n",
    "# изменим атрибут класса\n",
    "b.var1 = 1\n",
    "\n",
    "# не совсем то, что ожидается\n",
    "print(f'{a.var1=}')\n",
    "print(f'{a.var2=}')\n",
    "print(f'{b.var1=}')\n",
    "print(f'{b.var2=}')"
   ]
  },
  {
   "cell_type": "markdown",
   "metadata": {},
   "source": [
    "При присваивании значения, будет создан атрибут в экземпляре, если его нет, что приводит к сокрытию атрибута класса."
   ]
  },
  {
   "cell_type": "code",
   "execution_count": 9,
   "metadata": {},
   "outputs": [
    {
     "name": "stdout",
     "output_type": "stream",
     "text": [
      "b.var1=1\n",
      "b.__class__.var1=['test', '!']\n"
     ]
    },
    {
     "data": {
      "text/plain": [
       "{'var2': ['test2', '!'], 'var1': 1}"
      ]
     },
     "execution_count": 9,
     "metadata": {},
     "output_type": "execute_result"
    }
   ],
   "source": [
    "print(f'{b.var1=}')\n",
    "print(f'{b.__class__.var1=}')\n",
    "\n",
    "b.__dict__"
   ]
  },
  {
   "cell_type": "markdown",
   "metadata": {},
   "source": [
    "# Наследование"
   ]
  },
  {
   "cell_type": "markdown",
   "metadata": {},
   "source": [
    "Наследование является очень мощным механизмом, который позволяет повторно эффективно использовать существующий код. В Python'е через наследование можно настраивать поведение классов. __Помним, что self - это ссылка на текущий экземпляр класса.__"
   ]
  },
  {
   "cell_type": "code",
   "execution_count": 14,
   "metadata": {},
   "outputs": [],
   "source": [
    "class C2:\n",
    "    A = \"hi\"\n",
    "    pass\n",
    "\n",
    "class C3:\n",
    "    B = \"ho\"\n",
    "    pass\n",
    "\n",
    "# Наследование\n",
    "# Мы просто перечисляем классы внутри скобок\n",
    "class C1(C2, C3):\n",
    "    pass"
   ]
  },
  {
   "cell_type": "code",
   "execution_count": 15,
   "metadata": {},
   "outputs": [
    {
     "data": {
      "text/plain": [
       "('hi', 'ho')"
      ]
     },
     "execution_count": 15,
     "metadata": {},
     "output_type": "execute_result"
    }
   ],
   "source": [
    "a = C1()\n",
    "a.A, a.B"
   ]
  },
  {
   "cell_type": "markdown",
   "metadata": {},
   "source": [
    "В Python наследование, фактически, позволяет выстроить цепочку объектов, среди которых будет искать необходимый атрибут."
   ]
  },
  {
   "cell_type": "markdown",
   "metadata": {},
   "source": [
    "> `isinstance(obj, class_or_tuple)` - позволяет проверить, является ли объект потомком какого-то класса"
   ]
  },
  {
   "cell_type": "code",
   "execution_count": 16,
   "metadata": {},
   "outputs": [
    {
     "name": "stdout",
     "output_type": "stream",
     "text": [
      "True\n",
      "True\n"
     ]
    }
   ],
   "source": [
    "a = C1()\n",
    "print(isinstance(a, C2))\n",
    "print(isinstance(a, C3))"
   ]
  },
  {
   "cell_type": "code",
   "execution_count": 12,
   "metadata": {},
   "outputs": [
    {
     "name": "stdout",
     "output_type": "stream",
     "text": [
      "False\n"
     ]
    }
   ],
   "source": [
    "a = C2()\n",
    "print(isinstance(a, C3))"
   ]
  },
  {
   "cell_type": "code",
   "execution_count": 17,
   "metadata": {},
   "outputs": [
    {
     "name": "stdout",
     "output_type": "stream",
     "text": [
      "False\n",
      "True\n",
      "False\n"
     ]
    }
   ],
   "source": [
    "# Это можно делать для любых объектов\n",
    "print(isinstance(1, str))\n",
    "print(isinstance(1, int))\n",
    "print(isinstance(1, float))"
   ]
  },
  {
   "cell_type": "markdown",
   "metadata": {},
   "source": [
    "## Перегрузка методов "
   ]
  },
  {
   "cell_type": "code",
   "execution_count": 14,
   "metadata": {},
   "outputs": [],
   "source": [
    "class Employee:\n",
    "    def __init__(self):\n",
    "        pass\n",
    "    \n",
    "    def coefficient(self):\n",
    "        return 1.0\n",
    "    \n",
    "    def computeSalary(self):\n",
    "        return 10000 * self.coefficient()\n",
    "    \n",
    "    def promote(self):\n",
    "        pass\n",
    "    \n",
    "    def retire(self):\n",
    "        pass"
   ]
  },
  {
   "cell_type": "markdown",
   "metadata": {},
   "source": [
    "Если мы захочем ввести новый тип сотрудников со специальными правками, то мы могли бы просто скопировать-вставить этот класс и в этой копии что-то изменить. Это неправильный путь. Лучше использовать наследование:"
   ]
  },
  {
   "cell_type": "code",
   "execution_count": 75,
   "metadata": {},
   "outputs": [],
   "source": [
    "class Engineer(Employee):\n",
    "    def computeSalary(self):\n",
    "        return 20000 * self.coefficient()"
   ]
  },
  {
   "cell_type": "code",
   "execution_count": 16,
   "metadata": {},
   "outputs": [
    {
     "name": "stdout",
     "output_type": "stream",
     "text": [
      "10000.0\n",
      "10000.0\n",
      "20000.0\n"
     ]
    }
   ],
   "source": [
    "person1 = Employee()\n",
    "person2 = Employee()\n",
    "person3 = Engineer()\n",
    "\n",
    "for person in [person1, person2, person3]:\n",
    "    print(person.computeSalary())"
   ]
  },
  {
   "cell_type": "markdown",
   "metadata": {},
   "source": [
    "## Особенности перегрузки\n",
    "\n",
    "Позволяют настроить внутреннее состояние экземпляра класса"
   ]
  },
  {
   "cell_type": "code",
   "execution_count": 23,
   "metadata": {},
   "outputs": [],
   "source": [
    "class Employee:\n",
    "    def __init__(self, name, pay, job=\"Employee\"):\n",
    "        self._name = name\n",
    "        self._pay = pay\n",
    "        self._job = job\n",
    "        \n",
    "    def giveRaise(self, percent):\n",
    "        self._pay *= (1 + percent)\n",
    "    \n",
    "    def computeSalary(self):\n",
    "        return self._pay\n",
    "    \n",
    "    def __str__(self):\n",
    "        return f'[{self._job:>10s}] {self._name:>10s}: {self.computeSalary()}'"
   ]
  },
  {
   "cell_type": "code",
   "execution_count": 24,
   "metadata": {},
   "outputs": [
    {
     "name": "stdout",
     "output_type": "stream",
     "text": [
      "[  Employee]       John: 11000.0\n"
     ]
    }
   ],
   "source": [
    "person1 = Employee(\"John\", 10000)\n",
    "person1.giveRaise(.10)\n",
    "\n",
    "print(person1)"
   ]
  },
  {
   "cell_type": "markdown",
   "metadata": {},
   "source": [
    "Нам нужно модифицировать метод, отвечающий за повышение зарплаты"
   ]
  },
  {
   "cell_type": "code",
   "execution_count": 25,
   "metadata": {},
   "outputs": [],
   "source": [
    "class Engineer(Employee):\n",
    "    def giveRaise(self, percent, bonus=0.1):\n",
    "        # Плохой способ, так как копирование-вставка\n",
    "        self._pay *= (1 + percent + bonus)"
   ]
  },
  {
   "cell_type": "code",
   "execution_count": 26,
   "metadata": {},
   "outputs": [],
   "source": [
    "class Engineer(Employee):\n",
    "    def giveRaise(self, percent, bonus=0.1):\n",
    "        # Оптимальный, мы по полной используем старый код\n",
    "        #Employee.giveRaise(self, percent + bonus)  \n",
    "        super().giveRaise(percent + bonus)"
   ]
  },
  {
   "cell_type": "code",
   "execution_count": 27,
   "metadata": {},
   "outputs": [
    {
     "name": "stdout",
     "output_type": "stream",
     "text": [
      "[  Employee]       Jack: 11000.0\n"
     ]
    }
   ],
   "source": [
    "# обратите внимание, что вызван конструктор предка\n",
    "person2 = Engineer(\"Jack\", 10000)\n",
    "person2.giveRaise(.00)\n",
    "\n",
    "print(person2)"
   ]
  },
  {
   "cell_type": "markdown",
   "metadata": {},
   "source": [
    "## Перегрузка конструкторов"
   ]
  },
  {
   "cell_type": "markdown",
   "metadata": {},
   "source": [
    "Теперь нам хотелось бы настроить атрибут `_job`, так как его значение логически зависит от конкретного класса"
   ]
  },
  {
   "cell_type": "code",
   "execution_count": 90,
   "metadata": {},
   "outputs": [
    {
     "ename": "AttributeError",
     "evalue": "'Engineer' object has no attribute '_pay'",
     "output_type": "error",
     "traceback": [
      "\u001b[0;31m---------------------------------------------------------------------------\u001b[0m",
      "\u001b[0;31mAttributeError\u001b[0m                            Traceback (most recent call last)",
      "\u001b[0;32m<ipython-input-90-407df0137c3e>\u001b[0m in \u001b[0;36m<module>\u001b[0;34m\u001b[0m\n\u001b[1;32m     10\u001b[0m \u001b[0;31m# получаем ошибку, так как тут у объекта уже есть конструктор\u001b[0m\u001b[0;34m\u001b[0m\u001b[0;34m\u001b[0m\u001b[0m\n\u001b[1;32m     11\u001b[0m \u001b[0mperson2\u001b[0m \u001b[0;34m=\u001b[0m \u001b[0mEngineer\u001b[0m\u001b[0;34m(\u001b[0m\u001b[0;34m\"Jack\"\u001b[0m\u001b[0;34m,\u001b[0m \u001b[0;36m10000\u001b[0m\u001b[0;34m)\u001b[0m\u001b[0;34m\u001b[0m\u001b[0;34m\u001b[0m\u001b[0m\n\u001b[0;32m---> 12\u001b[0;31m \u001b[0mperson2\u001b[0m\u001b[0;34m.\u001b[0m\u001b[0mgiveRaise\u001b[0m\u001b[0;34m(\u001b[0m\u001b[0;36m.1\u001b[0m\u001b[0;34m)\u001b[0m\u001b[0;34m\u001b[0m\u001b[0;34m\u001b[0m\u001b[0m\n\u001b[0m",
      "\u001b[0;32m<ipython-input-90-407df0137c3e>\u001b[0m in \u001b[0;36mgiveRaise\u001b[0;34m(self, percent, bonus)\u001b[0m\n\u001b[1;32m      6\u001b[0m \u001b[0;34m\u001b[0m\u001b[0m\n\u001b[1;32m      7\u001b[0m     \u001b[0;32mdef\u001b[0m \u001b[0mgiveRaise\u001b[0m\u001b[0;34m(\u001b[0m\u001b[0mself\u001b[0m\u001b[0;34m,\u001b[0m \u001b[0mpercent\u001b[0m\u001b[0;34m,\u001b[0m \u001b[0mbonus\u001b[0m\u001b[0;34m=\u001b[0m\u001b[0;36m0.1\u001b[0m\u001b[0;34m)\u001b[0m\u001b[0;34m:\u001b[0m\u001b[0;34m\u001b[0m\u001b[0;34m\u001b[0m\u001b[0m\n\u001b[0;32m----> 8\u001b[0;31m         \u001b[0mEmployee\u001b[0m\u001b[0;34m.\u001b[0m\u001b[0mgiveRaise\u001b[0m\u001b[0;34m(\u001b[0m\u001b[0mself\u001b[0m\u001b[0;34m,\u001b[0m \u001b[0mpercent\u001b[0m \u001b[0;34m+\u001b[0m \u001b[0mbonus\u001b[0m\u001b[0;34m)\u001b[0m\u001b[0;34m\u001b[0m\u001b[0;34m\u001b[0m\u001b[0m\n\u001b[0m\u001b[1;32m      9\u001b[0m \u001b[0;34m\u001b[0m\u001b[0m\n\u001b[1;32m     10\u001b[0m \u001b[0;31m# получаем ошибку, так как тут у объекта уже есть конструктор\u001b[0m\u001b[0;34m\u001b[0m\u001b[0;34m\u001b[0m\u001b[0m\n",
      "\u001b[0;32m<ipython-input-79-8357b9878c91>\u001b[0m in \u001b[0;36mgiveRaise\u001b[0;34m(self, percent)\u001b[0m\n\u001b[1;32m      6\u001b[0m \u001b[0;34m\u001b[0m\u001b[0m\n\u001b[1;32m      7\u001b[0m     \u001b[0;32mdef\u001b[0m \u001b[0mgiveRaise\u001b[0m\u001b[0;34m(\u001b[0m\u001b[0mself\u001b[0m\u001b[0;34m,\u001b[0m \u001b[0mpercent\u001b[0m\u001b[0;34m)\u001b[0m\u001b[0;34m:\u001b[0m\u001b[0;34m\u001b[0m\u001b[0;34m\u001b[0m\u001b[0m\n\u001b[0;32m----> 8\u001b[0;31m         \u001b[0mself\u001b[0m\u001b[0;34m.\u001b[0m\u001b[0m_pay\u001b[0m \u001b[0;34m*=\u001b[0m \u001b[0;34m(\u001b[0m\u001b[0;36m1\u001b[0m \u001b[0;34m+\u001b[0m \u001b[0mpercent\u001b[0m\u001b[0;34m)\u001b[0m\u001b[0;34m\u001b[0m\u001b[0;34m\u001b[0m\u001b[0m\n\u001b[0m\u001b[1;32m      9\u001b[0m \u001b[0;34m\u001b[0m\u001b[0m\n\u001b[1;32m     10\u001b[0m     \u001b[0;32mdef\u001b[0m \u001b[0mcomputeSalary\u001b[0m\u001b[0;34m(\u001b[0m\u001b[0mself\u001b[0m\u001b[0;34m)\u001b[0m\u001b[0;34m:\u001b[0m\u001b[0;34m\u001b[0m\u001b[0;34m\u001b[0m\u001b[0m\n",
      "\u001b[0;31mAttributeError\u001b[0m: 'Engineer' object has no attribute '_pay'"
     ]
    }
   ],
   "source": [
    "class Engineer(Employee):\n",
    "    def __init__(self, name, pay):\n",
    "        #self._pay = pay\n",
    "        #self._name = name\n",
    "        self._job = \"Engineer\"\n",
    "        \n",
    "    def giveRaise(self, percent, bonus=0.1):\n",
    "        Employee.giveRaise(self, percent + bonus)  \n",
    "     \n",
    "# получаем ошибку, так как тут у объекта уже есть конструктор\n",
    "person2 = Engineer(\"Jack\", 10000)\n",
    "person2.giveRaise(.1)"
   ]
  },
  {
   "cell_type": "code",
   "execution_count": 23,
   "metadata": {},
   "outputs": [
    {
     "ename": "AttributeError",
     "evalue": "'Engineer' object has no attribute '_name'",
     "output_type": "error",
     "traceback": [
      "\u001b[0;31m---------------------------------------------------------------------------\u001b[0m",
      "\u001b[0;31mAttributeError\u001b[0m                            Traceback (most recent call last)",
      "\u001b[0;32m<ipython-input-23-5b7d9f133f64>\u001b[0m in \u001b[0;36m<module>\u001b[0;34m\u001b[0m\n\u001b[1;32m      2\u001b[0m \u001b[0;34m\u001b[0m\u001b[0m\n\u001b[1;32m      3\u001b[0m \u001b[0mperson2\u001b[0m \u001b[0;34m=\u001b[0m \u001b[0mEngineer\u001b[0m\u001b[0;34m(\u001b[0m\u001b[0;34m)\u001b[0m\u001b[0;34m\u001b[0m\u001b[0;34m\u001b[0m\u001b[0m\n\u001b[0;32m----> 4\u001b[0;31m \u001b[0mperson\u001b[0m\u001b[0;34m.\u001b[0m\u001b[0m_name\u001b[0m\u001b[0;34m\u001b[0m\u001b[0;34m\u001b[0m\u001b[0m\n\u001b[0m",
      "\u001b[0;31mAttributeError\u001b[0m: 'Engineer' object has no attribute '_name'"
     ]
    }
   ],
   "source": [
    "# а так у нас будут отсутствовать атрибуты из Employee\n",
    "\n",
    "person2 = Engineer()\n",
    "person._name"
   ]
  },
  {
   "cell_type": "code",
   "execution_count": 28,
   "metadata": {},
   "outputs": [],
   "source": [
    "class Engineer(Employee):\n",
    "    def __init__(self, name, pay):\n",
    "        # нам нужно явно проинициализировать Employee\n",
    "        super().__init__(name, pay, job=\"Engineer\")\n",
    "        # Employee.__init__(self, name, pay, job=\"Engineer\")\n",
    "        \n",
    "        \n",
    "    def giveRaise(self, percent, bonus=0.1):\n",
    "        Employee.giveRaise(self, percent + bonus)  "
   ]
  },
  {
   "cell_type": "code",
   "execution_count": 29,
   "metadata": {},
   "outputs": [
    {
     "name": "stdout",
     "output_type": "stream",
     "text": [
      "[  Engineer]       Jack: 10000\n"
     ]
    }
   ],
   "source": [
    "person2 = Engineer(\"Jack\", 10000)\n",
    "print(person2)"
   ]
  },
  {
   "cell_type": "code",
   "execution_count": 30,
   "metadata": {},
   "outputs": [
    {
     "data": {
      "text/plain": [
       "{'_name': 'Jack', '_pay': 10000, '_job': 'Engineer'}"
      ]
     },
     "execution_count": 30,
     "metadata": {},
     "output_type": "execute_result"
    }
   ],
   "source": [
    "person2.__dict__"
   ]
  },
  {
   "cell_type": "markdown",
   "metadata": {},
   "source": [
    "# super\n",
    "\n",
    "> super([type[, object]]) - данная функция ищет метод в родительском классе, игнорируя тип текущего объекта\n",
    "\n"
   ]
  },
  {
   "cell_type": "code",
   "execution_count": 95,
   "metadata": {},
   "outputs": [],
   "source": [
    "class Engineer(Employee):\n",
    "    def __init__(self, name, pay):\n",
    "        # нам нужно явно проинициализировать Employee\n",
    "        super().__init__(name, pay, job=\"Engineer\")\n",
    "                \n",
    "    def giveRaise(self, percent, bonus=0.1):\n",
    "        super().giveRaise(percent + bonus)  "
   ]
  },
  {
   "cell_type": "code",
   "execution_count": 96,
   "metadata": {},
   "outputs": [
    {
     "name": "stdout",
     "output_type": "stream",
     "text": [
      "[Engineer] Jack: 10000\n"
     ]
    }
   ],
   "source": [
    "person2 = Engineer(\"Jack\", 10000)\n",
    "print(person2)"
   ]
  },
  {
   "cell_type": "markdown",
   "metadata": {},
   "source": [
    "## Ромбовидное наследование\n",
    "\n",
    "Поиск метода осуществляется согласно [MRO](https://ru.wikipedia.org/wiki/C3-%D0%BB%D0%B8%D0%BD%D0%B5%D0%B0%D1%80%D0%B8%D0%B7%D0%B0%D1%86%D0%B8%D1%8F)."
   ]
  },
  {
   "cell_type": "code",
   "execution_count": 31,
   "metadata": {},
   "outputs": [
    {
     "name": "stdout",
     "output_type": "stream",
     "text": [
      "C1\n"
     ]
    }
   ],
   "source": [
    "# Метод будет выбран согласно MRO из классов-родителей\n",
    "\n",
    "class C1:\n",
    "    def print(self):\n",
    "        print(\"C1\")\n",
    "        \n",
    "class C2:\n",
    "    def print(self):\n",
    "        print(\"C2\")\n",
    "        \n",
    "class C3(C1, C2):\n",
    "    pass\n",
    "\n",
    "# Берется первый в списке\n",
    "C3().print()"
   ]
  },
  {
   "cell_type": "code",
   "execution_count": 29,
   "metadata": {},
   "outputs": [
    {
     "name": "stdout",
     "output_type": "stream",
     "text": [
      "C1\n"
     ]
    }
   ],
   "source": [
    "# Фактически тоже самое, но написано руками\n",
    "\n",
    "class C1:\n",
    "    def print(self):\n",
    "        print(\"C1\")\n",
    "        \n",
    "class C2:\n",
    "    def print(self):\n",
    "        print(\"C2\")\n",
    "        \n",
    "class C3(C1, C2):\n",
    "    def print(self):\n",
    "        super().print()\n",
    "\n",
    "# Берется первый в списке\n",
    "C3().print()"
   ]
  },
  {
   "cell_type": "code",
   "execution_count": 98,
   "metadata": {},
   "outputs": [
    {
     "name": "stdout",
     "output_type": "stream",
     "text": [
      "C2\n"
     ]
    }
   ],
   "source": [
    "# Можно выбрать конкретную реализацию, если нет нужды полагаться на MRO\n",
    "\n",
    "class C3(C1, C2):\n",
    "    def print(self):\n",
    "        C2.print(self)\n",
    "        \n",
    "C3().print()"
   ]
  },
  {
   "cell_type": "markdown",
   "metadata": {},
   "source": [
    "Есть случаи, когда `super()` более чем оправдан - это использование инициализации в случае сложной зависимости классов"
   ]
  },
  {
   "cell_type": "code",
   "execution_count": 34,
   "metadata": {},
   "outputs": [],
   "source": [
    "class A1:\n",
    "    def __init__(self):\n",
    "        print(\"A1\")\n",
    "\n",
    "class B1(A1):\n",
    "    def __init__(self):\n",
    "        super().__init__()\n",
    "        print(\"B1\")\n",
    "        \n",
    "class B2(A1):\n",
    "    def __init__(self):\n",
    "        super().__init__()\n",
    "        print(\"B2\")\n",
    "        \n",
    "class C1(B1, B2):\n",
    "    def __init__(self):\n",
    "        super().__init__()\n",
    "        print(\"C1\")"
   ]
  },
  {
   "cell_type": "code",
   "execution_count": 43,
   "metadata": {},
   "outputs": [
    {
     "name": "stdout",
     "output_type": "stream",
     "text": [
      "A1\n",
      "B2\n",
      "B1\n",
      "C1\n"
     ]
    },
    {
     "data": {
      "text/plain": [
       "<__main__.C1 at 0x23a7f068dc0>"
      ]
     },
     "execution_count": 43,
     "metadata": {},
     "output_type": "execute_result"
    }
   ],
   "source": [
    "C1()"
   ]
  },
  {
   "cell_type": "markdown",
   "metadata": {},
   "source": [
    "# Экранировка имен переменных\n",
    "\n",
    "Можно использовать автоматическую экранировку имен, чтобы не испортить поведение родительских классов"
   ]
  },
  {
   "cell_type": "code",
   "execution_count": 44,
   "metadata": {},
   "outputs": [
    {
     "name": "stdout",
     "output_type": "stream",
     "text": [
      "15\n",
      "15\n"
     ]
    }
   ],
   "source": [
    "# Проблема\n",
    "\n",
    "class C1:\n",
    "    X = 15\n",
    "    def methodC1(self):\n",
    "        print(self.X)\n",
    "        \n",
    "class C2:\n",
    "    X = 51\n",
    "    def methodC2(self):\n",
    "        print(self.X)\n",
    "        \n",
    "class C3(C1, C2):\n",
    "    pass\n",
    "\n",
    "a = C3()\n",
    "# не то, что хотели бы получить\n",
    "a.methodC1()\n",
    "a.methodC2()"
   ]
  },
  {
   "cell_type": "code",
   "execution_count": 109,
   "metadata": {},
   "outputs": [
    {
     "name": "stdout",
     "output_type": "stream",
     "text": [
      "15\n",
      "51\n"
     ]
    }
   ],
   "source": [
    "# Решение\n",
    "\n",
    "class C1:\n",
    "    __X = 15\n",
    "    def methodC1(self):\n",
    "        print(self.__X)\n",
    "        \n",
    "class C2:\n",
    "    __X = 51\n",
    "    def methodC2(self):\n",
    "        print(self.__X)\n",
    "        \n",
    "class C3(C1, C2):\n",
    "    pass\n",
    "\n",
    "a = C3()\n",
    "\n",
    "# то, что хотели бы получить\n",
    "a.methodC1()\n",
    "a.methodC2()"
   ]
  },
  {
   "cell_type": "code",
   "execution_count": 107,
   "metadata": {},
   "outputs": [
    {
     "ename": "AttributeError",
     "evalue": "'C3' object has no attribute '__X'",
     "output_type": "error",
     "traceback": [
      "\u001b[0;31m---------------------------------------------------------------------------\u001b[0m",
      "\u001b[0;31mAttributeError\u001b[0m                            Traceback (most recent call last)",
      "\u001b[0;32m<ipython-input-107-a71496458f44>\u001b[0m in \u001b[0;36m<module>\u001b[0;34m\u001b[0m\n\u001b[1;32m      1\u001b[0m \u001b[0;31m# Даст ошибку\u001b[0m\u001b[0;34m\u001b[0m\u001b[0;34m\u001b[0m\u001b[0m\n\u001b[1;32m      2\u001b[0m \u001b[0;34m\u001b[0m\u001b[0m\n\u001b[0;32m----> 3\u001b[0;31m \u001b[0ma\u001b[0m\u001b[0;34m.\u001b[0m\u001b[0m__X\u001b[0m\u001b[0;34m\u001b[0m\u001b[0;34m\u001b[0m\u001b[0m\n\u001b[0m",
      "\u001b[0;31mAttributeError\u001b[0m: 'C3' object has no attribute '__X'"
     ]
    }
   ],
   "source": [
    "# Даст ошибку\n",
    "\n",
    "a.__X"
   ]
  },
  {
   "cell_type": "code",
   "execution_count": 36,
   "metadata": {},
   "outputs": [
    {
     "data": {
      "text/plain": [
       "['_C1__X',\n",
       " '_C2__X',\n",
       " '__class__',\n",
       " '__delattr__',\n",
       " '__dict__',\n",
       " '__dir__',\n",
       " '__doc__',\n",
       " '__eq__',\n",
       " '__format__',\n",
       " '__ge__',\n",
       " '__getattribute__',\n",
       " '__gt__',\n",
       " '__hash__',\n",
       " '__init__',\n",
       " '__init_subclass__',\n",
       " '__le__',\n",
       " '__lt__',\n",
       " '__module__',\n",
       " '__ne__',\n",
       " '__new__',\n",
       " '__reduce__',\n",
       " '__reduce_ex__',\n",
       " '__repr__',\n",
       " '__setattr__',\n",
       " '__sizeof__',\n",
       " '__str__',\n",
       " '__subclasshook__',\n",
       " '__weakref__',\n",
       " 'methodC1',\n",
       " 'methodC2']"
      ]
     },
     "execution_count": 36,
     "metadata": {},
     "output_type": "execute_result"
    }
   ],
   "source": [
    "# Посмотрим, как это работает\n",
    "dir(a)"
   ]
  },
  {
   "cell_type": "code",
   "execution_count": 108,
   "metadata": {},
   "outputs": [
    {
     "data": {
      "text/plain": [
       "15"
      ]
     },
     "execution_count": 108,
     "metadata": {},
     "output_type": "execute_result"
    }
   ],
   "source": [
    "a._C1__X"
   ]
  },
  {
   "cell_type": "markdown",
   "metadata": {},
   "source": [
    "## Примеси\n",
    "\n",
    "Достаточно интересный способ использования наследования. Можно создать класс, кототый реализует какое-то четкое поведение, но самостоятельно никогда не используется или не может быть использован. Нужен только для уточнения поведения других классов."
   ]
  },
  {
   "cell_type": "code",
   "execution_count": 46,
   "metadata": {},
   "outputs": [],
   "source": [
    "class AttributeInsiderMixin:\n",
    "    \"\"\"Примесь, которая выводит атрибуты экземпляра\"\"\"\n",
    "    def insideJob(self):\n",
    "        print(self.__class__.__name__, \":\")\n",
    "        for key in self.__dict__:\n",
    "            print(f\"\\t => {key:>15s} = {self.__dict__[key]}\")"
   ]
  },
  {
   "cell_type": "code",
   "execution_count": 47,
   "metadata": {},
   "outputs": [
    {
     "data": {
      "text/plain": [
       "\u001b[1;31mInit signature:\u001b[0m \u001b[0mAttributeInsiderMixin\u001b[0m\u001b[1;33m(\u001b[0m\u001b[1;33m)\u001b[0m\u001b[1;33m\u001b[0m\u001b[1;33m\u001b[0m\u001b[0m\n",
       "\u001b[1;31mDocstring:\u001b[0m      Примесь, которая выводит атрибуты экземпляра\n",
       "\u001b[1;31mType:\u001b[0m           type\n",
       "\u001b[1;31mSubclasses:\u001b[0m     "
      ]
     },
     "metadata": {},
     "output_type": "display_data"
    }
   ],
   "source": [
    "AttributeInsiderMixin?"
   ]
  },
  {
   "cell_type": "code",
   "execution_count": 48,
   "metadata": {},
   "outputs": [],
   "source": [
    "class Engineer(Employee, AttributeInsiderMixin):\n",
    "    def __init__(self, name, pay):\n",
    "        # нам нужно явно проинициализировать Employee\n",
    "        Employee.__init__(self, name, pay, job=\"Engineer\")\n",
    "        \n",
    "        # использование двойного подчеркивания экранирует имя переменной\n",
    "        self.__test = \"testing\"\n",
    "        \n",
    "    def giveRaise(self, percent, bonus=0.1):\n",
    "        Employee.giveRaise(self, percent + bonus)  \n",
    "        \n",
    "    def print(self):\n",
    "        print(self.__test)"
   ]
  },
  {
   "cell_type": "code",
   "execution_count": 49,
   "metadata": {},
   "outputs": [
    {
     "name": "stdout",
     "output_type": "stream",
     "text": [
      "Engineer :\n",
      "\t =>           _name = Jack\n",
      "\t =>            _pay = 10000\n",
      "\t =>            _job = Engineer\n",
      "\t => _Engineer__test = testing\n"
     ]
    }
   ],
   "source": [
    "person = Engineer(\"Jack\", 10000)\n",
    "\n",
    "person.insideJob()"
   ]
  },
  {
   "cell_type": "markdown",
   "metadata": {},
   "source": [
    "Можно пойти дальше и сделать это чуть удобнее"
   ]
  },
  {
   "cell_type": "code",
   "execution_count": 50,
   "metadata": {},
   "outputs": [],
   "source": [
    "class PrettyPrintMixin:\n",
    "    def __str__(self):\n",
    "        res = \"%s: \\n\" % self.__class__.__name__\n",
    "        for key in self.__dict__:\n",
    "            res += f\"\\t => {key:>15s} = {self.__dict__[key]}\\n\"\n",
    "        res += \"\\n\"\n",
    "        return res\n",
    "        \n",
    "    def __repr__(self):\n",
    "        return self.__str__()"
   ]
  },
  {
   "cell_type": "code",
   "execution_count": 51,
   "metadata": {},
   "outputs": [],
   "source": [
    "# Порядок наследования важен, так как мы уже определили \n",
    "# свой метод __str__ в Employee\n",
    "#\n",
    "class Engineer(PrettyPrintMixin, Employee):\n",
    "    def __init__(self, name, pay):\n",
    "        # нам нужно явно проинициализировать Employee\n",
    "        Employee.__init__(self, name, pay, job=\"Engineer\")\n",
    "        \n",
    "        # использование двойного подчеркивания экранирует имя переменной\n",
    "        self.__test = \"testing\"\n",
    "        \n",
    "    def giveRaise(self, percent, bonus=0.1):\n",
    "        Employee.giveRaise(self, percent + bonus)  "
   ]
  },
  {
   "cell_type": "code",
   "execution_count": 52,
   "metadata": {},
   "outputs": [
    {
     "data": {
      "text/plain": [
       "Engineer: \n",
       "\t =>           _name = Jack\n",
       "\t =>            _pay = 10000\n",
       "\t =>            _job = Engineer\n",
       "\t => _Engineer__test = testing\n"
      ]
     },
     "execution_count": 52,
     "metadata": {},
     "output_type": "execute_result"
    }
   ],
   "source": [
    "Engineer(\"Jack\", 10000)"
   ]
  },
  {
   "cell_type": "markdown",
   "metadata": {},
   "source": [
    "## Функторы\n",
    "\n",
    "Можно создать класс, которые ведет себя как функция"
   ]
  },
  {
   "cell_type": "code",
   "execution_count": 44,
   "metadata": {},
   "outputs": [
    {
     "data": {
      "text/plain": [
       "-15"
      ]
     },
     "execution_count": 44,
     "metadata": {},
     "output_type": "execute_result"
    }
   ],
   "source": [
    "# Проблема\n",
    "\n",
    "def line(x, k, b):\n",
    "    return x*k + b\n",
    "\n",
    "line(10, -2, 5)"
   ]
  },
  {
   "cell_type": "code",
   "execution_count": 45,
   "metadata": {},
   "outputs": [
    {
     "data": {
      "text/plain": [
       "-15"
      ]
     },
     "execution_count": 45,
     "metadata": {},
     "output_type": "execute_result"
    }
   ],
   "source": [
    "# Решение\n",
    "\n",
    "class Line:\n",
    "    def __init__(self, k, b):\n",
    "        self.__k = k\n",
    "        self.__b = b\n",
    "        \n",
    "    def __call__(self, x):\n",
    "        return x*self.__k + self.__b\n",
    "    \n",
    "f = Line(-2, 5)\n",
    "f(10)"
   ]
  },
  {
   "cell_type": "markdown",
   "metadata": {},
   "source": [
    "Можно использовать функторы в любых местах, где ожидается функция."
   ]
  },
  {
   "cell_type": "code",
   "execution_count": 46,
   "metadata": {},
   "outputs": [
    {
     "name": "stdout",
     "output_type": "stream",
     "text": [
      "[0, 1, 2, 3, 4, 5, 6, 7, 8, 9, 10, 11, 12, 13, 14, 15, 16, 17, 18, 19]\n",
      "[True, True, True, True, True, True, True, True, True, True, False, False, False, False, False, False, False, False, False, False]\n",
      "[True, True, True, True, True, True, True, True, True, True, False, False, False, False, False, False, False, False, False, False]\n",
      "[0, 1, 2, 3, 4, 5, 6, 7, 8, 9]\n"
     ]
    }
   ],
   "source": [
    "class Filter:\n",
    "    def __init__(self, thr):\n",
    "        self._thr = thr\n",
    "        \n",
    "    def __call__(self, x):\n",
    "        return x < self._thr\n",
    "    \n",
    "functor = Filter(10)\n",
    "functor(17)\n",
    "\n",
    "# Создадим массив чисел\n",
    "series = [i for i in range(20)]\n",
    "print(series)\n",
    "\n",
    "\n",
    "# проверим, можем ли мы использовать класс как функцию\n",
    "print(list(map(functor, series)))\n",
    "# эквивалент\n",
    "print(list(map(lambda x: x < 10, series)))\n",
    "\n",
    "print(list(filter(functor, series)))"
   ]
  },
  {
   "cell_type": "markdown",
   "metadata": {},
   "source": [
    "## Абстрактные классы\n",
    "\n",
    "Можно создать класс, который нельзя использовать, но он будет являться подсказкой для программистов, которые будут использовать ваш фреймворк."
   ]
  },
  {
   "cell_type": "code",
   "execution_count": 117,
   "metadata": {},
   "outputs": [
    {
     "ename": "NotImplementedError",
     "evalue": "",
     "output_type": "error",
     "traceback": [
      "\u001b[0;31m---------------------------------------------------------------------------\u001b[0m",
      "\u001b[0;31mNotImplementedError\u001b[0m                       Traceback (most recent call last)",
      "\u001b[0;32m<ipython-input-117-89ee9993e440>\u001b[0m in \u001b[0;36m<module>\u001b[0;34m\u001b[0m\n\u001b[1;32m      8\u001b[0m \u001b[0;34m\u001b[0m\u001b[0m\n\u001b[1;32m      9\u001b[0m \u001b[0mm\u001b[0m \u001b[0;34m=\u001b[0m \u001b[0mModel\u001b[0m\u001b[0;34m(\u001b[0m\u001b[0;34m)\u001b[0m\u001b[0;34m\u001b[0m\u001b[0;34m\u001b[0m\u001b[0m\n\u001b[0;32m---> 10\u001b[0;31m \u001b[0mm\u001b[0m\u001b[0;34m.\u001b[0m\u001b[0mfit\u001b[0m\u001b[0;34m(\u001b[0m\u001b[0;34m\"\"\u001b[0m\u001b[0;34m,\u001b[0m \u001b[0;34m\"\"\u001b[0m\u001b[0;34m)\u001b[0m\u001b[0;34m\u001b[0m\u001b[0;34m\u001b[0m\u001b[0m\n\u001b[0m",
      "\u001b[0;32m<ipython-input-117-89ee9993e440>\u001b[0m in \u001b[0;36mfit\u001b[0;34m(self, X, y)\u001b[0m\n\u001b[1;32m      1\u001b[0m \u001b[0;32mclass\u001b[0m \u001b[0mModel\u001b[0m\u001b[0;34m:\u001b[0m\u001b[0;34m\u001b[0m\u001b[0;34m\u001b[0m\u001b[0m\n\u001b[1;32m      2\u001b[0m     \u001b[0;32mdef\u001b[0m \u001b[0mfit\u001b[0m\u001b[0;34m(\u001b[0m\u001b[0mself\u001b[0m\u001b[0;34m,\u001b[0m \u001b[0mX\u001b[0m\u001b[0;34m,\u001b[0m \u001b[0my\u001b[0m\u001b[0;34m)\u001b[0m\u001b[0;34m:\u001b[0m\u001b[0;34m\u001b[0m\u001b[0;34m\u001b[0m\u001b[0m\n\u001b[0;32m----> 3\u001b[0;31m         \u001b[0;32mraise\u001b[0m \u001b[0mNotImplementedError\u001b[0m\u001b[0;34m(\u001b[0m\u001b[0;34m)\u001b[0m\u001b[0;34m\u001b[0m\u001b[0;34m\u001b[0m\u001b[0m\n\u001b[0m\u001b[1;32m      4\u001b[0m \u001b[0;34m\u001b[0m\u001b[0m\n\u001b[1;32m      5\u001b[0m     \u001b[0;32mdef\u001b[0m \u001b[0mpredict\u001b[0m\u001b[0;34m(\u001b[0m\u001b[0mself\u001b[0m\u001b[0;34m,\u001b[0m \u001b[0mX\u001b[0m\u001b[0;34m)\u001b[0m\u001b[0;34m:\u001b[0m\u001b[0;34m\u001b[0m\u001b[0;34m\u001b[0m\u001b[0m\n",
      "\u001b[0;31mNotImplementedError\u001b[0m: "
     ]
    }
   ],
   "source": [
    "class Model:\n",
    "    def fit(self, X, y):\n",
    "        raise NotImplementedError()\n",
    "        \n",
    "    def predict(self, X):\n",
    "        raise NotImplementedError()\n",
    "    \n",
    "m = Model()\n",
    "m.fit(\"\", \"\")"
   ]
  },
  {
   "cell_type": "code",
   "execution_count": 116,
   "metadata": {},
   "outputs": [
    {
     "data": {
      "text/plain": [
       "'No string'"
      ]
     },
     "execution_count": 116,
     "metadata": {},
     "output_type": "execute_result"
    }
   ],
   "source": [
    "class MyModel(Model):\n",
    "    def fit(self, X, y):\n",
    "        return True\n",
    "        \n",
    "    def predict(self, X):\n",
    "        return True\n",
    "    \n",
    "m = MyModel()\n",
    "m.fit(\"\", \"\")"
   ]
  },
  {
   "cell_type": "markdown",
   "metadata": {},
   "source": [
    "# Перегрузка операций\n",
    "\n",
    "С помощью классов можно настраивать поведение классов при использовании в специфических ситуациях.  Мы уже знакомы со __str__ и __repr__, но есть более интересные аспекты перегрузки операций"
   ]
  },
  {
   "cell_type": "code",
   "execution_count": 49,
   "metadata": {},
   "outputs": [
    {
     "data": {
      "text/plain": [
       "100"
      ]
     },
     "execution_count": 49,
     "metadata": {},
     "output_type": "execute_result"
    }
   ],
   "source": [
    "class MyClass:\n",
    "    \"\"\"Пример работы с длинной\"\"\"\n",
    "    def __len__(self):        \n",
    "        return 100\n",
    "    \n",
    "len(MyClass())"
   ]
  },
  {
   "cell_type": "code",
   "execution_count": 50,
   "metadata": {},
   "outputs": [
    {
     "data": {
      "text/plain": [
       "False"
      ]
     },
     "execution_count": 50,
     "metadata": {},
     "output_type": "execute_result"
    }
   ],
   "source": [
    "class MyClass:\n",
    "    \"\"\"Пример работы с преобразованием к логическому типу\"\"\"\n",
    "    def __bool__(self):        \n",
    "        return False\n",
    "    \n",
    "bool(MyClass())"
   ]
  },
  {
   "cell_type": "code",
   "execution_count": 59,
   "metadata": {},
   "outputs": [
    {
     "data": {
      "text/plain": [
       "'zxc'"
      ]
     },
     "execution_count": 59,
     "metadata": {},
     "output_type": "execute_result"
    }
   ],
   "source": [
    "class MyClass:\n",
    "    \"\"\"Пример работы с индексами\"\"\"\n",
    "    def __init__(self):\n",
    "        self._my_dict = {}\n",
    "        \n",
    "    def __setitem__(self, index, value):\n",
    "        self._my_dict[index] = value\n",
    "        \n",
    "    def __getitem__(self, index):\n",
    "        if index not in self._my_dict:\n",
    "            # Мы создаем исключительную ситуацию\n",
    "            raise IndexError                                \n",
    "        else:\n",
    "            return self._my_dict[index]\n",
    "    \n",
    "m = MyClass()\n",
    "m[0] = \"asd\"\n",
    "m[1] = \"sdf\"\n",
    "m[2] = \"fjh\"\n",
    "m[5] = \"zxc\"\n",
    "\n",
    "m[5]"
   ]
  },
  {
   "cell_type": "code",
   "execution_count": 60,
   "metadata": {},
   "outputs": [
    {
     "name": "stdout",
     "output_type": "stream",
     "text": [
      "asd\n",
      "sdf\n",
      "fjh\n"
     ]
    }
   ],
   "source": [
    "# Просто проходиться по индексам от 0 до пока не получит исключение IndexError\n",
    "for el in m:\n",
    "    print(el)"
   ]
  },
  {
   "cell_type": "code",
   "execution_count": 53,
   "metadata": {},
   "outputs": [
    {
     "data": {
      "text/plain": [
       "(4, 9)"
      ]
     },
     "execution_count": 53,
     "metadata": {},
     "output_type": "execute_result"
    }
   ],
   "source": [
    "# Создание итератора\n",
    "\n",
    "class RangeSquare:\n",
    "    \"\"\"Пример работы с протоколом итераций\"\"\"\n",
    "    def __init__(self, start, stop):\n",
    "        self._start = start\n",
    "        self._value = start - 1\n",
    "        self._stop = stop\n",
    "\n",
    "    def __iter__(self):\n",
    "        \"\"\"\n",
    "        Должен возвращать объект-итератор (не обязательно сам класс)\n",
    "        \"\"\"\n",
    "        return self\n",
    "    \n",
    "    def __next__(self):\n",
    "        if self._value >= self._stop:\n",
    "            # self._value = self._start - 1\n",
    "            raise StopIteration\n",
    "        self._value += 1\n",
    "        return self._value**2\n",
    "    \n",
    "m = RangeSquare(2, 5)\n",
    "it = iter(m)\n",
    "next(it), next(it)"
   ]
  },
  {
   "cell_type": "code",
   "execution_count": 54,
   "metadata": {},
   "outputs": [
    {
     "name": "stdout",
     "output_type": "stream",
     "text": [
      "4\n",
      "9\n",
      "16\n",
      "25\n"
     ]
    }
   ],
   "source": [
    "m = RangeSquare(2, 5)\n",
    "for v in m:\n",
    "    print(v)"
   ]
  },
  {
   "cell_type": "code",
   "execution_count": 55,
   "metadata": {},
   "outputs": [],
   "source": [
    "# А вот второй раз не сработает\n",
    "for v in m:\n",
    "    print(v)"
   ]
  },
  {
   "cell_type": "markdown",
   "metadata": {},
   "source": [
    "и много других операций"
   ]
  },
  {
   "cell_type": "markdown",
   "metadata": {},
   "source": [
    "# Почитать\n",
    "\n",
    "* [Паттерны ООП](https://refactoring.guru/ru/design-patterns)\n",
    "* [UML](https://www.tutorialspoint.com/uml/index.htm)"
   ]
  },
  {
   "cell_type": "markdown",
   "metadata": {},
   "source": [
    "# Домашняя работа\n",
    "\n",
    "## Задача\n",
    "\n",
    "Создать абстрактный класс `Spline`, который является базовой заготовкой для [сплайнов](https://ru.wikipedia.org/wiki/%D0%A1%D0%BF%D0%BB%D0%B0%D0%B9%D0%BD). Данный класс должен определять некий обязательный интерфейс, также данный класс должен быть функтором.\n",
    "\n",
    "Создать два класса `LinearSpline`(обязательно) и `CubicSpline`(опционально), которые являются потомками `Spline` и реализуют его интерфейс. `LinearSpline` реализует интерполяцию полиномом первой степени, `QuadraticSpline` - полиномом третьей степени.\n",
    "\n",
    "Таким образом, в результате вы должны получить сплайн-объект, который как-то инициализируется с помощью $N$ пар точек $(x, y)$ и позволяет получить значение $y$ для любого значения $x$. Фактически, ваш класс будет восстанавливать функцию $y = f(x)$ с некоторой точностью.\n",
    "\n",
    "__Сторонние библиотеки и модули использовать нельзя__"
   ]
  }
 ],
 "metadata": {
  "kernelspec": {
   "display_name": "Python 3 (ipykernel)",
   "language": "python",
   "name": "python3"
  },
  "language_info": {
   "codemirror_mode": {
    "name": "ipython",
    "version": 3
   },
   "file_extension": ".py",
   "mimetype": "text/x-python",
   "name": "python",
   "nbconvert_exporter": "python",
   "pygments_lexer": "ipython3",
   "version": "3.10.11"
  }
 },
 "nbformat": 4,
 "nbformat_minor": 4
}
