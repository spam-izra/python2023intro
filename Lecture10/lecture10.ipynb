{
 "cells": [
  {
   "cell_type": "markdown",
   "metadata": {},
   "source": [
    "# Лекция 10. Последние штрихи 2\n",
    "\n",
    "* Управление атрибутами\n",
    "* match\n",
    "* многозадачность"
   ]
  },
  {
   "cell_type": "markdown",
   "metadata": {},
   "source": [
    "# Управление атрибутами\n",
    "\n",
    "> `getattr(obj, attrname)` - функция, которая позволяет получить атрибут объекта по его имени\n",
    "\n",
    "> `setattr(obj, attrname, value)` - функция, которая устанавливает значение атрибута объекта по его имени"
   ]
  },
  {
   "cell_type": "code",
   "execution_count": 139,
   "metadata": {},
   "outputs": [
    {
     "name": "stdout",
     "output_type": "stream",
     "text": [
      "13\n",
      "13\n"
     ]
    }
   ],
   "source": [
    "class Test: pass\n",
    "\n",
    "a = Test()\n",
    "\n",
    "setattr(a, \"X\", 13)\n",
    "# a.X = 13\n",
    "\n",
    "# Оба вызова эквивалентны\n",
    "print(a.X)\n",
    "print(getattr(a, \"X\"))"
   ]
  },
  {
   "cell_type": "markdown",
   "metadata": {},
   "source": [
    "При создании объектов можно перегрузить специальные методы, которые отвечают за доступ к необъявленным атрибутам класса"
   ]
  },
  {
   "cell_type": "markdown",
   "metadata": {},
   "source": [
    "> `__getattr__(self, attrname)` - перехват доступа к необъявленым атрибутам для получения данных\n",
    "\n",
    "> `__getattribute__(self, attrname)` - перехват доступа к любым атрибутам для получения данных\n",
    "\n",
    "> `__setattr__(self, attrname, value)` - установка значения для атрибута"
   ]
  },
  {
   "cell_type": "markdown",
   "metadata": {},
   "source": [
    "Работа с данным методами позволяет управлять доступ к различного рода атрибутом или даже создавать видимость их существования"
   ]
  },
  {
   "cell_type": "code",
   "execution_count": 51,
   "metadata": {},
   "outputs": [],
   "source": [
    "class Test:\n",
    "    def __getattr__(self, attrname):\n",
    "        print(\"__getattr__\")\n",
    "\n",
    "        if attrname == \"Exception\":\n",
    "            raise AttributeError\n",
    "        else:\n",
    "            return 20\n",
    "    \n",
    "    def __setattr__(self, attrname, value):\n",
    "        print(\"set [%s] - %s\" % (attrname, value))\n",
    "        \n",
    "a = Test()"
   ]
  },
  {
   "cell_type": "code",
   "execution_count": 52,
   "metadata": {},
   "outputs": [
    {
     "name": "stdout",
     "output_type": "stream",
     "text": [
      "__getattr__\n"
     ]
    },
    {
     "data": {
      "text/plain": [
       "20"
      ]
     },
     "execution_count": 52,
     "metadata": {},
     "output_type": "execute_result"
    }
   ],
   "source": [
    "a.Age"
   ]
  },
  {
   "cell_type": "code",
   "execution_count": 53,
   "metadata": {},
   "outputs": [
    {
     "name": "stdout",
     "output_type": "stream",
     "text": [
      "__getattr__\n"
     ]
    },
    {
     "ename": "AttributeError",
     "evalue": "",
     "output_type": "error",
     "traceback": [
      "\u001b[1;31m---------------------------------------------------------------------------\u001b[0m",
      "\u001b[1;31mAttributeError\u001b[0m                            Traceback (most recent call last)",
      "Cell \u001b[1;32mIn[53], line 1\u001b[0m\n\u001b[1;32m----> 1\u001b[0m \u001b[43ma\u001b[49m\u001b[38;5;241;43m.\u001b[39;49m\u001b[43mException\u001b[49m\n",
      "Cell \u001b[1;32mIn[51], line 6\u001b[0m, in \u001b[0;36mTest.__getattr__\u001b[1;34m(self, attrname)\u001b[0m\n\u001b[0;32m      3\u001b[0m \u001b[38;5;28mprint\u001b[39m(\u001b[38;5;124m\"\u001b[39m\u001b[38;5;124m__getattr__\u001b[39m\u001b[38;5;124m\"\u001b[39m)\n\u001b[0;32m      5\u001b[0m \u001b[38;5;28;01mif\u001b[39;00m attrname \u001b[38;5;241m==\u001b[39m \u001b[38;5;124m\"\u001b[39m\u001b[38;5;124mException\u001b[39m\u001b[38;5;124m\"\u001b[39m:\n\u001b[1;32m----> 6\u001b[0m     \u001b[38;5;28;01mraise\u001b[39;00m \u001b[38;5;167;01mAttributeError\u001b[39;00m\n\u001b[0;32m      7\u001b[0m \u001b[38;5;28;01melse\u001b[39;00m:\n\u001b[0;32m      8\u001b[0m     \u001b[38;5;28;01mreturn\u001b[39;00m \u001b[38;5;241m20\u001b[39m\n",
      "\u001b[1;31mAttributeError\u001b[0m: "
     ]
    }
   ],
   "source": [
    "a.Exception"
   ]
  },
  {
   "cell_type": "code",
   "execution_count": 54,
   "metadata": {},
   "outputs": [
    {
     "name": "stdout",
     "output_type": "stream",
     "text": [
      "set [Weight] - 1\n",
      "set [Age] - 1\n"
     ]
    }
   ],
   "source": [
    "a.Weight = 1\n",
    "a.Age = 1"
   ]
  },
  {
   "cell_type": "code",
   "execution_count": 55,
   "metadata": {},
   "outputs": [
    {
     "name": "stdout",
     "output_type": "stream",
     "text": [
      "__getattr__\n"
     ]
    },
    {
     "data": {
      "text/plain": [
       "20"
      ]
     },
     "execution_count": 55,
     "metadata": {},
     "output_type": "execute_result"
    }
   ],
   "source": [
    "a.Weight"
   ]
  },
  {
   "cell_type": "code",
   "execution_count": 12,
   "metadata": {},
   "outputs": [
    {
     "name": "stdout",
     "output_type": "stream",
     "text": [
      "Hi\n",
      "set [Var] - 123\n"
     ]
    }
   ],
   "source": [
    "# НО! Здесь вызов данных методов не происходит\n",
    "\n",
    "a.__dict__[\"Var\"] = \"Hi\"\n",
    "print(a.Var)\n",
    "\n",
    "# setattr продолжает ничего не делать\n",
    "a.Var = 123"
   ]
  },
  {
   "cell_type": "code",
   "execution_count": 13,
   "metadata": {},
   "outputs": [
    {
     "data": {
      "text/plain": [
       "'Hi'"
      ]
     },
     "execution_count": 13,
     "metadata": {},
     "output_type": "execute_result"
    }
   ],
   "source": [
    "# а вот getattr перестал работать\n",
    "a.Var"
   ]
  },
  {
   "cell_type": "markdown",
   "metadata": {},
   "source": [
    "__Важно!__ При реализации метода `__setattr__` важно не использовать присваивание атрибутам, так как это приведет к зацикливанию кода"
   ]
  },
  {
   "cell_type": "code",
   "execution_count": 34,
   "metadata": {},
   "outputs": [
    {
     "data": {
      "text/plain": [
       "5"
      ]
     },
     "execution_count": 34,
     "metadata": {},
     "output_type": "execute_result"
    }
   ],
   "source": [
    "class Test:\n",
    "    def __setattr__(self, attrname, value):\n",
    "        self.__dict__[attrname] = value\n",
    "        # а вот это бы привело к зацикливанию\n",
    "        # self.value = value\n",
    "\n",
    "a = Test()\n",
    "a.Attr = 5\n",
    "a.Attr"
   ]
  },
  {
   "cell_type": "markdown",
   "metadata": {},
   "source": [
    "## Свойства\n",
    "\n",
    "Python предоставляет удобный способ контроллируемого доступа к атрибутам объекта\n",
    "\n",
    "> `property(getter, setter, deleter, docstring)` - данная функция позволяет создать атрибут-свойство. В качестве отсутствия обработчика на соответствующее действие можно передать None"
   ]
  },
  {
   "cell_type": "code",
   "execution_count": 56,
   "metadata": {},
   "outputs": [],
   "source": [
    "class Test:        \n",
    "    def get_age(self):\n",
    "        return self._age\n",
    "    \n",
    "    def set_age(self, value):\n",
    "        if value < 0:\n",
    "            raise ValueError\n",
    "        self._age = value\n",
    "        \n",
    "    def del_age(self):\n",
    "        del self._age\n",
    "        \n",
    "    age = property(get_age, set_age, del_age, \"It is age\")\n",
    "    \n",
    "a = Test()"
   ]
  },
  {
   "cell_type": "code",
   "execution_count": 57,
   "metadata": {},
   "outputs": [
    {
     "ename": "AttributeError",
     "evalue": "'Test' object has no attribute '_age'",
     "output_type": "error",
     "traceback": [
      "\u001b[1;31m---------------------------------------------------------------------------\u001b[0m",
      "\u001b[1;31mAttributeError\u001b[0m                            Traceback (most recent call last)",
      "Cell \u001b[1;32mIn[57], line 1\u001b[0m\n\u001b[1;32m----> 1\u001b[0m \u001b[43ma\u001b[49m\u001b[38;5;241;43m.\u001b[39;49m\u001b[43mage\u001b[49m\n",
      "Cell \u001b[1;32mIn[56], line 3\u001b[0m, in \u001b[0;36mTest.get_age\u001b[1;34m(self)\u001b[0m\n\u001b[0;32m      2\u001b[0m \u001b[38;5;28;01mdef\u001b[39;00m \u001b[38;5;21mget_age\u001b[39m(\u001b[38;5;28mself\u001b[39m):\n\u001b[1;32m----> 3\u001b[0m     \u001b[38;5;28;01mreturn\u001b[39;00m \u001b[38;5;28;43mself\u001b[39;49m\u001b[38;5;241;43m.\u001b[39;49m\u001b[43m_age\u001b[49m\n",
      "\u001b[1;31mAttributeError\u001b[0m: 'Test' object has no attribute '_age'"
     ]
    }
   ],
   "source": [
    "a.age"
   ]
  },
  {
   "cell_type": "code",
   "execution_count": 58,
   "metadata": {},
   "outputs": [
    {
     "data": {
      "text/plain": [
       "(20, 20)"
      ]
     },
     "execution_count": 58,
     "metadata": {},
     "output_type": "execute_result"
    }
   ],
   "source": [
    "a.age = 20\n",
    "a.age, a._age"
   ]
  },
  {
   "cell_type": "code",
   "execution_count": 59,
   "metadata": {},
   "outputs": [
    {
     "ename": "AttributeError",
     "evalue": "'Test' object has no attribute '_age'",
     "output_type": "error",
     "traceback": [
      "\u001b[1;31m---------------------------------------------------------------------------\u001b[0m",
      "\u001b[1;31mAttributeError\u001b[0m                            Traceback (most recent call last)",
      "Cell \u001b[1;32mIn[59], line 2\u001b[0m\n\u001b[0;32m      1\u001b[0m \u001b[38;5;28;01mdel\u001b[39;00m a\u001b[38;5;241m.\u001b[39mage\n\u001b[1;32m----> 2\u001b[0m \u001b[43ma\u001b[49m\u001b[38;5;241;43m.\u001b[39;49m\u001b[43m_age\u001b[49m\n",
      "\u001b[1;31mAttributeError\u001b[0m: 'Test' object has no attribute '_age'"
     ]
    }
   ],
   "source": [
    "del a.age\n",
    "a._age"
   ]
  },
  {
   "cell_type": "markdown",
   "metadata": {},
   "source": [
    "Свойства позволяют контроллировать доступ к атрибутам объекта      "
   ]
  },
  {
   "cell_type": "code",
   "execution_count": 60,
   "metadata": {},
   "outputs": [
    {
     "name": "stdout",
     "output_type": "stream",
     "text": [
      "20\n"
     ]
    },
    {
     "ename": "AttributeError",
     "evalue": "can't set attribute 'age'",
     "output_type": "error",
     "traceback": [
      "\u001b[1;31m---------------------------------------------------------------------------\u001b[0m",
      "\u001b[1;31mAttributeError\u001b[0m                            Traceback (most recent call last)",
      "Cell \u001b[1;32mIn[60], line 12\u001b[0m\n\u001b[0;32m     10\u001b[0m a \u001b[38;5;241m=\u001b[39m Test()\n\u001b[0;32m     11\u001b[0m \u001b[38;5;28mprint\u001b[39m(a\u001b[38;5;241m.\u001b[39mage)\n\u001b[1;32m---> 12\u001b[0m \u001b[43ma\u001b[49m\u001b[38;5;241;43m.\u001b[39;49m\u001b[43mage\u001b[49m \u001b[38;5;241m=\u001b[39m \u001b[38;5;241m25\u001b[39m\n",
      "\u001b[1;31mAttributeError\u001b[0m: can't set attribute 'age'"
     ]
    }
   ],
   "source": [
    "class Test:  \n",
    "    def __init__(self):\n",
    "        self._age = 20\n",
    "        \n",
    "    def get_age(self):\n",
    "        return self._age     \n",
    "    \n",
    "    age = property(get_age, None, None, None)\n",
    "    \n",
    "a = Test()\n",
    "print(a.age)\n",
    "a.age = 25"
   ]
  },
  {
   "cell_type": "markdown",
   "metadata": {},
   "source": [
    "Также очень удобно использовать свойства через декораторы"
   ]
  },
  {
   "cell_type": "code",
   "execution_count": 191,
   "metadata": {},
   "outputs": [
    {
     "name": "stdout",
     "output_type": "stream",
     "text": [
      "15 15\n"
     ]
    }
   ],
   "source": [
    "class Test:\n",
    "    @property\n",
    "    def age(self):\n",
    "        \"\"\"Doc string\"\"\"\n",
    "        return self._age\n",
    "\n",
    "    @age.setter\n",
    "    def age(self, value):\n",
    "        self._age = value\n",
    "        \n",
    "    @age.deleter\n",
    "    def age(self):\n",
    "        del self._age\n",
    "\n",
    "a = Test()\n",
    "a.age = 15\n",
    "print(a.age, a._age)"
   ]
  },
  {
   "cell_type": "markdown",
   "metadata": {},
   "source": [
    "Чуть более реалистичный пример"
   ]
  },
  {
   "cell_type": "code",
   "execution_count": 37,
   "metadata": {},
   "outputs": [
    {
     "name": "stdout",
     "output_type": "stream",
     "text": [
      "0.001 1 1000\n"
     ]
    },
    {
     "data": {
      "text/plain": [
       "5000"
      ]
     },
     "execution_count": 37,
     "metadata": {},
     "output_type": "execute_result"
    }
   ],
   "source": [
    "class Distance:\n",
    "    def __init__(self, distance):\n",
    "        self._distance = distance\n",
    "        \n",
    "    @property\n",
    "    def km(self): return self._distance / 1000\n",
    "\n",
    "    @km.setter\n",
    "    def km(self, value): self._distance = value * 1000\n",
    "    \n",
    "    @property\n",
    "    def mm(self): return self._distance * 1000\n",
    "    \n",
    "    @property\n",
    "    def m(self): return self._distance\n",
    "    \n",
    "d = Distance(1)\n",
    "\n",
    "print(d.km, d.m, d.mm)\n",
    "\n",
    "d.km = 5\n",
    "d.m"
   ]
  },
  {
   "cell_type": "markdown",
   "metadata": {},
   "source": [
    "# Примеры встроенных декораторов\n",
    "\n",
    "> `staticmethod` - объявляет статический метод класса (метод, который не зависит от конкретного экземпляра класса). По сути обычная функция, которая не использует никаких данных из класса, в котором она объявлена. Такой метод можно вызывать как у самого класса, так и у его экземпляров."
   ]
  },
  {
   "cell_type": "code",
   "execution_count": 39,
   "metadata": {},
   "outputs": [
    {
     "name": "stdout",
     "output_type": "stream",
     "text": [
      "False\n",
      "False\n"
     ]
    }
   ],
   "source": [
    "class Test:\n",
    "    @staticmethod\n",
    "    def is_even(n):\n",
    "        return n%2 == 0\n",
    "    \n",
    "print(Test.is_even(15))\n",
    "a = Test()\n",
    "print(a.is_even(15))"
   ]
  },
  {
   "cell_type": "markdown",
   "metadata": {},
   "source": [
    "> `classmethod` - создает метод, который относится к классу, а не к экземпляру. Часто может быть использован, как перегрузка конструктора."
   ]
  },
  {
   "cell_type": "code",
   "execution_count": 3,
   "metadata": {},
   "outputs": [
    {
     "name": "stdout",
     "output_type": "stream",
     "text": [
      "13\n",
      "21\n"
     ]
    }
   ],
   "source": [
    "class Test:\n",
    "    def __init__(self, num):\n",
    "        self.var = num\n",
    "        \n",
    "    @classmethod\n",
    "    def from_string(cls, string):\n",
    "        # обратите внимание, cls - это ссылка на класс, а не на экземпляр\n",
    "        return cls(int(string))\n",
    "    \n",
    "a = Test(13)\n",
    "print(a.var)\n",
    "\n",
    "a = Test.from_string(\"21\")\n",
    "print(a.var)"
   ]
  },
  {
   "cell_type": "markdown",
   "metadata": {},
   "source": [
    "Менеджер контекста."
   ]
  },
  {
   "cell_type": "code",
   "execution_count": 63,
   "metadata": {},
   "outputs": [
    {
     "name": "stdout",
     "output_type": "stream",
     "text": [
      "context\n",
      "Close context\n"
     ]
    }
   ],
   "source": [
    "from contextlib import contextmanager\n",
    "\n",
    "@contextmanager\n",
    "def func():\n",
    "    r = \"context\"\n",
    "    f = open(\"tmp.log\", \"w\")\n",
    "    try:\n",
    "        yield r\n",
    "    finally:\n",
    "        f.close()\n",
    "        print(\"Close context\")\n",
    "\n",
    "with func() as e:\n",
    "    print(e)"
   ]
  },
  {
   "cell_type": "markdown",
   "metadata": {},
   "source": [
    "# `match`\n",
    "\n",
    "Раньше для выбора из нескольких вариантов, например связанные с перечислениями, приходилось делать это следующей конструкцией"
   ]
  },
  {
   "cell_type": "code",
   "execution_count": 7,
   "metadata": {},
   "outputs": [
    {
     "name": "stdout",
     "output_type": "stream",
     "text": [
      "MEDIUM\n"
     ]
    }
   ],
   "source": [
    "from enum import Enum\n",
    "\n",
    "class Level:\n",
    "    LOW=0\n",
    "    MEDIUM=1\n",
    "    HIGH=2\n",
    "\n",
    "v = Level.MEDIUM\n",
    "\n",
    "if v == Level.LOW:\n",
    "    print(\"LOW\")\n",
    "elif v == Level.MEDIUM:    \n",
    "    print(\"MEDIUM\")\n",
    "elif v == Level.HIGH:\n",
    "    print(\"HIGH\")    \n",
    "else:\n",
    "    print(\"unknown\")"
   ]
  },
  {
   "cell_type": "markdown",
   "metadata": {},
   "source": [
    "Это весьма утомительно, поэтому к нам на помочь с Python 3.10 пришел на помощь\n",
    "```Python\n",
    "match expr:\n",
    "    case pattern1:\n",
    "        ...\n",
    "    case pattern2:\n",
    "        ...\n",
    "    case _:\n",
    "        ...\n",
    "```"
   ]
  },
  {
   "cell_type": "code",
   "execution_count": 8,
   "metadata": {},
   "outputs": [
    {
     "name": "stdout",
     "output_type": "stream",
     "text": [
      "MEDIUM\n"
     ]
    }
   ],
   "source": [
    "match v:\n",
    "    case Level.LOW:\n",
    "        print(\"LOW\")\n",
    "    case Level.MEDIUM:\n",
    "        print(\"MEDIUM\")\n",
    "    case Level.HIGH:\n",
    "        print(\"HIGH\")\n",
    "    case _:\n",
    "        print(\"unknown\")"
   ]
  },
  {
   "cell_type": "markdown",
   "metadata": {},
   "source": [
    "Шаблоны можно объединять вместе"
   ]
  },
  {
   "cell_type": "code",
   "execution_count": 9,
   "metadata": {},
   "outputs": [
    {
     "name": "stdout",
     "output_type": "stream",
     "text": [
      "OK\n"
     ]
    }
   ],
   "source": [
    "match v:\n",
    "    case Level.LOW | Level.MEDIUM:\n",
    "        print(\"OK\")\n",
    "    case Level.HIGH:\n",
    "        print(\"NOT OK\")\n",
    "    case _:\n",
    "        print(\"unknown\")"
   ]
  },
  {
   "cell_type": "markdown",
   "metadata": {},
   "source": [
    "## Кортежи и списки в качестве шаблона\n",
    "\n",
    "Увы, это не единственное, что может делать `match`. В качестве шаблона для сравнения могут стоять кортежи, списки или словари (проверяется наличие ключей и их значений)"
   ]
  },
  {
   "cell_type": "code",
   "execution_count": 34,
   "metadata": {},
   "outputs": [
    {
     "name": "stdout",
     "output_type": "stream",
     "text": [
      "0: 1 2\n",
      "1:  ('val1', 'val2')\n",
      "2: val1  ---\n",
      "3: --- val2\n",
      "3: --- ---\n",
      "_: ('---', '---', 2)\n"
     ]
    }
   ],
   "source": [
    "\n",
    "def Test(v):\n",
    "    match v:\n",
    "        case (1, 2):\n",
    "            print(\"0: 1 2\")\n",
    "        case (\"val1\", \"val2\"):\n",
    "            print(\"1: \", v)\n",
    "        case (\"val1\", value):\n",
    "            print(\"2: val1 \", value)\n",
    "        case (val1, \"val2\"):\n",
    "            print(\"3:\", val1, \"val2\")\n",
    "        case (val1, val2):\n",
    "            print(\"3:\", val1, val2)\n",
    "        case _:\n",
    "            print(\"_:\", v)\n",
    "\n",
    "\n",
    "Test((1, 2))\n",
    "Test((\"val1\", \"val2\"))\n",
    "Test((\"val1\", \"---\"))\n",
    "Test((\"---\", \"val2\"))\n",
    "Test((\"---\", \"---\"))\n",
    "Test((\"---\", \"---\", 2))"
   ]
  },
  {
   "cell_type": "markdown",
   "metadata": {},
   "source": [
    "Все также можно объединять их вместе или игнорировать некоторые значения"
   ]
  },
  {
   "cell_type": "code",
   "execution_count": 22,
   "metadata": {
    "scrolled": true
   },
   "outputs": [
    {
     "name": "stdout",
     "output_type": "stream",
     "text": [
      "1:  val1, val2 or val11, val22\n",
      "1:  val1, val2 or val11, val22\n",
      "2: val1 or val11 ---\n",
      "2: val1 or val11 ---\n",
      "3: --- val2\n",
      "3: --- ---\n",
      "5: --- --- 2\n",
      "_: ('---', '---', 2, 3)\n",
      "4: val3 and any\n"
     ]
    }
   ],
   "source": [
    "\n",
    "def Test(v):\n",
    "    match v:\n",
    "        case (\"val1\", \"val2\") | (\"val11\", \"val22\"):\n",
    "            print(\"1: \", \"val1, val2 or val11, val22\")\n",
    "        case (\"val1\" | \"val11\", val2):\n",
    "            print(\"2: val1 or val11\", val2)\n",
    "        case (\"val3\", _):\n",
    "            print(\"4: val3 and any\")\n",
    "        case (val1, \"val2\"):\n",
    "            print(\"3:\", val1, \"val2\")\n",
    "        case (val1, val2):\n",
    "            print(\"3:\", val1, val2)\n",
    "        case (val1, val2, val3):\n",
    "            print(\"5:\", val1, val2, val3)\n",
    "        case _:\n",
    "            print(\"_:\", v)\n",
    "\n",
    "\n",
    "Test((\"val1\", \"val2\"))\n",
    "Test((\"val11\", \"val22\"))\n",
    "Test((\"val1\", \"---\"))\n",
    "Test((\"val11\", \"---\"))\n",
    "Test((\"---\", \"val2\"))\n",
    "Test((\"---\", \"---\"))\n",
    "Test((\"---\", \"---\", 2))\n",
    "Test((\"---\", \"---\", 2, 3))\n",
    "Test((\"val3\", 2))"
   ]
  },
  {
   "cell_type": "markdown",
   "metadata": {},
   "source": [
    "Можно даже упаковывать части сравниваемых кортежей (для словарей `**`)\n"
   ]
  },
  {
   "cell_type": "code",
   "execution_count": 30,
   "metadata": {},
   "outputs": [
    {
     "name": "stdout",
     "output_type": "stream",
     "text": [
      "1: val1 or val11 [1, 2, 3, 4]\n",
      "2: val2 or val22\n",
      "_: ('val4', 1, 2, 3, 4)\n"
     ]
    }
   ],
   "source": [
    "\n",
    "def Test(v):\n",
    "    match v:        \n",
    "        case (\"val1\" | \"val11\", *vals):\n",
    "            print(\"1: val1 or val11\", vals)\n",
    "        case (\"val2\" | \"val2\", *_):\n",
    "            print(\"2: val2 or val22\")\n",
    "        case _:\n",
    "            print(\"_:\", v)\n",
    "\n",
    "Test((\"val1\", 1, 2, 3, 4))\n",
    "Test((\"val2\", 1, 2, 3, 4))\n",
    "Test((\"val4\", 1, 2, 3, 4))"
   ]
  },
  {
   "cell_type": "markdown",
   "metadata": {},
   "source": [
    "## Классы в качестве шаблона\n",
    "\n",
    "Чтобы совсем запутать, то можно сравнивать по атрибутам экземпляров класса (обратите внимания, внутри case происходит сравнение, а не вызов конструктора, там передаются имена атрибутов)"
   ]
  },
  {
   "cell_type": "code",
   "execution_count": 45,
   "metadata": {},
   "outputs": [
    {
     "name": "stdout",
     "output_type": "stream",
     "text": [
      "1:\n",
      "2: 7\n",
      "3: 5\n",
      "4:\n"
     ]
    }
   ],
   "source": [
    "class Vector:\n",
    "    def __init__(self, xval, yval):\n",
    "        self.x = xval\n",
    "        self.y = yval\n",
    "\n",
    "def Test(v):\n",
    "    match v:\n",
    "        case Vector(x=1, y=2):\n",
    "            print(\"1:\")\n",
    "        case Vector(x=2 | 3, y=yval):\n",
    "            print(\"2:\", yval)\n",
    "        case Vector(x=1, y=yval):\n",
    "            print(\"3:\", yval)\n",
    "        case Vector(y=13):\n",
    "            print(\"4:\",)\n",
    "        case _:\n",
    "            print(\"_:\")\n",
    "\n",
    "Test(Vector(1, 2))\n",
    "Test(Vector(3, 7))\n",
    "Test(Vector(1, 5))\n",
    "Test(Vector(155, 13))"
   ]
  },
  {
   "cell_type": "markdown",
   "metadata": {},
   "source": [
    "Если очень хочется использовать позиционные аргументы"
   ]
  },
  {
   "cell_type": "code",
   "execution_count": 46,
   "metadata": {},
   "outputs": [
    {
     "name": "stdout",
     "output_type": "stream",
     "text": [
      "1:\n",
      "2: 7\n",
      "3: 5\n",
      "4:\n"
     ]
    }
   ],
   "source": [
    "class Vector:\n",
    "    __match_args__ = (\"x\", \"y\")\n",
    "    def __init__(self, xval, yval):\n",
    "        self.x = xval\n",
    "        self.y = yval\n",
    "\n",
    "def Test(v):\n",
    "    match v:\n",
    "        case Vector(1, 2):\n",
    "            print(\"1:\")\n",
    "        case Vector(2 | 3, yval):\n",
    "            print(\"2:\", yval)\n",
    "        case Vector(1, yval):\n",
    "            print(\"3:\", yval)\n",
    "        case Vector(_, 13):\n",
    "            print(\"4:\",)\n",
    "        case _:\n",
    "            print(\"_:\")\n",
    "\n",
    "Test(Vector(1, 2))\n",
    "Test(Vector(3, 7))\n",
    "Test(Vector(1, 5))\n",
    "Test(Vector(155, 13))"
   ]
  },
  {
   "cell_type": "markdown",
   "metadata": {},
   "source": [
    "## Условия в шаблонах\n",
    "\n",
    "Также можно добавлять условия"
   ]
  },
  {
   "cell_type": "code",
   "execution_count": 48,
   "metadata": {},
   "outputs": [
    {
     "name": "stdout",
     "output_type": "stream",
     "text": [
      "1: 2\n",
      "2: 15\n",
      "_:\n"
     ]
    }
   ],
   "source": [
    "class Vector:\n",
    "    def __init__(self, xval, yval):\n",
    "        self.x = xval\n",
    "        self.y = yval\n",
    "\n",
    "def Test(v):\n",
    "    match v:\n",
    "        case Vector(x=1, y=yval) if yval < 10:\n",
    "            print(\"1:\", yval)\n",
    "        case Vector(x=1, y=yval) if yval >= 10:\n",
    "            print(\"2:\", yval)\n",
    "        case _:\n",
    "            print(\"_:\")\n",
    "\n",
    "Test(Vector(1, 2))\n",
    "Test(Vector(1, 15))\n",
    "Test(Vector(2, 5))"
   ]
  },
  {
   "cell_type": "markdown",
   "metadata": {},
   "source": [
    "## `as`\n",
    "\n",
    "Можно совпадающее с шаблоном значение поместить в переменную"
   ]
  },
  {
   "cell_type": "code",
   "execution_count": 49,
   "metadata": {},
   "outputs": [
    {
     "name": "stdout",
     "output_type": "stream",
     "text": [
      "OK:  1\n"
     ]
    }
   ],
   "source": [
    "match v:\n",
    "    case Level.LOW | Level.MEDIUM as level:\n",
    "        print(\"OK: \", level)\n",
    "    case Level.HIGH:\n",
    "        print(\"NOT OK\")\n",
    "    case _:\n",
    "        print(\"unknown\")"
   ]
  },
  {
   "cell_type": "markdown",
   "metadata": {},
   "source": [
    "# Домашняя работа"
   ]
  },
  {
   "cell_type": "markdown",
   "metadata": {},
   "source": [
    "# Задача 1\n",
    "\n",
    "Написать класс, который реализует обобщенное хранение целого числа в себе. Добавить свойства, которые позволяют получить хранимое в нем число в десятичной записи, двоичной записи и римской записи. Добавить методы класса, которые позволяют получить экземпляры этого класса из разных форматов записи чисел (from_dec, from_roman и прочее)."
   ]
  },
  {
   "cell_type": "code",
   "execution_count": 35,
   "metadata": {},
   "outputs": [
    {
     "name": "stdout",
     "output_type": "stream",
     "text": [
      "501\n",
      "0b111110101\n",
      "0x1f5\n",
      "DI\n"
     ]
    }
   ],
   "source": [
    "class Number:\n",
    "    ...\n",
    "\n",
    "\n",
    "n = Number(401)\n",
    "n = n + Number(100)\n",
    "\n",
    "# примеры свойств\n",
    "print(n.dec)\n",
    "print(n.bin)\n",
    "print(n.hex)\n",
    "print(n.roman)"
   ]
  }
 ],
 "metadata": {
  "kernelspec": {
   "display_name": "Python 3 (ipykernel)",
   "language": "python",
   "name": "python3"
  },
  "language_info": {
   "codemirror_mode": {
    "name": "ipython",
    "version": 3
   },
   "file_extension": ".py",
   "mimetype": "text/x-python",
   "name": "python",
   "nbconvert_exporter": "python",
   "pygments_lexer": "ipython3",
   "version": "3.10.11"
  }
 },
 "nbformat": 4,
 "nbformat_minor": 4
}
