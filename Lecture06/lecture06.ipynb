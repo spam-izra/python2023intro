{
 "cells": [
  {
   "cell_type": "markdown",
   "metadata": {},
   "source": [
    "# Лекция 6. Функции(продолжение)\n",
    "\n",
    "* Функции"
   ]
  },
  {
   "cell_type": "markdown",
   "metadata": {},
   "source": [
    "## Аргументы\n",
    "\n",
    "* _позиционные_ - то, к чему мы привыкли, это просто передача аргументов по порядку слева направо\n",
    "* _ключевые_ - передача аргумента по имени\n",
    "* _со значением по умолчанию_ - если не указать значение для аргумента, то будет подставлено значение по умолчанию\n",
    "* _переменное количество аргументов_ - принимает любое количество аргументов с последующей их обработкой"
   ]
  },
  {
   "cell_type": "markdown",
   "metadata": {},
   "source": [
    "При передаче аргументов в функцию следует придерживаться следующего правила: сначала идут позиционные аргументы, потом ключевые.\n",
    "\n",
    "При объявлении функции: сначала идут обычные аргументы, потом аргументы со значением по умолчанию."
   ]
  },
  {
   "cell_type": "markdown",
   "metadata": {},
   "source": [
    "## Позиционные аргументы"
   ]
  },
  {
   "cell_type": "code",
   "execution_count": 27,
   "metadata": {},
   "outputs": [
    {
     "name": "stdout",
     "output_type": "stream",
     "text": [
      "Hello World !\n"
     ]
    }
   ],
   "source": [
    "def Test(arg1, arg2, arg3):\n",
    "    print(arg1, arg2, arg3) \n",
    "    \n",
    "Test(\"Hello\", \"World\", \"!\")"
   ]
  },
  {
   "cell_type": "markdown",
   "metadata": {},
   "source": [
    "## Ключевые аргументы\n",
    "\n",
    "Мы просто указываем имена аргументов в любом порядке в виде `ключ=значение`. __Указывать только после позиционных аргументов.__"
   ]
  },
  {
   "cell_type": "code",
   "execution_count": 29,
   "metadata": {},
   "outputs": [
    {
     "name": "stdout",
     "output_type": "stream",
     "text": [
      "Hello World !\n"
     ]
    }
   ],
   "source": [
    "def Test(arg1, arg2, arg3):\n",
    "    print(arg1, arg2, arg3)\n",
    "    \n",
    "# ошибка\n",
    "# Test(arg1=\"Hello\", \"World\", \"!\")\n",
    "\n",
    "# а так работает\n",
    "Test(\"Hello\", arg3=\"!\", arg2=\"World\")"
   ]
  },
  {
   "cell_type": "markdown",
   "metadata": {},
   "source": [
    "## Аннотации аргументов\n",
    "\n",
    "Есть возможность подсказать программистам, какие типы аргументов может принимать функция. Это ни к чему не обязывает и строго опционально"
   ]
  },
  {
   "cell_type": "code",
   "execution_count": 39,
   "metadata": {},
   "outputs": [
    {
     "name": "stdout",
     "output_type": "stream",
     "text": [
      "3\n",
      "ab\n"
     ]
    }
   ],
   "source": [
    "def Add(a: int, b: int) -> int:\n",
    "    return a + b\n",
    "\n",
    "print(Add(1, 2))\n",
    "print(Add(\"a\", \"b\"))"
   ]
  },
  {
   "cell_type": "code",
   "execution_count": 29,
   "metadata": {},
   "outputs": [
    {
     "data": {
      "text/plain": [
       "{'a': int, 'b': int, 'return': int}"
      ]
     },
     "execution_count": 29,
     "metadata": {},
     "output_type": "execute_result"
    }
   ],
   "source": [
    "Add.__annotations__"
   ]
  },
  {
   "cell_type": "markdown",
   "metadata": {},
   "source": [
    "# Документирование функций\n",
    "\n",
    "Строковый литерал сразу же после объявления функции считается документацией к объявленной функции."
   ]
  },
  {
   "cell_type": "code",
   "execution_count": 13,
   "metadata": {},
   "outputs": [
    {
     "name": "stdout",
     "output_type": "stream",
     "text": [
      "Help on function Add in module __main__:\n",
      "\n",
      "Add(a: int, b: int) -> int\n",
      "    Сложение двух чисел a и b\n",
      "    \n",
      "    Параметры:\n",
      "        a (int): первое слагаемое\n",
      "        b (int): второе слагаемое\n",
      "    \n",
      "    Результат:\n",
      "        int: результат сложения\n",
      "\n"
     ]
    }
   ],
   "source": [
    "def Add(a: int, b: int) -> int:\n",
    "    \"\"\"\n",
    "        Сложение двух чисел a и b\n",
    "\n",
    "        Параметры:\n",
    "            a (int): первое слагаемое\n",
    "            b (int): второе слагаемое\n",
    "\n",
    "        Результат:\n",
    "            int: результат сложения\n",
    "    \"\"\"\n",
    "    return a + b\n",
    "\n",
    "help(Add)"
   ]
  },
  {
   "cell_type": "code",
   "execution_count": 14,
   "metadata": {},
   "outputs": [
    {
     "name": "stdout",
     "output_type": "stream",
     "text": [
      "\n",
      "        Сложение двух чисел a и b\n",
      "\n",
      "        Параметры:\n",
      "            a (int): первое слагаемое\n",
      "            b (int): второе слагаемое\n",
      "\n",
      "        Результат:\n",
      "            int: результат сложения\n",
      "    \n"
     ]
    }
   ],
   "source": [
    "print(Add.__doc__)"
   ]
  },
  {
   "cell_type": "markdown",
   "metadata": {},
   "source": [
    "## Значения по умолчанию\n",
    "\n",
    "Для некоторых аргументов можно выставить значение по умолчанию. В этом случае, аргумент становится не обязательным. Если не указать значение аргумента, то будет взято значение по умолчанию."
   ]
  },
  {
   "cell_type": "code",
   "execution_count": 36,
   "metadata": {},
   "outputs": [
    {
     "name": "stdout",
     "output_type": "stream",
     "text": [
      "Hello World !\n",
      "Hello World <\n"
     ]
    }
   ],
   "source": [
    "def Test(arg1, arg2:str=\"W\", arg3=\"!\"):\n",
    "    print(arg1, arg2, arg3)\n",
    "    \n",
    "Test(\"Hello\", arg2=\"World\",)\n",
    "\n",
    "# но при этом\n",
    "\n",
    "Test(\"Hello\", \"World\", \"<\")"
   ]
  },
  {
   "cell_type": "markdown",
   "metadata": {},
   "source": [
    "Нужно быть очень осторожными при использовании изменяемых объектов в качестве значений по умолчанию. Оно создается только один раз в момент создания функции."
   ]
  },
  {
   "cell_type": "code",
   "execution_count": 40,
   "metadata": {},
   "outputs": [
    {
     "name": "stdout",
     "output_type": "stream",
     "text": [
      "[]\n",
      "[13]\n"
     ]
    },
    {
     "data": {
      "text/plain": [
       "[13]"
      ]
     },
     "execution_count": 40,
     "metadata": {},
     "output_type": "execute_result"
    }
   ],
   "source": [
    "def Test(arg=[]):\n",
    "    print(arg)\n",
    "    return arg\n",
    "\n",
    "\n",
    "a = Test()\n",
    "a.append(13)\n",
    "\n",
    "# казалось бы, что должен быть пустой вывод, но нет - он заполнен\n",
    "a = Test()\n",
    "a"
   ]
  },
  {
   "cell_type": "markdown",
   "metadata": {},
   "source": [
    "## Произвольное количество аргументов\n",
    "\n",
    "Для произвольного количества позиционных аргументов используется `*`."
   ]
  },
  {
   "cell_type": "code",
   "execution_count": 42,
   "metadata": {},
   "outputs": [
    {
     "name": "stdout",
     "output_type": "stream",
     "text": [
      "[    0] = 1\n",
      "[    1] = 2\n",
      "[    2] = 3\n",
      "\n",
      "[    0] = 5\n",
      "[    1] = 2\n",
      "[    2] = Hello\n",
      "[    3] = 1\n",
      "[    4] = 4\n",
      "\n"
     ]
    }
   ],
   "source": [
    "def Test(*args):\n",
    "    for i, arg in enumerate(args):\n",
    "        print(f'[{i:5}] = {arg}')\n",
    "    print()\n",
    "              \n",
    "Test(\"1\", \"2\", 3)\n",
    "\n",
    "Test(5, \"2\", \"Hello\", \"1\", 4)"
   ]
  },
  {
   "cell_type": "markdown",
   "metadata": {},
   "source": [
    "Для произвольного количества ключевых аргументов используется `**`"
   ]
  },
  {
   "cell_type": "code",
   "execution_count": 44,
   "metadata": {},
   "outputs": [
    {
     "name": "stdout",
     "output_type": "stream",
     "text": [
      "word1 = Hello\n",
      "word2 = World\n",
      "\n",
      "word1 = Hello\n",
      "word2 = World\n",
      "word3 = !\n",
      "\n"
     ]
    }
   ],
   "source": [
    "def Test(**kargs):\n",
    "    for key in kargs:\n",
    "        print(f'{key:5} = {kargs[key]}')\n",
    "    print()\n",
    "    \n",
    "Test(word1=\"Hello\", word2=\"World\")\n",
    "Test(word1=\"Hello\", word2=\"World\", word3=\"!\")"
   ]
  },
  {
   "cell_type": "markdown",
   "metadata": {},
   "source": [
    "Их даже можно комбинировать вместе"
   ]
  },
  {
   "cell_type": "code",
   "execution_count": 7,
   "metadata": {},
   "outputs": [
    {
     "name": "stdout",
     "output_type": "stream",
     "text": [
      " arg1 = arg1\n",
      "    0 = some_arg2\n",
      "karg1 = karg1\n",
      "kargN = some_karg2\n",
      "\n"
     ]
    }
   ],
   "source": [
    "# самая полная запись\n",
    "\n",
    "def Test(arg1=4, *args, karg1, karg2=\"Hello\", **kargs):\n",
    "    print(\" arg1 =\", arg1)\n",
    "    for i, arg in enumerate(args):\n",
    "        print(f'{i:5} = {arg}')\n",
    "    print(\"karg1 =\", karg1)\n",
    "    for key in kargs:\n",
    "        print(f'{key:5} = {kargs[key]}')\n",
    "    print()\n",
    "\n",
    "# karg1 теперь можно указать только как ключевой!\n",
    "# Ошибка\n",
    "#Test(\"arg1\", \"some_arg2\", \"karg1\", \"some_karg2\")\n",
    "\n",
    "Test(\"arg1\", \"some_arg2\", karg1=\"karg1\", kargN=\"some_karg2\")"
   ]
  },
  {
   "cell_type": "markdown",
   "metadata": {},
   "source": [
    "## Аргументы, передаваемые только по ключу\n",
    "\n",
    "Также с помощью `*` можно указать аргументы, которые можно передавать только с помощью ключа"
   ]
  },
  {
   "cell_type": "code",
   "execution_count": 55,
   "metadata": {},
   "outputs": [
    {
     "name": "stdout",
     "output_type": "stream",
     "text": [
      "A B\n"
     ]
    }
   ],
   "source": [
    "def Test(arg, *, karg):\n",
    "    print(arg, karg)\n",
    "   \n",
    "# Это будет ошибкой, так как использование * без переменной не дает поддержку переменного числа аргументов\n",
    "# Ошибка!\n",
    "#Test(\"A\", \"B\", karg=\"C\")\n",
    "\n",
    "# Тоже ошибка\n",
    "# Test(\"A\", \"B\")\n",
    "\n",
    "Test(\"A\", karg=\"B\")"
   ]
  },
  {
   "cell_type": "markdown",
   "metadata": {},
   "source": [
    "## Аргумент, передаваемые только позиционно\n",
    "\n",
    "В Python 3.8+ появилась возможность создания аргументов, которые можно передать только позиционно."
   ]
  },
  {
   "cell_type": "code",
   "execution_count": null,
   "metadata": {},
   "outputs": [],
   "source": [
    "# Все левее / передается только позиционно\n",
    "\n",
    "def Test(arg1, arg2, /, arg3):\n",
    "    print(arg1, arg2, arg3)\n",
    "    \n",
    "# Ошибка\n",
    "# Test(arg1=\"A\", arg2=\"B\", arg3=\"C\")\n",
    "\n",
    "# Ok\n",
    "Test(\"A\", \"B\", arg3=\"C\")"
   ]
  },
  {
   "cell_type": "markdown",
   "metadata": {},
   "source": [
    "## Итого\n",
    "\n",
    "Полный синтаксис объявления функции\n",
    "\n",
    "```Python\n",
    "def Func(arg1:<type>, /, arg2, *[args], karg1, **kargs) -> <return type>:\n",
    "    pass\n",
    "```"
   ]
  },
  {
   "cell_type": "markdown",
   "metadata": {},
   "source": [
    "## Распаковка значений в аргументы\n",
    "\n",
    "Python поддерживает обобщенную передачу аргументов с помощью `*` и `**` для позиционных и ключевых аргументов соответственно."
   ]
  },
  {
   "cell_type": "code",
   "execution_count": 2,
   "metadata": {},
   "outputs": [
    {
     "name": "stdout",
     "output_type": "stream",
     "text": [
      "12\n",
      "12\n",
      "12\n",
      "12\n"
     ]
    }
   ],
   "source": [
    "def Add(a: int, b:int) -> int:\n",
    "    return a + b\n",
    "\n",
    "print(Add(5, 7))\n",
    "print(Add(a=5, b=7))\n",
    "\n",
    "args = [5, 7]\n",
    "print(Add(*args))\n",
    "# или эквивалент\n",
    "# Add(args[0], args[1])\n",
    "\n",
    "kargs = {\"a\": 5, \"b\": 7}\n",
    "print(Add(**kargs))"
   ]
  },
  {
   "cell_type": "code",
   "execution_count": 3,
   "metadata": {},
   "outputs": [
    {
     "name": "stdout",
     "output_type": "stream",
     "text": [
      "5 7 12 19\n"
     ]
    }
   ],
   "source": [
    "# Можно делать это более комплексно\n",
    "\n",
    "def Test(a, b, /, *, c, d):\n",
    "    print(a, b, c, d)\n",
    "    \n",
    "args = [5, 7]\n",
    "kargs = {\"c\": 12, \"d\": 19}\n",
    "\n",
    "Test(*args, **kargs)"
   ]
  },
  {
   "cell_type": "code",
   "execution_count": 12,
   "metadata": {},
   "outputs": [
    {
     "name": "stdout",
     "output_type": "stream",
     "text": [
      "--------------------------------------------------------------------------------\n",
      "1 !!! 2 !!! 3 !!! Hello World\n",
      "3\n",
      "--------------------------------------------------------------------------------\n",
      "1 !!! 2 !!! 3 !!! Hello World\n",
      "3\n"
     ]
    }
   ],
   "source": [
    "# Теперь можно создавать функции для вызова других функций\n",
    "\n",
    "def Run(func, args=[], kargs={}):\n",
    "    return func(*args, **kargs)\n",
    "\n",
    "def Run2(func, *args, **kargs):\n",
    "    return func(*args, **kargs)\n",
    "\n",
    "print(\"-\"*80)\n",
    "Run(print, [1, 2, 3, \"Hello World\"], {\"sep\": \" !!! \"})\n",
    "print(Run(Add, [1, 2]))\n",
    "\n",
    "print(\"-\"*80)\n",
    "Run2(print, 1, 2, 3, \"Hello World\", sep=\" !!! \")\n",
    "print(Run2(Add, 1, 2))"
   ]
  },
  {
   "cell_type": "markdown",
   "metadata": {},
   "source": [
    "## Особенности объявления функций\n",
    "\n",
    "И напоследок, одна особенность создания функций в цикле"
   ]
  },
  {
   "cell_type": "code",
   "execution_count": 13,
   "metadata": {},
   "outputs": [
    {
     "name": "stdout",
     "output_type": "stream",
     "text": [
      "0\n",
      "1\n",
      "2\n",
      "3\n",
      "4\n"
     ]
    }
   ],
   "source": [
    "functions = []\n",
    "\n",
    "for i in range(5):\n",
    "    print(i)\n",
    "    def SomeFunc():\n",
    "        print(i)\n",
    "    functions.append(SomeFunc)"
   ]
  },
  {
   "cell_type": "code",
   "execution_count": 14,
   "metadata": {},
   "outputs": [
    {
     "name": "stdout",
     "output_type": "stream",
     "text": [
      "4\n",
      "4\n",
      "4\n",
      "4\n",
      "4\n"
     ]
    }
   ],
   "source": [
    "# Получили немного не тот результат, что мы ожидали\n",
    "for f in functions:\n",
    "    f()"
   ]
  },
  {
   "cell_type": "markdown",
   "metadata": {},
   "source": [
    "Это связано с ленивым определением значения переменной, чтобы этого избежать, можно передать текущего значение в виде значения по умолчанию"
   ]
  },
  {
   "cell_type": "code",
   "execution_count": 15,
   "metadata": {},
   "outputs": [
    {
     "name": "stdout",
     "output_type": "stream",
     "text": [
      "0\n",
      "1\n",
      "2\n",
      "3\n",
      "4\n",
      "\n",
      "0\n",
      "1\n",
      "2\n",
      "3\n",
      "4\n"
     ]
    }
   ],
   "source": [
    "functions = []\n",
    "\n",
    "for i in range(5):\n",
    "    print(i)\n",
    "    def SomeFunc(i=i):\n",
    "        print(i)\n",
    "    functions.append(SomeFunc)\n",
    "\n",
    "print()\n",
    "\n",
    "for f in functions:\n",
    "    f()"
   ]
  },
  {
   "cell_type": "markdown",
   "metadata": {},
   "source": [
    "# Лямбда-функции\n",
    "\n",
    "Помимо оператора `def` есть еще один способ создания функции, но в этом случае присвоения имени функции не происходит и возвращается только объект. Такие функции называют иногда _анонимными_. Тело лямбда-функции - это __всегда__ только одно выражение\n",
    "\n",
    "```Python\n",
    "lambda arg1, arg2, ... : expression \n",
    "```\n",
    "\n",
    "Создание лямбда-функции является выражением, а не оператором. Это значит, что ее можно применять везде, где можно применять выражения."
   ]
  },
  {
   "cell_type": "code",
   "execution_count": 16,
   "metadata": {},
   "outputs": [
    {
     "data": {
      "text/plain": [
       "(7, 7)"
      ]
     },
     "execution_count": 16,
     "metadata": {},
     "output_type": "execute_result"
    }
   ],
   "source": [
    "def Add(x, y):\n",
    "    return x + y\n",
    "\n",
    "LambdaAdd = lambda x, y: x + y\n",
    "\n",
    "Add(3, 4), LambdaAdd(3, 4)"
   ]
  },
  {
   "cell_type": "code",
   "execution_count": 17,
   "metadata": {},
   "outputs": [
    {
     "data": {
      "text/plain": [
       "100000000"
      ]
     },
     "execution_count": 17,
     "metadata": {},
     "output_type": "execute_result"
    }
   ],
   "source": [
    "# Примеры\n",
    "powers = [lambda x, i=i: x**i for i in range(10)]\n",
    "\n",
    "# или эквивалент\n",
    "# powers = []\n",
    "# for i in range(10):\n",
    "#     powers.append(lambda x, i=i: x**i)\n",
    "\n",
    "powers[8](10)"
   ]
  },
  {
   "cell_type": "code",
   "execution_count": 21,
   "metadata": {},
   "outputs": [
    {
     "name": "stdout",
     "output_type": "stream",
     "text": [
      "['0', '2', '4', '6', '8', '10', '12', '14', '16', '18', '20', '22', '24', '26', '28']\n"
     ]
    },
    {
     "data": {
      "text/plain": [
       "['0',\n",
       " '2',\n",
       " '4',\n",
       " '6',\n",
       " '8',\n",
       " '10',\n",
       " '12',\n",
       " '14',\n",
       " '16',\n",
       " '18',\n",
       " '20',\n",
       " '22',\n",
       " '24',\n",
       " '26',\n",
       " '28']"
      ]
     },
     "execution_count": 21,
     "metadata": {},
     "output_type": "execute_result"
    }
   ],
   "source": [
    "# Примеры\n",
    "\n",
    "# Создадим список\n",
    "nums = [n for n in range(15)]\n",
    "\n",
    "# Нужен список из элементов умноженных на 2 и преобразованных в строку\n",
    "\n",
    "print(\n",
    "    list(map(lambda x: str(x*2), nums))\n",
    ")\n",
    "\n",
    "# или эквивалент\n",
    "res = []\n",
    "for x in nums:\n",
    "    res.append(str(x*2))\n",
    "\n",
    "# или эквивалент\n",
    "def ToStr(x):\n",
    "    return str(x*2)\n",
    "\n",
    "list(map(ToStr, nums))"
   ]
  },
  {
   "cell_type": "code",
   "execution_count": 19,
   "metadata": {},
   "outputs": [
    {
     "data": {
      "text/plain": [
       "{'12': 0, '4': 2, '15': 2, '1': 1, '7': 9, '0': 13, '6': 13, '13': 12, '3': 6}"
      ]
     },
     "execution_count": 19,
     "metadata": {},
     "output_type": "execute_result"
    }
   ],
   "source": [
    "# Примеры\n",
    "import random\n",
    "\n",
    "# создадим случайны словарь\n",
    "series = {\n",
    "    str(random.randint(0, 15)): random.randint(0, 15) \n",
    "    for _ in range(15)\n",
    "}\n",
    "series"
   ]
  },
  {
   "cell_type": "code",
   "execution_count": 20,
   "metadata": {},
   "outputs": [
    {
     "name": "stdout",
     "output_type": "stream",
     "text": [
      "'12': 0\n",
      "'1': 1\n",
      "'4': 2\n",
      "'15': 2\n",
      "'3': 6\n",
      "'7': 9\n",
      "'13': 12\n",
      "'0': 13\n",
      "'6': 13\n"
     ]
    }
   ],
   "source": [
    "result = sorted(series, key=lambda x: series[x])\n",
    "for r in result:\n",
    "    print(f\"'{r}': {series[r]}\")"
   ]
  },
  {
   "cell_type": "markdown",
   "metadata": {},
   "source": [
    "> `filter(<function>, <iterable>)` - возвращает итерируемый объект, который выдает данные из \\<iterable\\>, для которых  \\<function\\> возвращает *True*"
   ]
  },
  {
   "cell_type": "code",
   "execution_count": 74,
   "metadata": {
    "scrolled": true
   },
   "outputs": [
    {
     "data": {
      "text/plain": [
       "[1,\n",
       " 3,\n",
       " 5,\n",
       " 7,\n",
       " 9,\n",
       " 11,\n",
       " 13,\n",
       " 15,\n",
       " 17,\n",
       " 19,\n",
       " 21,\n",
       " 23,\n",
       " 25,\n",
       " 27,\n",
       " 29,\n",
       " 31,\n",
       " 33,\n",
       " 35,\n",
       " 37,\n",
       " 39,\n",
       " 41,\n",
       " 43,\n",
       " 45,\n",
       " 47,\n",
       " 49,\n",
       " 51,\n",
       " 53,\n",
       " 55,\n",
       " 57,\n",
       " 59,\n",
       " 61,\n",
       " 63,\n",
       " 65,\n",
       " 67,\n",
       " 69,\n",
       " 71,\n",
       " 73,\n",
       " 75,\n",
       " 77,\n",
       " 79,\n",
       " 81,\n",
       " 83,\n",
       " 85,\n",
       " 87,\n",
       " 89,\n",
       " 91,\n",
       " 93,\n",
       " 95,\n",
       " 97,\n",
       " 99]"
      ]
     },
     "execution_count": 74,
     "metadata": {},
     "output_type": "execute_result"
    }
   ],
   "source": [
    "nums = [n for n in range(20)]\n",
    "\n",
    "odd = list(filter(lambda x: x%2, nums))\n",
    "odd"
   ]
  },
  {
   "cell_type": "markdown",
   "metadata": {},
   "source": [
    "## Генераторные функции\n",
    "\n",
    "Это специфический вид функций, которые могут приостанавливать свою работу для возврата значения, при этом при повторном вызове они продолжат свою работу, где остановились"
   ]
  },
  {
   "cell_type": "code",
   "execution_count": 17,
   "metadata": {},
   "outputs": [
    {
     "name": "stdout",
     "output_type": "stream",
     "text": [
      "0\n",
      "1\n",
      "4\n",
      "9\n",
      "16\n"
     ]
    },
    {
     "data": {
      "text/plain": [
       "[0, 1, 4, 9, 16, 25, 36, 49, 64, 81]"
      ]
     },
     "execution_count": 17,
     "metadata": {},
     "output_type": "execute_result"
    }
   ],
   "source": [
    "def Squares(N):\n",
    "    for n in range(N):\n",
    "        yield n**2\n",
    "        \n",
    "for n in Squares(5):\n",
    "    print(n)\n",
    "    \n",
    "list(Squares(10))"
   ]
  },
  {
   "cell_type": "markdown",
   "metadata": {},
   "source": [
    "Генераторная функция заканчивает свою работу, когда доходит до конца или вызывается `return` (без значения, т.к. оно все равно откидывается)."
   ]
  },
  {
   "cell_type": "code",
   "execution_count": 13,
   "metadata": {},
   "outputs": [
    {
     "data": {
      "text/plain": [
       "<generator object Squares at 0x10bff4f90>"
      ]
     },
     "execution_count": 13,
     "metadata": {},
     "output_type": "execute_result"
    }
   ],
   "source": [
    "tmp = Squares(2)\n",
    "tmp"
   ]
  },
  {
   "cell_type": "code",
   "execution_count": 14,
   "metadata": {},
   "outputs": [
    {
     "data": {
      "text/plain": [
       "0"
      ]
     },
     "execution_count": 14,
     "metadata": {},
     "output_type": "execute_result"
    }
   ],
   "source": [
    "next(tmp)"
   ]
  },
  {
   "cell_type": "code",
   "execution_count": 15,
   "metadata": {},
   "outputs": [
    {
     "data": {
      "text/plain": [
       "1"
      ]
     },
     "execution_count": 15,
     "metadata": {},
     "output_type": "execute_result"
    }
   ],
   "source": [
    "next(tmp)"
   ]
  },
  {
   "cell_type": "code",
   "execution_count": 16,
   "metadata": {},
   "outputs": [
    {
     "ename": "StopIteration",
     "evalue": "",
     "output_type": "error",
     "traceback": [
      "\u001b[0;31m---------------------------------------------------------------------------\u001b[0m",
      "\u001b[0;31mStopIteration\u001b[0m                             Traceback (most recent call last)",
      "\u001b[0;32m<ipython-input-16-d0a40987d2f5>\u001b[0m in \u001b[0;36m<module>\u001b[0;34m\u001b[0m\n\u001b[0;32m----> 1\u001b[0;31m \u001b[0mnext\u001b[0m\u001b[0;34m(\u001b[0m\u001b[0mtmp\u001b[0m\u001b[0;34m)\u001b[0m\u001b[0;34m\u001b[0m\u001b[0;34m\u001b[0m\u001b[0m\n\u001b[0m",
      "\u001b[0;31mStopIteration\u001b[0m: "
     ]
    }
   ],
   "source": [
    "next(tmp)"
   ]
  },
  {
   "cell_type": "markdown",
   "metadata": {},
   "source": [
    "И чтобы запутать еще больше, в генераторы можно отправлять значения"
   ]
  },
  {
   "cell_type": "code",
   "execution_count": 75,
   "metadata": {},
   "outputs": [
    {
     "name": "stdout",
     "output_type": "stream",
     "text": [
      "<generator object Shifts at 0x11004fa50>\n",
      "1 =  0\n",
      "\tx = 4\n",
      "2 =  5\n",
      "\tx = 4\n",
      "3 =  6\n"
     ]
    }
   ],
   "source": [
    "def Shifts(N):\n",
    "    x = 0\n",
    "    for n in range(N):\n",
    "        tmp = yield n + x\n",
    "        if tmp is not None:\n",
    "            x = tmp\n",
    "        print(f'\\tx = {x}')\n",
    "        \n",
    "tmp = Shifts(3)\n",
    "print(tmp)\n",
    "print(\"1 = \", next(tmp))  # tmp.send(None)\n",
    "print(\"2 = \", tmp.send(4))\n",
    "print(\"3 = \", next(tmp))"
   ]
  },
  {
   "cell_type": "markdown",
   "metadata": {},
   "source": [
    "В Python 3.3+ появилась возможность делегировать выдачу значения другому генератору"
   ]
  },
  {
   "cell_type": "code",
   "execution_count": 17,
   "metadata": {},
   "outputs": [
    {
     "name": "stdout",
     "output_type": "stream",
     "text": [
      "[0, 1, 2, 3, 4]\n",
      "[0, 1, 2, 3, 4]\n"
     ]
    }
   ],
   "source": [
    "def Test1(N):\n",
    "    for n in range(N):\n",
    "        yield n\n",
    "        \n",
    "print(list(Test1(5)))\n",
    "\n",
    "# Эквивалентно\n",
    "\n",
    "def Test2(N):\n",
    "    yield from range(N)\n",
    "    \n",
    "print(list(Test2(5)))"
   ]
  },
  {
   "cell_type": "markdown",
   "metadata": {},
   "source": [
    "# Домашнее задание\n",
    "\n",
    "Написать функцию, которая ищет один любой экстремум функции одной переменной на заданном интервале. Можно использовать любой алгоритм или метод, но реализовать его самостоятельно. Если экстремума нет, то выдавать `None`. Можно передавать любые дополнительные параметры, если потребуется.\n",
    "\n",
    "\n",
    "(Опционально) Также выдавать допольнительно вид экстремума."
   ]
  },
  {
   "cell_type": "code",
   "execution_count": 76,
   "metadata": {},
   "outputs": [
    {
     "data": {
      "text/plain": [
       "(None, 0)"
      ]
     },
     "execution_count": 76,
     "metadata": {},
     "output_type": "execute_result"
    }
   ],
   "source": [
    "# Примеры функций\n",
    "def Parabola(x):\n",
    "    return x**2\n",
    "\n",
    "def Line(x):\n",
    "    return 2*x\n",
    "\n",
    "# Заготовка под решение\n",
    "def Extremum(func, a, b):\n",
    "    # do something awesome\n",
    "    result = 0\n",
    "    t = None\n",
    "    return None, result\n",
    "\n",
    "\n",
    "Extremum(Parabola, -2, 2)"
   ]
  }
 ],
 "metadata": {
  "kernelspec": {
   "display_name": "Python 3 (ipykernel)",
   "language": "python",
   "name": "python3"
  },
  "language_info": {
   "codemirror_mode": {
    "name": "ipython",
    "version": 3
   },
   "file_extension": ".py",
   "mimetype": "text/x-python",
   "name": "python",
   "nbconvert_exporter": "python",
   "pygments_lexer": "ipython3",
   "version": "3.10.11"
  }
 },
 "nbformat": 4,
 "nbformat_minor": 4
}
