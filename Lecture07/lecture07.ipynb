{
 "cells": [
  {
   "cell_type": "markdown",
   "metadata": {},
   "source": [
    "# Лекция 7. Модули и классы\n",
    "\n",
    "* Модули\n",
    "* Классы"
   ]
  },
  {
   "cell_type": "markdown",
   "metadata": {},
   "source": [
    "# Модули\n",
    "\n",
    "> __Модуль__ - позволяет упаковывать программный код для удобного повторного использования. Также предоставляет пространство имен для устранения проблем с конфликтом имен.\n",
    "\n",
    "\n",
    "Самым простейшем модулем является _файл с вашим кодом_."
   ]
  },
  {
   "cell_type": "markdown",
   "metadata": {},
   "source": [
    "Загрузка модулей осуществляется с помощью ключевых слов __import__ и __from__. Модуль загружается во время выполнения вашей программы __только один раз__, даже если вы делаете импорт в разных файлах.\n",
    "\n",
    "\n",
    "В дополнение к этому, вы можете принудительно загрузить модуль еще раз с помощью функции __reload__"
   ]
  },
  {
   "cell_type": "code",
   "execution_count": 6,
   "metadata": {},
   "outputs": [
    {
     "name": "stdout",
     "output_type": "stream",
     "text": [
      "TEST LOADED\n",
      "<module 'my_test' from 'Y:\\\\JINTEKI\\\\notebook\\\\TSU\\\\python-2023-intro\\\\Lecture07\\\\my_test.py'>\n",
      "TEST LOADED\n",
      "5\n"
     ]
    }
   ],
   "source": [
    "import my_test\n",
    "\n",
    "print(my_test)\n",
    "\n",
    "# в старых версиях так\n",
    "# from imp import reload  \n",
    "from importlib import reload  \n",
    "\n",
    "reload(my_test)\n",
    "\n",
    "print(my_test.a)"
   ]
  },
  {
   "cell_type": "markdown",
   "metadata": {},
   "source": [
    "Важно помнить, что любой модуль является объектом. Даже файл с вашим кодом, который выполняется Python'ом, является модулем, а следовательно объектом. Также, имя модуля используется в качестве переменной, так что имя модуля должно подчиняться правилам именования переменных."
   ]
  },
  {
   "cell_type": "markdown",
   "metadata": {},
   "source": [
    "Также помним, что при импорте, по сути переменной присваивается объект-модуль, а следовательно, если уже была такая переменная или будет, то произойдет конфликт имен и мы что-то потеряем."
   ]
  },
  {
   "cell_type": "markdown",
   "metadata": {},
   "source": [
    "__ВАЖНО__: модуль является пространством имен, так что вы вольны делать в нем все, что угодно и Python не сможет вас остановить."
   ]
  },
  {
   "cell_type": "code",
   "execution_count": 2,
   "metadata": {},
   "outputs": [
    {
     "name": "stdout",
     "output_type": "stream",
     "text": [
      "AWESOME!!!\n",
      "3\n",
      "AWESOME!!!\n"
     ]
    }
   ],
   "source": [
    "import example1.my_module2\n",
    "from example1.my_module2 import awesome_variable\n",
    "from importlib import reload  \n",
    "\n",
    "# здесь мы изменим локальную переменную, а не ту, что в модулей math\n",
    "awesome_variable = 3\n",
    "print(example1.my_module2.awesome_variable)\n",
    "\n",
    "# так испортим\n",
    "example1.my_module2.awesome_variable = 3\n",
    "print(example1.my_module2.awesome_variable)\n",
    "\n",
    "# так починим\n",
    "reload(example1.my_module2)\n",
    "print(example1.my_module2.awesome_variable)"
   ]
  },
  {
   "cell_type": "markdown",
   "metadata": {},
   "source": [
    "# Структура программы\n",
    "\n",
    "Обычно ваша программа будет состоять из одного главного файла верхнего уровня - этот файл будет содержать ваш основной код. Также, к этому файлу будут идти дополнительные файлы с вашим кодом, в которых вы будете создавать инструментарий для вашего главного файла."
   ]
  },
  {
   "cell_type": "markdown",
   "metadata": {},
   "source": [
    "См. __example1__."
   ]
  },
  {
   "cell_type": "markdown",
   "metadata": {},
   "source": [
    "Для вызова кода из соседнего py-файла достаточно написать __import__ и имя файла без расширения **.py**\n",
    "\n",
    "```Python\n",
    "import my_module\n",
    "```"
   ]
  },
  {
   "cell_type": "code",
   "execution_count": 37,
   "metadata": {},
   "outputs": [
    {
     "name": "stdout",
     "output_type": "stream",
     "text": [
      "Hello World\n",
      "SPAM\n",
      "SPAM\n",
      "3\n",
      "3\n",
      "3\n"
     ]
    }
   ],
   "source": [
    "!python3 example1/main.py"
   ]
  },
  {
   "cell_type": "markdown",
   "metadata": {},
   "source": [
    "Python сам попытается найти нужные файлы в следующем порядке\n",
    "1. директория с вашей программой\n",
    "2. пути в переменной окружения __PYTHONPATH__\n",
    "3. системные директории\n",
    "4. файлы .pth (если есть)\n",
    "5. site-packages (директория со сторонними расширениями)"
   ]
  },
  {
   "cell_type": "markdown",
   "metadata": {},
   "source": [
    "Пути, которые используются для поиска можно посмотреть так"
   ]
  },
  {
   "cell_type": "code",
   "execution_count": 10,
   "metadata": {},
   "outputs": [
    {
     "data": {
      "text/plain": [
       "['Y:\\\\JINTEKI\\\\notebook\\\\TSU\\\\python-2023-intro\\\\Lecture07',\n",
       " 'C:\\\\Python36\\\\python310.zip',\n",
       " 'C:\\\\Python36\\\\DLLs',\n",
       " 'C:\\\\Python36\\\\lib',\n",
       " 'C:\\\\Python36',\n",
       " 'C:\\\\Python36\\\\venv\\\\science',\n",
       " '',\n",
       " 'C:\\\\Python36\\\\venv\\\\science\\\\lib\\\\site-packages',\n",
       " 'C:\\\\Python36\\\\venv\\\\science\\\\lib\\\\site-packages\\\\win32',\n",
       " 'C:\\\\Python36\\\\venv\\\\science\\\\lib\\\\site-packages\\\\win32\\\\lib',\n",
       " 'C:\\\\Python36\\\\venv\\\\science\\\\lib\\\\site-packages\\\\Pythonwin']"
      ]
     },
     "execution_count": 10,
     "metadata": {},
     "output_type": "execute_result"
    }
   ],
   "source": [
    "import sys\n",
    "\n",
    "sys.path"
   ]
  },
  {
   "cell_type": "markdown",
   "metadata": {},
   "source": [
    "Также __import__ в качестве модуля может загружать не только __py__-файлы, но и __pyc__-файлы (байт-код), __so__-файлы (библиотеки), __dll/pyd__-файлы (тоже библиотеки), __zip__-архивы, директории и прочее."
   ]
  },
  {
   "cell_type": "markdown",
   "metadata": {},
   "source": [
    "# Атрибуты модулей\n",
    "\n",
    "Так как модуль - это объект, то мы можем обращаться к его атрибутам. Самые полезные:\n",
    "\n",
    "> `__file__` - путь до файла с данным модулем (отсутствует у интерактивной сессии или директории)\n",
    "\n",
    "> `__name__` - имя модуля. Для модуля, который исполняется Python'ом содержит `__main__`\n",
    "\n",
    "> `__dict__` - пространство имен модуля, обычный словарь"
   ]
  },
  {
   "cell_type": "code",
   "execution_count": 12,
   "metadata": {},
   "outputs": [
    {
     "data": {
      "text/plain": [
       "'__main__'"
      ]
     },
     "execution_count": 12,
     "metadata": {},
     "output_type": "execute_result"
    }
   ],
   "source": [
    "__name__"
   ]
  },
  {
   "cell_type": "code",
   "execution_count": 12,
   "metadata": {},
   "outputs": [
    {
     "data": {
      "text/plain": [
       "'Y:\\\\JINTEKI\\\\notebook\\\\TSU\\\\python-2023-intro\\\\Lecture07\\\\my_test.py'"
      ]
     },
     "execution_count": 12,
     "metadata": {},
     "output_type": "execute_result"
    }
   ],
   "source": [
    "import my_test\n",
    "my_test.__file__"
   ]
  },
  {
   "cell_type": "code",
   "execution_count": 13,
   "metadata": {},
   "outputs": [
    {
     "data": {
      "text/plain": [
       "'math'"
      ]
     },
     "execution_count": 13,
     "metadata": {},
     "output_type": "execute_result"
    }
   ],
   "source": [
    "import math as m\n",
    "\n",
    "m.__name__"
   ]
  },
  {
   "cell_type": "code",
   "execution_count": 13,
   "metadata": {},
   "outputs": [
    {
     "data": {
      "text/plain": [
       "{'__name__': 'math',\n",
       " '__doc__': 'This module provides access to the mathematical functions\\ndefined by the C standard.',\n",
       " '__package__': '',\n",
       " '__loader__': <_frozen_importlib_external.ExtensionFileLoader at 0x10d640c40>,\n",
       " '__spec__': ModuleSpec(name='math', loader=<_frozen_importlib_external.ExtensionFileLoader object at 0x10d640c40>, origin='/usr/local/Cellar/python@3.9/3.9.7/Frameworks/Python.framework/Versions/3.9/lib/python3.9/lib-dynload/math.cpython-39-darwin.so'),\n",
       " 'acos': <function math.acos(x, /)>,\n",
       " 'acosh': <function math.acosh(x, /)>,\n",
       " 'asin': <function math.asin(x, /)>,\n",
       " 'asinh': <function math.asinh(x, /)>,\n",
       " 'atan': <function math.atan(x, /)>,\n",
       " 'atan2': <function math.atan2(y, x, /)>,\n",
       " 'atanh': <function math.atanh(x, /)>,\n",
       " 'ceil': <function math.ceil(x, /)>,\n",
       " 'copysign': <function math.copysign(x, y, /)>,\n",
       " 'cos': <function math.cos(x, /)>,\n",
       " 'cosh': <function math.cosh(x, /)>,\n",
       " 'degrees': <function math.degrees(x, /)>,\n",
       " 'dist': <function math.dist(p, q, /)>,\n",
       " 'erf': <function math.erf(x, /)>,\n",
       " 'erfc': <function math.erfc(x, /)>,\n",
       " 'exp': <function math.exp(x, /)>,\n",
       " 'expm1': <function math.expm1(x, /)>,\n",
       " 'fabs': <function math.fabs(x, /)>,\n",
       " 'factorial': <function math.factorial(x, /)>,\n",
       " 'floor': <function math.floor(x, /)>,\n",
       " 'fmod': <function math.fmod(x, y, /)>,\n",
       " 'frexp': <function math.frexp(x, /)>,\n",
       " 'fsum': <function math.fsum(seq, /)>,\n",
       " 'gamma': <function math.gamma(x, /)>,\n",
       " 'gcd': <function math.gcd(*integers)>,\n",
       " 'hypot': <function math.hypot>,\n",
       " 'isclose': <function math.isclose(a, b, *, rel_tol=1e-09, abs_tol=0.0)>,\n",
       " 'isfinite': <function math.isfinite(x, /)>,\n",
       " 'isinf': <function math.isinf(x, /)>,\n",
       " 'isnan': <function math.isnan(x, /)>,\n",
       " 'isqrt': <function math.isqrt(n, /)>,\n",
       " 'lcm': <function math.lcm(*integers)>,\n",
       " 'ldexp': <function math.ldexp(x, i, /)>,\n",
       " 'lgamma': <function math.lgamma(x, /)>,\n",
       " 'log': <function math.log>,\n",
       " 'log1p': <function math.log1p(x, /)>,\n",
       " 'log10': <function math.log10(x, /)>,\n",
       " 'log2': <function math.log2(x, /)>,\n",
       " 'modf': <function math.modf(x, /)>,\n",
       " 'pow': <function math.pow(x, y, /)>,\n",
       " 'radians': <function math.radians(x, /)>,\n",
       " 'remainder': <function math.remainder(x, y, /)>,\n",
       " 'sin': <function math.sin(x, /)>,\n",
       " 'sinh': <function math.sinh(x, /)>,\n",
       " 'sqrt': <function math.sqrt(x, /)>,\n",
       " 'tan': <function math.tan(x, /)>,\n",
       " 'tanh': <function math.tanh(x, /)>,\n",
       " 'trunc': <function math.trunc(x, /)>,\n",
       " 'prod': <function math.prod(iterable, /, *, start=1)>,\n",
       " 'perm': <function math.perm(n, k=None, /)>,\n",
       " 'comb': <function math.comb(n, k, /)>,\n",
       " 'nextafter': <function math.nextafter(x, y, /)>,\n",
       " 'ulp': <function math.ulp(x, /)>,\n",
       " '__file__': '/usr/local/Cellar/python@3.9/3.9.7/Frameworks/Python.framework/Versions/3.9/lib/python3.9/lib-dynload/math.cpython-39-darwin.so',\n",
       " 'pi': 3.141592653589793,\n",
       " 'e': 2.718281828459045,\n",
       " 'tau': 6.283185307179586,\n",
       " 'inf': inf,\n",
       " 'nan': nan}"
      ]
     },
     "execution_count": 13,
     "metadata": {},
     "output_type": "execute_result"
    }
   ],
   "source": [
    "import math\n",
    "\n",
    "math.__dict__"
   ]
  },
  {
   "cell_type": "code",
   "execution_count": 14,
   "metadata": {},
   "outputs": [
    {
     "data": {
      "text/plain": [
       "'/Users/izra/rep/ml/python2021/Lecture07/example1/my_module2.py'"
      ]
     },
     "execution_count": 14,
     "metadata": {},
     "output_type": "execute_result"
    }
   ],
   "source": [
    "import example1.my_module2\n",
    "\n",
    "example1.my_module2.__file__"
   ]
  },
  {
   "cell_type": "markdown",
   "metadata": {},
   "source": [
    "Поэтому очень удобна следующая конструкция в конце вашего файла с кодом"
   ]
  },
  {
   "cell_type": "code",
   "execution_count": 12,
   "metadata": {},
   "outputs": [],
   "source": [
    "if __name__ == \"__main__\":\n",
    "    # здесь можно описать код, который будет выполяться только в том случае,\n",
    "    # если данный файл запускается как самостоятельная программа, а не \n",
    "    # импортируется в качестве модуля\n",
    "    pass"
   ]
  },
  {
   "cell_type": "markdown",
   "metadata": {},
   "source": [
    "# Пакеты модулей\n",
    "\n",
    "Порой очень удобно объединить несколько модулей в один пакет. Для этого они помещаются в одну директорию. Полный путь до модуля внутри пакета указывается с помощью точки. При этом можно загрузить как конкретный модуль в пакете, так и сам пакет.\n",
    "\n",
    "```\n",
    "example1.my_module2 => example1/my_module2.py\n",
    "```\n",
    "\n",
    "До версии Python 3.3 требуется создавать файл `__init__.py` внутри каждой директории, которая присутствует в __import__. Данный файл будет автоматически выполнен при входе в директорию. Он позволяет проинициализировать пакет или контроллировать, как будет происходить импорт."
   ]
  },
  {
   "cell_type": "code",
   "execution_count": 5,
   "metadata": {},
   "outputs": [
    {
     "name": "stdout",
     "output_type": "stream",
     "text": [
      "EXAMPLE 2 INIT\n",
      "3\n",
      "<class 'module'>\n",
      "FUNC2\n"
     ]
    }
   ],
   "source": [
    "import example2\n",
    "from importlib import reload\n",
    "\n",
    "reload(example2)\n",
    "\n",
    "print(example2.some_var)\n",
    "\n",
    "# Это не грузит автоматически нужные модули, если это не прописано в __init__.py\n",
    "print(example2.my_module1)\n",
    "\n",
    "#import example2.my_module1\n",
    "#print(example2.my_module1.func1)\n",
    "#example2.my_module1.func1()\n",
    "example2.func2()"
   ]
  },
  {
   "cell_type": "markdown",
   "metadata": {},
   "source": [
    "# Относительный импорт\n",
    "\n",
    "При указании пути импорта, можно ставить ведущую точку, чтобы указать, что нужно импортировать относительно директории текущего пакета, где лежит файл\n",
    "\n",
    "```Python\n",
    "from . import my_module1\n",
    "```"
   ]
  },
  {
   "cell_type": "code",
   "execution_count": 10,
   "metadata": {},
   "outputs": [
    {
     "name": "stdout",
     "output_type": "stream",
     "text": [
      "EXAMPLE 2 INIT\n",
      "3\n",
      "<module 'example2.my_module1' from '/notebooks/pythonp-2020/lecture07/example2/my_module1.py'>\n",
      "FUNC2\n"
     ]
    }
   ],
   "source": [
    "import example2\n",
    "from importlib import reload\n",
    "\n",
    "example2 = reload(example2)\n",
    "\n",
    "print(example2.some_var)\n",
    "\n",
    "# а теперь грузит (после добавления строчек с импортом в __init__.py)\n",
    "print(example2.my_module1)\n",
    "\n",
    "example2.func2()"
   ]
  },
  {
   "cell_type": "markdown",
   "metadata": {},
   "source": [
    "# Внешние модули\n",
    "\n",
    "Сторонние модули удобно устанавливать с помощью модуля __pip__\n",
    "```\n",
    "   python3 -m pip install requests\n",
    "```"
   ]
  },
  {
   "cell_type": "markdown",
   "metadata": {},
   "source": [
    "# Классы и ООП\n",
    "\n",
    "> `Классы` - конструкция языка Python, которая позволяет создавать новые виды объектов, которые поддерживают операцию наследования."
   ]
  },
  {
   "cell_type": "markdown",
   "metadata": {},
   "source": [
    "Основные задачи, которые решают классы:\n",
    "\n",
    "1. Композиция. Классы позволяют действовать совокупности объектов, как один объект. \n",
    "2. Инкапсуляция. Связывание данных объекта с действиями над этим объектом с помощью методов.\n",
    "2. Наследование. Классы позволяют повторно использовать код, меняя лишь часть его в потомках класса."
   ]
  },
  {
   "cell_type": "markdown",
   "metadata": {},
   "source": [
    "Важно различать класс и экземпляр класса. Класс - это по сути фабрика для экземпляров класса. Экземпляр класса - это созданный конкретный объект."
   ]
  },
  {
   "cell_type": "code",
   "execution_count": 20,
   "metadata": {},
   "outputs": [
    {
     "name": "stdout",
     "output_type": "stream",
     "text": [
      "<__main__.MyFirstClass object at 0x0000020D0B64BFA0>\n"
     ]
    }
   ],
   "source": [
    "# создание простейшего класса\n",
    "class MyFirstClass:\n",
    "    pass\n",
    "\n",
    "# Создание экземпляра класса\n",
    "obj = MyFirstClass()\n",
    "print(obj)"
   ]
  },
  {
   "cell_type": "code",
   "execution_count": 21,
   "metadata": {},
   "outputs": [
    {
     "name": "stdout",
     "output_type": "stream",
     "text": [
      "Hello\n",
      "Hello2\n"
     ]
    }
   ],
   "source": [
    "obj.a = \"Hello\"\n",
    "print(obj.a)\n",
    "\n",
    "obj.print = print\n",
    "obj.print(\"Hello2\")"
   ]
  },
  {
   "cell_type": "code",
   "execution_count": 19,
   "metadata": {},
   "outputs": [
    {
     "ename": "AttributeError",
     "evalue": "'MyFirstClass' object has no attribute 'a'",
     "output_type": "error",
     "traceback": [
      "\u001b[1;31m---------------------------------------------------------------------------\u001b[0m",
      "\u001b[1;31mAttributeError\u001b[0m                            Traceback (most recent call last)",
      "Cell \u001b[1;32mIn[19], line 5\u001b[0m\n\u001b[0;32m      2\u001b[0m obj2 \u001b[38;5;241m=\u001b[39m MyFirstClass()\n\u001b[0;32m      4\u001b[0m \u001b[38;5;66;03m# каждый экземпляр уникален, и то что происходит с одними экземплярами, не влияет на другие\u001b[39;00m\n\u001b[1;32m----> 5\u001b[0m \u001b[38;5;28mprint\u001b[39m(\u001b[43mobj2\u001b[49m\u001b[38;5;241;43m.\u001b[39;49m\u001b[43ma\u001b[49m)\n",
      "\u001b[1;31mAttributeError\u001b[0m: 'MyFirstClass' object has no attribute 'a'"
     ]
    }
   ],
   "source": [
    "# Создадим новый экземпляр\n",
    "obj2 = MyFirstClass()\n",
    "\n",
    "# каждый экземпляр уникален, и то что происходит с одними экземплярами, не влияет на другие\n",
    "print(obj2.a)"
   ]
  },
  {
   "cell_type": "markdown",
   "metadata": {},
   "source": [
    "# Методы класса\n",
    "\n",
    "Внутри класса можно создавать функции, которые могут вызывать экземплярами этого класса"
   ]
  },
  {
   "cell_type": "code",
   "execution_count": 23,
   "metadata": {},
   "outputs": [
    {
     "name": "stdout",
     "output_type": "stream",
     "text": [
      "Hello\n",
      "Hello\n"
     ]
    }
   ],
   "source": [
    "class MyFirstClass:    \n",
    "    def set_value(self, value):\n",
    "        self.value = value\n",
    "        \n",
    "    def get_value(self):\n",
    "        return self.value\n",
    "    \n",
    "obj = MyFirstClass()\n",
    "obj.set_value(\"Hello\")\n",
    "# что на самом деле происходит\n",
    "# MyFirstClass.set_value(obj, \"Hello\")\n",
    "\n",
    "# Увы Python не запрещает доступ к атрибутам экземпляра класса\n",
    "print(obj.value)\n",
    "print(obj.get_value())"
   ]
  },
  {
   "cell_type": "code",
   "execution_count": 8,
   "metadata": {},
   "outputs": [
    {
     "ename": "AttributeError",
     "evalue": "'MyFirstClass' object has no attribute 'value'",
     "output_type": "error",
     "traceback": [
      "\u001b[0;31m---------------------------------------------------------------------------\u001b[0m",
      "\u001b[0;31mAttributeError\u001b[0m                            Traceback (most recent call last)",
      "\u001b[0;32m<ipython-input-8-70ccf8cd58a1>\u001b[0m in \u001b[0;36m<module>\u001b[0;34m\u001b[0m\n\u001b[1;32m      3\u001b[0m \u001b[0;31m# obj2.value\u001b[0m\u001b[0;34m\u001b[0m\u001b[0;34m\u001b[0m\u001b[0m\n\u001b[1;32m      4\u001b[0m \u001b[0;34m\u001b[0m\u001b[0m\n\u001b[0;32m----> 5\u001b[0;31m \u001b[0mobj2\u001b[0m\u001b[0;34m.\u001b[0m\u001b[0mget_value\u001b[0m\u001b[0;34m(\u001b[0m\u001b[0;34m)\u001b[0m\u001b[0;34m\u001b[0m\u001b[0;34m\u001b[0m\u001b[0m\n\u001b[0m",
      "\u001b[0;32m<ipython-input-6-7d1ee43a8009>\u001b[0m in \u001b[0;36mget_value\u001b[0;34m(self)\u001b[0m\n\u001b[1;32m      4\u001b[0m \u001b[0;34m\u001b[0m\u001b[0m\n\u001b[1;32m      5\u001b[0m     \u001b[0;32mdef\u001b[0m \u001b[0mget_value\u001b[0m\u001b[0;34m(\u001b[0m\u001b[0mself\u001b[0m\u001b[0;34m)\u001b[0m\u001b[0;34m:\u001b[0m\u001b[0;34m\u001b[0m\u001b[0;34m\u001b[0m\u001b[0m\n\u001b[0;32m----> 6\u001b[0;31m         \u001b[0;32mreturn\u001b[0m \u001b[0mself\u001b[0m\u001b[0;34m.\u001b[0m\u001b[0mvalue\u001b[0m\u001b[0;34m\u001b[0m\u001b[0;34m\u001b[0m\u001b[0m\n\u001b[0m\u001b[1;32m      7\u001b[0m \u001b[0;34m\u001b[0m\u001b[0m\n\u001b[1;32m      8\u001b[0m \u001b[0mobj\u001b[0m \u001b[0;34m=\u001b[0m \u001b[0mMyFirstClass\u001b[0m\u001b[0;34m(\u001b[0m\u001b[0;34m)\u001b[0m\u001b[0;34m\u001b[0m\u001b[0;34m\u001b[0m\u001b[0m\n",
      "\u001b[0;31mAttributeError\u001b[0m: 'MyFirstClass' object has no attribute 'value'"
     ]
    }
   ],
   "source": [
    "obj2 = MyFirstClass()\n",
    "\n",
    "# obj2.value\n",
    "\n",
    "obj2.get_value()"
   ]
  },
  {
   "cell_type": "markdown",
   "metadata": {},
   "source": [
    "Тут видно, что любой метод класса - это функция как минимум с __одним аргументом__. Первым аргументом всегда идет ссылка на сам экземпляр класса. Название __self__ не обязательно, но общепринято."
   ]
  },
  {
   "cell_type": "code",
   "execution_count": null,
   "metadata": {},
   "outputs": [],
   "source": [
    "str(obj)"
   ]
  },
  {
   "cell_type": "markdown",
   "metadata": {},
   "source": [
    "# Специальные методы\n",
    "\n",
    "Есть огромное количество специальных методов для класса. Все они обрамлены ``__``\n",
    "\n",
    "* `__init__(self, arg1, arg2, ...)` - конструктор класса, позволяет нужным образом проинициализировать экземпляр класса. Вызывается при создании экземпляра\n",
    "* `__repr__(self)` и `__str__(self)`\n",
    "* `__lt__(self, other)` - <\n",
    "* `__le__(self, other)` - <=\n",
    "* `__eq__(self, other)` - ==\n",
    "* `__ne__(self, other)` - !=\n",
    "* `__gt__(self, other)` - >\n",
    "* `__ge__(self, other)` - >=\n",
    "* `__bool__(self)`\n",
    "* `__add__(self, other)` -  self + other\n",
    "* `__radd__(self, other)` - other + self\n",
    "* `__len__(self)` \n",
    "* и многие другие\n",
    "\n",
    "Все методы можно найти [здесь](https://docs.python.org/3/reference/datamodel.html#special-method-names)"
   ]
  },
  {
   "cell_type": "code",
   "execution_count": 24,
   "metadata": {},
   "outputs": [
    {
     "name": "stdout",
     "output_type": "stream",
     "text": [
      "<class '__main__.MyFirstClass'>: self._value=5\n"
     ]
    },
    {
     "data": {
      "text/plain": [
       "<class '__main__.MyFirstClass'>: self._value=18"
      ]
     },
     "execution_count": 24,
     "metadata": {},
     "output_type": "execute_result"
    }
   ],
   "source": [
    "class MyFirstClass:\n",
    "    \"\"\"\n",
    "        Doc\n",
    "    \"\"\"\n",
    "    def __init__(self, value=0):\n",
    "        \"\"\"\n",
    "            Doc\n",
    "        \"\"\"\n",
    "        self._value = value\n",
    "        \n",
    "    def __add__(self, other):\n",
    "        result = MyFirstClass()\n",
    "        result._value = self._value + other._value\n",
    "        return result\n",
    "\n",
    "    def __str__(self):\n",
    "        return f'{self.__class__}: {self._value=}'\n",
    "    \n",
    "    def __repr__(self):\n",
    "        return self.__str__()\n",
    "\n",
    "        \n",
    "a = MyFirstClass(5)\n",
    "print(a)\n",
    "b = MyFirstClass(value=13)\n",
    "\n",
    "#a.__add__(b)\n",
    "a + b"
   ]
  },
  {
   "cell_type": "markdown",
   "metadata": {},
   "source": [
    "# Документирование\n",
    "\n",
    "Самая первая строка после объявления класса, функции или внутри модуля (до любых других объявлений) помещается в специальный атрибут `__doc__`, который используется для вывода документации с помощью `help()`."
   ]
  },
  {
   "cell_type": "code",
   "execution_count": 18,
   "metadata": {},
   "outputs": [
    {
     "name": "stdout",
     "output_type": "stream",
     "text": [
      "\n",
      "    Test Module\n",
      "\n",
      "\n",
      "        Test Object 2\n",
      "    \n",
      "\n",
      "        Test Function 2\n",
      "    \n"
     ]
    }
   ],
   "source": [
    "import example2\n",
    "\n",
    "print(example2.my_module2.__doc__)\n",
    "print(example2.MyObject2.__doc__)\n",
    "print(example2.func2.__doc__)"
   ]
  },
  {
   "cell_type": "markdown",
   "metadata": {},
   "source": [
    "# Домашнее задание\n",
    "\n",
    "Написать модуль, который реализует [дуальные числа](https://ru.wikipedia.org/wiki/%D0%94%D1%83%D0%B0%D0%BB%D1%8C%D0%BD%D1%8B%D0%B5_%D1%87%D0%B8%D1%81%D0%BB%D0%B0) в виде класса. Реализовать базовые операции над этими числами (сложение, вычитание, умножение)?\n",
    "\n",
    "Опционально: добавить различные математические функции, которые смогут работать с дуальными числами (sin, cos, sqrt и прочие)"
   ]
  },
  {
   "cell_type": "code",
   "execution_count": 25,
   "metadata": {},
   "outputs": [],
   "source": [
    "class Dual:\n",
    "    def __init__(self, a, b):\n",
    "        pass\n",
    "    \n",
    "    def __add__(self, other):\n",
    "        pass\n",
    "    \n",
    "    def __radd__(self, other):\n",
    "        pass\n",
    "    \n",
    "    ..."
   ]
  },
  {
   "cell_type": "code",
   "execution_count": null,
   "metadata": {},
   "outputs": [],
   "source": []
  }
 ],
 "metadata": {
  "kernelspec": {
   "display_name": "Python 3 (ipykernel)",
   "language": "python",
   "name": "python3"
  },
  "language_info": {
   "codemirror_mode": {
    "name": "ipython",
    "version": 3
   },
   "file_extension": ".py",
   "mimetype": "text/x-python",
   "name": "python",
   "nbconvert_exporter": "python",
   "pygments_lexer": "ipython3",
   "version": "3.10.11"
  }
 },
 "nbformat": 4,
 "nbformat_minor": 4
}
