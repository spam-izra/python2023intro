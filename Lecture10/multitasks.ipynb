{
 "cells": [
  {
   "cell_type": "code",
   "execution_count": 33,
   "id": "210a23f9-9c20-4e93-92cd-4cefe5cf385b",
   "metadata": {},
   "outputs": [
    {
     "data": {
      "text/plain": [
       "'4'"
      ]
     },
     "execution_count": 33,
     "metadata": {},
     "output_type": "execute_result"
    }
   ],
   "source": [
    "f'{4:x}'"
   ]
  },
  {
   "cell_type": "markdown",
   "id": "cfde22fe-9cf0-40ce-bd60-36d5d6824154",
   "metadata": {},
   "source": [
    "# Многозадачность\n",
    "\n",
    "Python предоставляет основные инструменты для работы в многозадачных системах: потоки и процессы."
   ]
  },
  {
   "cell_type": "markdown",
   "id": "32931f0f-f323-4a14-b4d3-0fd0d017566c",
   "metadata": {},
   "source": [
    "## Потоки (Thread)\n",
    "\n",
    "> **Поток** - это легковесный процесс в том же адресном пространстве, что и основной процесс.\n",
    "\n",
    "Из определения выше следует, что все потоки могут свободно получать доступ к общей информации. Из этого проистикает самая большая опасноcть - рассинхронизированность данных, которая может приводить к состоянию гонки (race condition).\n",
    "\n",
    "Также важно помнить, что создавать больше потоков, чем у вас ядер - не очень эффективно, так как в этом случае ОС будет тратить ресурсы на переключение контекста между потоками."
   ]
  },
  {
   "cell_type": "code",
   "execution_count": 15,
   "id": "4d37f708-d3df-44af-b97d-bec4f5d31eb2",
   "metadata": {},
   "outputs": [
    {
     "name": "stdout",
     "output_type": "stream",
     "text": [
      "START[T1]\n",
      "START[T2]\n",
      "END  [T1]\n",
      "END  [T2]\n"
     ]
    }
   ],
   "source": [
    "import threading\n",
    "from time import sleep\n",
    "\n",
    "# Не самый удобный способ создать поток\n",
    "class MyThread(threading.Thread):\n",
    "    def __init__(self, msg, sleep):\n",
    "        super().__init__()\n",
    "        self.msg = msg\n",
    "        self.sleep = sleep\n",
    "        \n",
    "    def run(self):\n",
    "        print(f\"START[{self.msg}]\")\n",
    "        sleep(self.sleep)\n",
    "        print(f\"END  [{self.msg}]\")\n",
    "\n",
    "t1 = MyThread(\"T1\", 2)\n",
    "t2 = MyThread(\"T2\", 5)\n",
    "t1.start()\n",
    "t2.start()\n",
    "\n",
    "# do magic\n",
    "\n",
    "t1.join()\n",
    "t2.join()"
   ]
  },
  {
   "cell_type": "code",
   "execution_count": 7,
   "id": "321b015c-0b5d-4369-bf7d-29bc3f2a3374",
   "metadata": {},
   "outputs": [
    {
     "name": "stdout",
     "output_type": "stream",
     "text": [
      "START[T1]\n",
      "START[T2]\n",
      "END  [T2]\n",
      "END  [T1]\n"
     ]
    }
   ],
   "source": [
    "import threading\n",
    "from time import sleep\n",
    "\n",
    "def Task(msg, t):\n",
    "    print(f\"START[{msg}]\")\n",
    "    sleep(t)\n",
    "    print(f\"END  [{msg}]\")\n",
    "\n",
    "# Так чуток удобнее\n",
    "t1 = threading.Thread(target=Task, args=(\"T1\", 5))\n",
    "t2 = threading.Thread(target=Task, args=(\"T2\", 2))\n",
    "t1.start()\n",
    "t2.start()\n",
    "\n",
    "t1.join()\n",
    "t2.join()"
   ]
  },
  {
   "cell_type": "markdown",
   "id": "d46cc61f-feb5-4934-9048-17fb6f15b1c2",
   "metadata": {},
   "source": [
    "> `Thread.join([timeout])` - позволяет дождаться выполнения кода внутри потока"
   ]
  },
  {
   "cell_type": "markdown",
   "id": "dca7af2c-57a8-41df-aabb-b0f2667bd754",
   "metadata": {},
   "source": [
    "## Синхронизация\n",
    "\n",
    "Самым простым объектом синхронизации является мьютекс, которые в Python имеет название `Lock` (`RLock`). Мьютекс работает просто, при попытке любым потоком его захватить, то если данный мьютекс уже захвачен, то поток будет ждать, пока он не освободится. Нужно очень осторожно организовывать код доступа к общим данным, чтобы из-за взаимной блокировки разных мьютексов не возник deadlock."
   ]
  },
  {
   "cell_type": "code",
   "execution_count": 26,
   "id": "c6eab006-6399-4c49-84d6-6ba30302a9bc",
   "metadata": {},
   "outputs": [
    {
     "name": "stdout",
     "output_type": "stream",
     "text": [
      "counter=20\n",
      "counter=10\n",
      "counter=10\n"
     ]
    }
   ],
   "source": [
    "from threading import Thread\n",
    "from time import sleep\n",
    "\n",
    "counter = 0\n",
    "\n",
    "def increase(value):\n",
    "    global counter\n",
    "\n",
    "    local_counter = counter\n",
    "    local_counter += value\n",
    "\n",
    "    sleep(0.1)\n",
    "\n",
    "    counter = local_counter\n",
    "    print(f'counter={counter}')\n",
    "\n",
    "\n",
    "# Создаем потоки\n",
    "t1 = Thread(target=increase, args=(10,))\n",
    "t2 = Thread(target=increase, args=(20,))\n",
    "\n",
    "# Стартуем\n",
    "t1.start()\n",
    "t2.start()\n",
    "\n",
    "\n",
    "# Ждем\n",
    "t1.join()\n",
    "t2.join()\n",
    "\n",
    "# Вывод будет случайным\n",
    "print(f'{counter=}')"
   ]
  },
  {
   "cell_type": "code",
   "execution_count": 27,
   "id": "19281753-7480-4db5-a3f8-652412910da6",
   "metadata": {},
   "outputs": [
    {
     "name": "stdout",
     "output_type": "stream",
     "text": [
      "counter=10\n",
      "counter=30\n",
      "counter=30\n"
     ]
    }
   ],
   "source": [
    "from threading import Thread, Lock\n",
    "from time import sleep\n",
    "\n",
    "counter = 0\n",
    "lock = Lock()\n",
    "\n",
    "def increase(by):\n",
    "    # альтернатива, можно вручную вызвать lock.acquire() \n",
    "    # и lock.release(), но это опаснее\n",
    "    with lock:\n",
    "        global counter\n",
    "    \n",
    "        local_counter = counter\n",
    "        local_counter += by\n",
    "    \n",
    "        sleep(0.1)\n",
    "    \n",
    "        counter = local_counter\n",
    "        print(f'counter={counter}')\n",
    "\n",
    "\n",
    "# Создаем потоки\n",
    "t1 = Thread(target=increase, args=(10,))\n",
    "t2 = Thread(target=increase, args=(20,))\n",
    "\n",
    "# Стартуем\n",
    "t1.start()\n",
    "t2.start()\n",
    "\n",
    "\n",
    "# Ждем\n",
    "t1.join()\n",
    "t2.join()\n",
    "\n",
    "# Вывод будет однозначным\n",
    "print(f'{counter=}')"
   ]
  },
  {
   "cell_type": "markdown",
   "id": "85e66ba5-628d-4fb9-bddd-c039bde042bd",
   "metadata": {},
   "source": [
    "# `concurrent.futures`\n",
    "\n",
    "Вариант использования потоков из предыдущего раздела подходит либо для разовым операций или для организации одной фоновой задачи. Если есть множество задач, которые нужно максимально эффективно выполнить, то удобнее использовать модуль [concurrent.futures](https://docs.python.org/3/library/concurrent.futures.html).\n",
    "\n",
    "Оригинал: [Зачем, когда и как использовать multithreading и multiprocessing в Python](https://habr.com/ru/companies/otus/articles/501056/)"
   ]
  },
  {
   "cell_type": "markdown",
   "id": "18eff9f3-c518-4c51-a3ea-1532d2d24323",
   "metadata": {},
   "source": [
    "> Задача:получить данные по всем URL, заданным в списке"
   ]
  },
  {
   "cell_type": "code",
   "execution_count": 19,
   "id": "7c5aeccb-82e5-4a22-8803-2159adc6d99f",
   "metadata": {},
   "outputs": [],
   "source": [
    "import urllib.request\n",
    "from concurrent.futures import ThreadPoolExecutor\n",
    "\n",
    "urls = [\n",
    "  'http://www.python.org',\n",
    "  'https://docs.python.org/3/',\n",
    "  'https://docs.python.org/3/whatsnew/3.12.html',\n",
    "  'https://docs.python.org/3/tutorial/index.html',\n",
    "  'https://docs.python.org/3/library/index.html',\n",
    "  'https://docs.python.org/3/reference/index.html',\n",
    "  'https://docs.python.org/3/using/index.html',\n",
    "  'https://docs.python.org/3/howto/index.html',\n",
    "  'https://docs.python.org/3/installing/index.html',\n",
    "  'https://docs.python.org/3/distributing/index.html',\n",
    "  'https://docs.python.org/3/extending/index.html',\n",
    "  'https://docs.python.org/3/c-api/index.html',\n",
    "  'https://docs.python.org/3/faq/index.html'\n",
    "]\n",
    "\n",
    "def get_data(url):\n",
    "    with urllib.request.urlopen(url) as src:\n",
    "        return src.read()"
   ]
  },
  {
   "cell_type": "code",
   "execution_count": 21,
   "id": "2ac258e0-257b-45d4-8ab6-2c1ee48d34e1",
   "metadata": {},
   "outputs": [
    {
     "name": "stdout",
     "output_type": "stream",
     "text": [
      "CPU times: total: 203 ms\n",
      "Wall time: 4.41 s\n"
     ]
    }
   ],
   "source": [
    "%%time\n",
    "\n",
    "results = []\n",
    "for url in urls:\n",
    "    page = get_data(url)\n",
    "    results.append(page)"
   ]
  },
  {
   "cell_type": "code",
   "execution_count": 29,
   "id": "25770ca1-720c-4d37-86a0-9472182a613e",
   "metadata": {},
   "outputs": [
    {
     "name": "stdout",
     "output_type": "stream",
     "text": [
      "b'<!doctype html>\\n<!--'\n",
      "CPU times: total: 234 ms\n",
      "Wall time: 4.29 s\n"
     ]
    }
   ],
   "source": [
    "%%time\n",
    "\n",
    "# А теперь используем пул потоков\n",
    "with ThreadPoolExecutor(1) as executor:\n",
    "    # можно добавлять по одной через submit (возвращает Future, вместо генератора), \n",
    "    # но map в данном случае удобнее\n",
    "    results = executor.map(get_data, urls)\n",
    "    print(next(results)[:20])"
   ]
  },
  {
   "cell_type": "code",
   "execution_count": 30,
   "id": "ec9107e6-57df-4138-9a1e-84d91e4d01f1",
   "metadata": {},
   "outputs": [
    {
     "name": "stdout",
     "output_type": "stream",
     "text": [
      "CPU times: total: 203 ms\n",
      "Wall time: 1.27 s\n"
     ]
    }
   ],
   "source": [
    "%%time\n",
    "\n",
    "# А теперь используем несколько потоков\n",
    "with ThreadPoolExecutor(4) as executor:\n",
    "    # можно добавлять по одной через submit (возвращает Future, вместо генератора), \n",
    "    # но map в данном случае удобнее\n",
    "    results = executor.map(get_data, urls)"
   ]
  },
  {
   "cell_type": "code",
   "execution_count": 31,
   "id": "cb1aae79-cd48-47c6-bf3e-1122f87ef21c",
   "metadata": {},
   "outputs": [
    {
     "name": "stdout",
     "output_type": "stream",
     "text": [
      "CPU times: total: 281 ms\n",
      "Wall time: 667 ms\n"
     ]
    }
   ],
   "source": [
    "%%time\n",
    "\n",
    "# А теперь используем несколько потоков\n",
    "with ThreadPoolExecutor(8) as executor:\n",
    "    # можно добавлять по одной через submit (возвращает Future, вместо генератора), \n",
    "    # но map в данном случае удобнее\n",
    "    results = executor.map(get_data, urls)"
   ]
  },
  {
   "cell_type": "code",
   "execution_count": 32,
   "id": "90a55883-8126-484e-be8e-e3553cc2419c",
   "metadata": {},
   "outputs": [
    {
     "name": "stdout",
     "output_type": "stream",
     "text": [
      "CPU times: total: 250 ms\n",
      "Wall time: 674 ms\n"
     ]
    }
   ],
   "source": [
    "%%time\n",
    "\n",
    "# А теперь используем несколько потоков\n",
    "with ThreadPoolExecutor(16) as executor:\n",
    "    # можно добавлять по одной через submit (возвращает Future, вместо генератора), \n",
    "    # но map в данном случае удобнее\n",
    "    results = executor.map(get_data, urls)"
   ]
  },
  {
   "cell_type": "code",
   "execution_count": 33,
   "id": "2d3d9aee-f3e1-4195-bad1-ea1a9a64add0",
   "metadata": {},
   "outputs": [
    {
     "name": "stdout",
     "output_type": "stream",
     "text": [
      "CPU times: total: 266 ms\n",
      "Wall time: 735 ms\n"
     ]
    }
   ],
   "source": [
    "%%time\n",
    "\n",
    "# А теперь используем несколько потоков\n",
    "with ThreadPoolExecutor(32) as executor:\n",
    "    # можно добавлять по одной через submit (возвращает Future, вместо генератора), \n",
    "    # но map в данном случае удобнее\n",
    "    results = executor.map(get_data, urls)"
   ]
  },
  {
   "cell_type": "markdown",
   "id": "a5706838-27b6-435a-a64a-ba84bc72b20e",
   "metadata": {},
   "source": [
    "# Ложка дегтя\n",
    "\n",
    "Попробуем посчитать число $\\pi$ интегрируя $y = \\sqrt{1 - x^2}$ от -1 до +1"
   ]
  },
  {
   "cell_type": "code",
   "execution_count": 2,
   "id": "d6c5bd43-fa6b-45c3-bc81-0c77760eb3f9",
   "metadata": {},
   "outputs": [],
   "source": [
    "import math\n",
    "\n",
    "def linspace(a, b, N):\n",
    "    assert N > 1\n",
    "    result = [a,]\n",
    "    dx = (b - a) / (N - 1)    \n",
    "    for n in range(1, N - 1):\n",
    "        result.append(a + dx * n)\n",
    "    result.append(b)\n",
    "    return result\n",
    "\n",
    "def integrate(f, *, a, b, N):\n",
    "    x = linspace(a, b, N)\n",
    "\n",
    "    value = 0\n",
    "    for left, right in zip(x[:-1], x[1:]):\n",
    "        value += (F(left) + F(right)) * 0.5 * (right - left)\n",
    "    return value\n",
    "\n",
    "def F(x):\n",
    "    return math.sqrt(1 - x**2)"
   ]
  },
  {
   "cell_type": "code",
   "execution_count": 54,
   "id": "4f6eeea9-7250-4659-b28c-2ab0e22f2038",
   "metadata": {},
   "outputs": [
    {
     "name": "stdout",
     "output_type": "stream",
     "text": [
      "CPU times: total: 5.66 s\n",
      "Wall time: 5.71 s\n"
     ]
    },
    {
     "data": {
      "text/plain": [
       "3.141592653292644"
      ]
     },
     "execution_count": 54,
     "metadata": {},
     "output_type": "execute_result"
    }
   ],
   "source": [
    "%%time\n",
    "\n",
    "# простая реализация\n",
    "integrate(F, a=-1, b=1, N=5000000) * 2"
   ]
  },
  {
   "cell_type": "code",
   "execution_count": 3,
   "id": "cb4e70e5-9a32-465c-9d77-d79b61b6cc9b",
   "metadata": {},
   "outputs": [
    {
     "data": {
      "text/plain": [
       "[{'a': -1, 'b': -0.8, 'N': 500000},\n",
       " {'a': -0.8, 'b': -0.6, 'N': 500000},\n",
       " {'a': -0.6, 'b': -0.3999999999999999, 'N': 500000},\n",
       " {'a': -0.3999999999999999, 'b': -0.19999999999999996, 'N': 500000},\n",
       " {'a': -0.19999999999999996, 'b': 0.0, 'N': 500000},\n",
       " {'a': 0.0, 'b': 0.20000000000000018, 'N': 500000},\n",
       " {'a': 0.20000000000000018, 'b': 0.40000000000000013, 'N': 500000},\n",
       " {'a': 0.40000000000000013, 'b': 0.6000000000000001, 'N': 500000},\n",
       " {'a': 0.6000000000000001, 'b': 0.8, 'N': 500000},\n",
       " {'a': 0.8, 'b': 1, 'N': 500000}]"
      ]
     },
     "execution_count": 3,
     "metadata": {},
     "output_type": "execute_result"
    }
   ],
   "source": [
    "N = 5000000\n",
    "steps = 10\n",
    "dN = N // steps\n",
    "nodes = linspace(-1, 1, steps + 1)\n",
    "\n",
    "args = []\n",
    "for a, b in zip(nodes[:-1], nodes[1:]):\n",
    "    args.append(dict(a=a, b=b, N=dN))    \n",
    "args"
   ]
  },
  {
   "cell_type": "code",
   "execution_count": 66,
   "id": "d79620b9-26c4-4ae2-8e7f-a236bb1e63c4",
   "metadata": {},
   "outputs": [
    {
     "name": "stdout",
     "output_type": "stream",
     "text": [
      "CPU times: total: 4.84 s\n",
      "Wall time: 4.86 s\n"
     ]
    },
    {
     "data": {
      "text/plain": [
       "3.1415926532923013"
      ]
     },
     "execution_count": 66,
     "metadata": {},
     "output_type": "execute_result"
    }
   ],
   "source": [
    "%%time \n",
    "\n",
    "value = 0\n",
    "with ThreadPoolExecutor(1) as executor:\n",
    "    value = sum(executor.map(lambda args: integrate(F, **args), args)) * 2    \n",
    "value"
   ]
  },
  {
   "cell_type": "code",
   "execution_count": 67,
   "id": "3abfad6a-67c7-4695-bd5f-f1ae2b1d56e7",
   "metadata": {},
   "outputs": [
    {
     "name": "stdout",
     "output_type": "stream",
     "text": [
      "CPU times: total: 4.83 s\n",
      "Wall time: 4.87 s\n"
     ]
    },
    {
     "data": {
      "text/plain": [
       "3.1415926532923013"
      ]
     },
     "execution_count": 67,
     "metadata": {},
     "output_type": "execute_result"
    }
   ],
   "source": [
    "%%time \n",
    "\n",
    "value = 0\n",
    "with ThreadPoolExecutor(4) as executor:\n",
    "    value = sum(executor.map(lambda args: integrate(F, **args), args)) * 2    \n",
    "value"
   ]
  },
  {
   "cell_type": "code",
   "execution_count": 71,
   "id": "6a995b1a-79d9-4941-8fef-993be8245ffd",
   "metadata": {},
   "outputs": [
    {
     "name": "stdout",
     "output_type": "stream",
     "text": [
      "CPU times: total: 4.89 s\n",
      "Wall time: 4.99 s\n"
     ]
    },
    {
     "data": {
      "text/plain": [
       "3.1415926532923013"
      ]
     },
     "execution_count": 71,
     "metadata": {},
     "output_type": "execute_result"
    }
   ],
   "source": [
    "%%time \n",
    "\n",
    "value = 0\n",
    "with ThreadPoolExecutor(8) as executor:\n",
    "    value = sum(executor.map(lambda args: integrate(F, **args), args)) * 2    \n",
    "value"
   ]
  },
  {
   "cell_type": "markdown",
   "id": "7577b58e-e999-49d7-9473-a365246d45a2",
   "metadata": {},
   "source": [
    "Не важно, сколько потоков поставим - время выполнения почти не меняется. Проблема в GIL (global interpreter lock). **Грубо говоря в один момент времени может выполнятся только один поток, не важно сколько при этом их было создано.**\n",
    "\n",
    "Но почему тогда для чтения данных с сайта мы получили прирост скорости?"
   ]
  },
  {
   "cell_type": "markdown",
   "id": "ba0a5b6f-2e21-48ed-ab48-e65ab1fa697a",
   "metadata": {},
   "source": [
    "## `multiprocessing`\n",
    "\n",
    "Вместо создания потоков можно создавать процессы. Это немного дороже с точки зрения времени создания и оперативной памяти, но безопасней с точки зрения доступа к данным. Процесс не может (простым способом) получить доступ к памяти другого процесса.\n",
    "\n",
    "Работа с процессами практически идентична. Вместо `Thread` мы имеем `Proccess`. Единственная сложность - организация обмена данными между процессами немного сложнее.\n",
    "\n",
    "Есть точно также пул процессов.\n",
    "\n",
    "Также обязательно нужно использовать конструкцию для запуска основного кода, так как текущий модуль будет использоваться всеми процессами\n",
    "```Python\n",
    "if __name__ == '__main__':\n",
    "    ...\n",
    "```\n",
    "\n",
    "Пример в `mp.py`."
   ]
  },
  {
   "cell_type": "code",
   "execution_count": null,
   "id": "ec0b9734-f7ed-4145-8df1-58293e88a1bf",
   "metadata": {},
   "outputs": [],
   "source": []
  }
 ],
 "metadata": {
  "kernelspec": {
   "display_name": "Python 3 (ipykernel)",
   "language": "python",
   "name": "python3"
  },
  "language_info": {
   "codemirror_mode": {
    "name": "ipython",
    "version": 3
   },
   "file_extension": ".py",
   "mimetype": "text/x-python",
   "name": "python",
   "nbconvert_exporter": "python",
   "pygments_lexer": "ipython3",
   "version": "3.10.11"
  }
 },
 "nbformat": 4,
 "nbformat_minor": 5
}
