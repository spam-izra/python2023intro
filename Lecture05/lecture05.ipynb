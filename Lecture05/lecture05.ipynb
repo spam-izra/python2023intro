{
 "cells": [
  {
   "cell_type": "markdown",
   "metadata": {},
   "source": [
    "# Лекция 5. Файлы. Функции (начало).\n",
    "\n",
    "* Файлы\n",
    "* Функции (начало)"
   ]
  },
  {
   "cell_type": "markdown",
   "metadata": {},
   "source": [
    "# Файлы\n",
    "\n",
    "В __Python__'e работа с файлами невероятно простая. Достаточно использовать функцию __open()__\n",
    "\n",
    "```Python\n",
    "open(<путь>[, <режим>])\n",
    "```\n",
    "\n",
    "Путь может быть относительным или полным. \n",
    "\n",
    "Доступны следующие режимы (их можно комбинировать вместе)\n",
    "- `\"r\"` - открыть для чтения\n",
    "- `\"w\"` - открыть для записи, создает файл если его нет, если есть - очищает его содержимое\n",
    "- `\"rw\"` - открыть для чтения и записи\n",
    "- `\"a\"` - открыть для добавления данный в конец файла\n",
    "- `\"b\"` - добавить, чтобы открыть файл в бинарном режиме\n",
    "- `\"t\"` - добавить, чтобы открыть файл в текстовом режиме, можно не писать, так как присутствует по умолчанию, если не указано \"b\"\n",
    "- `\"+\"` - открыть файл для обновления (чтение и запись), нужно использовать с `r`, `w`, `a` режимами\n",
    "\n",
    "Если режим не указан, то он считается \"rt\""
   ]
  },
  {
   "cell_type": "code",
   "execution_count": 2,
   "metadata": {},
   "outputs": [],
   "source": [
    "# Это все одно и тоже\n",
    "\n",
    "f = open('sample.txt')\n",
    "f = open('sample.txt', 'r')\n",
    "f = open('sample.txt', 'rt')"
   ]
  },
  {
   "cell_type": "markdown",
   "metadata": {},
   "source": [
    "Также для текстовых файлов можно указывать конкретную кодировку"
   ]
  },
  {
   "cell_type": "code",
   "execution_count": 4,
   "metadata": {},
   "outputs": [],
   "source": [
    "f = open('sample.txt', encoding=\"cp1251\")"
   ]
  },
  {
   "cell_type": "markdown",
   "metadata": {},
   "source": [
    "У файла есть следующие методы\n",
    "\n",
    "- `f.read()` - читает весь файл в одну строку\n",
    "- `f.read(N)` - читает N символов(или байт) от текущей позиции\n",
    "- `f.readline()` - читает строку до '\\n', включительно\n",
    "- `f.readlines()` - читает все строки и возвращает их список\n",
    "- `f.write(\"hi\")` - записывает символы(или байты) начиная с текущей позиции\n",
    "- `f.writelines([\"a\", \"b\"])` - записывает строки в файл\n",
    "- `f.flush()` - сбрасывает буфер на диск\n",
    "- `f.close()` - закрывает файл (автоматически сбрасывает буфер на диск)\n",
    "- `f.seek(N), f.seek(N, 0)` - перейти на позицию N в файле. Второй аргумент указывает с какого конца считать позицию(0 - от начала, 1 - от текущей позиции, 2 - с конца)\n",
    "- `f.tell()` - текущая позиция"
   ]
  },
  {
   "cell_type": "code",
   "execution_count": 11,
   "metadata": {},
   "outputs": [
    {
     "name": "stdout",
     "output_type": "stream",
     "text": [
      "line1\n",
      "\n"
     ]
    }
   ],
   "source": [
    "f = open('sample.txt', encoding=\"cp1251\")\n",
    "print(f.readline())\n",
    "f.close()"
   ]
  },
  {
   "cell_type": "code",
   "execution_count": 3,
   "metadata": {},
   "outputs": [
    {
     "name": "stdout",
     "output_type": "stream",
     "text": [
      "23 bytes\n"
     ]
    }
   ],
   "source": [
    "# очень \"неправильный\" способ получения размера файла\n",
    "\n",
    "f = open(\"sample.txt\", 'rb')\n",
    "f.seek(0, 2)\n",
    "print(f.tell(), \"bytes\")"
   ]
  },
  {
   "cell_type": "code",
   "execution_count": 44,
   "metadata": {},
   "outputs": [
    {
     "data": {
      "text/plain": [
       "b'line1\\nline2\\nline3\\nline4\\nline5\\nline6'"
      ]
     },
     "execution_count": 44,
     "metadata": {},
     "output_type": "execute_result"
    }
   ],
   "source": [
    "f.seek(0)\n",
    "f.read()"
   ]
  },
  {
   "cell_type": "code",
   "execution_count": 47,
   "metadata": {},
   "outputs": [
    {
     "data": {
      "text/plain": [
       "b'line1\\n'"
      ]
     },
     "execution_count": 47,
     "metadata": {},
     "output_type": "execute_result"
    }
   ],
   "source": [
    "f.seek(0)\n",
    "f.readline()"
   ]
  },
  {
   "cell_type": "markdown",
   "metadata": {},
   "source": [
    "Файл поддерживает протокол итераций"
   ]
  },
  {
   "cell_type": "code",
   "execution_count": 12,
   "metadata": {},
   "outputs": [
    {
     "name": "stdout",
     "output_type": "stream",
     "text": [
      "line1\n",
      "\n",
      "line2\n",
      "\n",
      "line3\n",
      "\n",
      "line4\n"
     ]
    }
   ],
   "source": [
    "f = open('sample.txt', 'r')\n",
    "\n",
    "for line in f:\n",
    "    # лишний перенос строки получаем из-за того, что читаем его из файла\n",
    "    print(line)\n",
    "    # Можем потом убрать этот символ если он не нужен\n",
    "    line = line.rstrip()"
   ]
  },
  {
   "cell_type": "markdown",
   "metadata": {},
   "source": [
    "Также для записи в файл можем использовать __print()__"
   ]
  },
  {
   "cell_type": "code",
   "execution_count": 49,
   "metadata": {},
   "outputs": [],
   "source": [
    "f = open('test.txt', \"w\")\n",
    "\n",
    "print(\"hello world\", file=f)\n",
    "# или эквивалент\n",
    "# f.write(\"hello world\\n\")\n",
    "\n",
    "f.close()"
   ]
  },
  {
   "cell_type": "markdown",
   "metadata": {},
   "source": [
    "## `with` (менеджер контекста)\n",
    "\n",
    "При работе с файлами, __важно__ не забывать закрывать их за собой, так как они открыты до тех пор, пока сборщик мусора не удалит их. Также программе разрешенно держать открытыми только ограниченное число файлов. \n",
    "\n",
    "В случае возникновения исключительных ситуаций или написании кода, нередко можно забыть закрыть за собой файл. Чтобы избежать таких проблем, Python поддерживает очень удобный оператор __with__."
   ]
  },
  {
   "cell_type": "code",
   "execution_count": 56,
   "metadata": {},
   "outputs": [],
   "source": [
    "with open(\"test.txt\", \"wb\") as f:\n",
    "    f.write(b\"\\x01\\x01\\x01\\x01\\x01\\x01\\x01\\x01\")\n",
    "\n",
    "# не нужно вызывать f.close(), так как он будет вызван автоматически при любом выходе из блока with"
   ]
  },
  {
   "cell_type": "code",
   "execution_count": null,
   "metadata": {},
   "outputs": [],
   "source": [
    "# или эквивалент\n",
    "\n",
    "f = open(\"test.txt\", \"wb\")\n",
    "try: \n",
    "    f.write(b\"\\x01\\x01\\x01\\x01\\x01\\x01\\x01\\x01\")\n",
    "finally:\n",
    "    f.close()"
   ]
  },
  {
   "cell_type": "markdown",
   "metadata": {},
   "source": [
    "# Функции\n",
    "\n",
    "Функции позволяют эффективно повторно использовать уже написанный код или производить его декомпозицию на небольшие самостоятельные задачи. Создать функцию несложно\n",
    "\n",
    "```Python\n",
    "def <имя функции>(<аргументы>):\n",
    "    <тело функции>\n",
    "```"
   ]
  },
  {
   "cell_type": "code",
   "execution_count": 17,
   "metadata": {},
   "outputs": [],
   "source": [
    "def SayHello(name):\n",
    "    print(f\"Hello, {name}!\")\n",
    "    2 + 5"
   ]
  },
  {
   "cell_type": "code",
   "execution_count": 8,
   "metadata": {},
   "outputs": [
    {
     "name": "stdout",
     "output_type": "stream",
     "text": [
      "Hello, Nico!\n"
     ]
    }
   ],
   "source": [
    "a = SayHello(\"Nico\")"
   ]
  },
  {
   "cell_type": "code",
   "execution_count": 9,
   "metadata": {},
   "outputs": [
    {
     "name": "stdout",
     "output_type": "stream",
     "text": [
      "None\n"
     ]
    }
   ],
   "source": [
    "print(a)"
   ]
  },
  {
   "cell_type": "markdown",
   "metadata": {},
   "source": [
    "Внутри функции можно использовать `return`, который позволяет получить результат из функции"
   ]
  },
  {
   "cell_type": "code",
   "execution_count": 23,
   "metadata": {},
   "outputs": [],
   "source": [
    "def Add(a, b):\n",
    "    return a + b"
   ]
  },
  {
   "cell_type": "code",
   "execution_count": 43,
   "metadata": {},
   "outputs": [
    {
     "name": "stdout",
     "output_type": "stream",
     "text": [
      "25\n"
     ]
    }
   ],
   "source": [
    "a = Add(10, 15)\n",
    "print(a)"
   ]
  },
  {
   "cell_type": "code",
   "execution_count": 25,
   "metadata": {},
   "outputs": [
    {
     "data": {
      "text/plain": [
       "'Hello World'"
      ]
     },
     "execution_count": 25,
     "metadata": {},
     "output_type": "execute_result"
    }
   ],
   "source": [
    "# И самое интересное\n",
    "\n",
    "Add(\"Hello \", \"World\")"
   ]
  },
  {
   "cell_type": "code",
   "execution_count": 27,
   "metadata": {},
   "outputs": [
    {
     "data": {
      "text/plain": [
       "[1, 2, 3, 4]"
      ]
     },
     "execution_count": 27,
     "metadata": {},
     "output_type": "execute_result"
    }
   ],
   "source": [
    "# и даже больше\n",
    "\n",
    "Add([1,2], [3, 4])"
   ]
  },
  {
   "cell_type": "markdown",
   "metadata": {},
   "source": [
    "Здесь хорошо видно, что конкретное действие определяется исключительно только типом переменных, которые участвуют в выражениях."
   ]
  },
  {
   "cell_type": "markdown",
   "metadata": {},
   "source": [
    "Из функций можно вызывать другие функции, даже если они объявлены позже. Это связано с тем, что тело функции не выполняется, пока функция не была вызвана"
   ]
  },
  {
   "cell_type": "code",
   "execution_count": 21,
   "metadata": {},
   "outputs": [
    {
     "name": "stdout",
     "output_type": "stream",
     "text": [
      "Hi\n"
     ]
    }
   ],
   "source": [
    "def SomeFunc1():\n",
    "    SomeFunc2()\n",
    "    \n",
    "def SomeFunc2():\n",
    "    print(\"Hi\")\n",
    "    \n",
    "SomeFunc1()"
   ]
  },
  {
   "cell_type": "markdown",
   "metadata": {},
   "source": [
    "# Область видимости\n",
    "\n",
    "Каждая функция фактически определяет свою _локальную_ область видимости"
   ]
  },
  {
   "cell_type": "code",
   "execution_count": 30,
   "metadata": {},
   "outputs": [
    {
     "ename": "NameError",
     "evalue": "name 'some_var' is not defined",
     "output_type": "error",
     "traceback": [
      "\u001b[0;31m---------------------------------------------------------------------------\u001b[0m",
      "\u001b[0;31mNameError\u001b[0m                                 Traceback (most recent call last)",
      "\u001b[0;32m<ipython-input-30-8601750cfcf4>\u001b[0m in \u001b[0;36m<module>\u001b[0;34m\u001b[0m\n\u001b[1;32m      4\u001b[0m \u001b[0;34m\u001b[0m\u001b[0m\n\u001b[1;32m      5\u001b[0m \u001b[0;31m# это вызовет ошибку\u001b[0m\u001b[0;34m\u001b[0m\u001b[0;34m\u001b[0m\u001b[0m\n\u001b[0;32m----> 6\u001b[0;31m \u001b[0mprint\u001b[0m\u001b[0;34m(\u001b[0m\u001b[0msome_var\u001b[0m\u001b[0;34m)\u001b[0m\u001b[0;34m\u001b[0m\u001b[0;34m\u001b[0m\u001b[0m\n\u001b[0m",
      "\u001b[0;31mNameError\u001b[0m: name 'some_var' is not defined"
     ]
    }
   ],
   "source": [
    "def SomeFunc():\n",
    "    some_var = 5\n",
    "    print(some_var)\n",
    "    \n",
    "# это вызовет ошибку\n",
    "print(some_var)"
   ]
  },
  {
   "cell_type": "code",
   "execution_count": 50,
   "metadata": {},
   "outputs": [
    {
     "name": "stdout",
     "output_type": "stream",
     "text": [
      "5\n"
     ]
    },
    {
     "ename": "NameError",
     "evalue": "name 'some_var' is not defined",
     "output_type": "error",
     "traceback": [
      "\u001b[0;31m---------------------------------------------------------------------------\u001b[0m",
      "\u001b[0;31mNameError\u001b[0m                                 Traceback (most recent call last)",
      "\u001b[0;32m<ipython-input-50-b10d9443622e>\u001b[0m in \u001b[0;36m<module>\u001b[0;34m\u001b[0m\n\u001b[1;32m      2\u001b[0m \u001b[0;34m\u001b[0m\u001b[0m\n\u001b[1;32m      3\u001b[0m \u001b[0;31m# все-равно вызывает ошибку\u001b[0m\u001b[0;34m\u001b[0m\u001b[0;34m\u001b[0m\u001b[0;34m\u001b[0m\u001b[0m\n\u001b[0;32m----> 4\u001b[0;31m \u001b[0mprint\u001b[0m\u001b[0;34m(\u001b[0m\u001b[0msome_var\u001b[0m\u001b[0;34m)\u001b[0m\u001b[0;34m\u001b[0m\u001b[0;34m\u001b[0m\u001b[0m\n\u001b[0m",
      "\u001b[0;31mNameError\u001b[0m: name 'some_var' is not defined"
     ]
    }
   ],
   "source": [
    "SomeFunc()\n",
    "\n",
    "# все-равно вызывает ошибку\n",
    "print(some_var)"
   ]
  },
  {
   "cell_type": "markdown",
   "metadata": {},
   "source": [
    "Переменные объявленные внутри функции доступны только внутри этой функции."
   ]
  },
  {
   "cell_type": "markdown",
   "metadata": {},
   "source": [
    "Ладно, попробуем сделать наоборот"
   ]
  },
  {
   "cell_type": "code",
   "execution_count": 31,
   "metadata": {},
   "outputs": [
    {
     "name": "stdout",
     "output_type": "stream",
     "text": [
      "5\n"
     ]
    }
   ],
   "source": [
    "a = 5\n",
    "\n",
    "def SomeFunc():\n",
    "    a = 13\n",
    "    \n",
    "SomeFunc()\n",
    "print(a) # неожиданный результат"
   ]
  },
  {
   "cell_type": "markdown",
   "metadata": {},
   "source": [
    "Такое поведение выше, связано с тем, что мы объявили новую переменную, а `=` именно это и делает. Таким образом, у нас появилась переменная с таким же названием, но в локальной области видимости функции. Каждый вызов функции создает свою локальную область видимости."
   ]
  },
  {
   "cell_type": "code",
   "execution_count": 38,
   "metadata": {},
   "outputs": [
    {
     "data": {
      "text/plain": [
       "(1, 1, 2, 3, 5, 8)"
      ]
     },
     "execution_count": 38,
     "metadata": {},
     "output_type": "execute_result"
    }
   ],
   "source": [
    "def Fibonacci(n):\n",
    "    if n <= 0:\n",
    "        raise Exception(\"Invalid Input\")\n",
    "        \n",
    "    if n in (1, 2):\n",
    "        return 1\n",
    "    \n",
    "    return Fibonacci(n - 1) + Fibonacci(n - 2)\n",
    "        \n",
    "\n",
    "Fibonacci(1), Fibonacci(2), Fibonacci(3), Fibonacci(4), Fibonacci(5), Fibonacci(6)"
   ]
  },
  {
   "cell_type": "code",
   "execution_count": 52,
   "metadata": {},
   "outputs": [
    {
     "name": "stdout",
     "output_type": "stream",
     "text": [
      "[1]\n"
     ]
    }
   ],
   "source": [
    "a = []\n",
    "\n",
    "def SomeFunc():\n",
    "    a.append(1)\n",
    "    \n",
    "SomeFunc()\n",
    "print(a) # Хм, опять не самый ожидаемый результат"
   ]
  },
  {
   "cell_type": "markdown",
   "metadata": {},
   "source": [
    "А вот тут все интереснее. При вызове переменной (мы её не создавали), Python не находит её в текущей области видимости, поэтому он поднимается на одну область видимости выше и ищет переменную уже там. В объемлющей _глобальной_ области видимости переменная есть, вот её мы и меняем."
   ]
  },
  {
   "cell_type": "markdown",
   "metadata": {},
   "source": [
    "Особенность _глобальной_ области видимости в том, что она доступная внутри текущего файла (модуля) и не доступа из других файлов."
   ]
  },
  {
   "cell_type": "markdown",
   "metadata": {},
   "source": [
    "## Доступ к глобальной области видимости\n",
    "\n",
    "Хоть это и не рекомендуется, но если очень хочется, то мы все же можем изменить из функции глобальную переменную.\n",
    "\n",
    "> `global variable` - данное ключевое слово говорит, что данная переменная доступна в глобальной области видимости"
   ]
  },
  {
   "cell_type": "code",
   "execution_count": 54,
   "metadata": {},
   "outputs": [
    {
     "name": "stdout",
     "output_type": "stream",
     "text": [
      "5\n",
      "13\n"
     ]
    }
   ],
   "source": [
    "a = 5\n",
    "\n",
    "def SomeFunc():\n",
    "    global a \n",
    "    a = 13\n",
    "  \n",
    "print(a)\n",
    "SomeFunc()\n",
    "print(a)"
   ]
  },
  {
   "cell_type": "markdown",
   "metadata": {},
   "source": [
    "## Вложенные функции\n",
    "\n",
    "Никто нам не запрещает создавать функции внутри функций"
   ]
  },
  {
   "cell_type": "code",
   "execution_count": 56,
   "metadata": {},
   "outputs": [
    {
     "name": "stdout",
     "output_type": "stream",
     "text": [
      "Inner\n",
      "5\n"
     ]
    }
   ],
   "source": [
    "def SomeFunc():\n",
    "    def InnerFunc():\n",
    "        print(\"Inner\")\n",
    "        \n",
    "    InnerFunc()\n",
    "    InnerFunc = 5\n",
    "    return InnerFunc\n",
    "    \n",
    "print(SomeFunc())"
   ]
  },
  {
   "cell_type": "markdown",
   "metadata": {},
   "source": [
    "У вложенных функций создается своя локальная область видимости, что позволяет использовать продвинутую технику программирования, так называемое __замыкание__."
   ]
  },
  {
   "cell_type": "code",
   "execution_count": 27,
   "metadata": {},
   "outputs": [
    {
     "name": "stdout",
     "output_type": "stream",
     "text": [
      "HelloHelloHelloHello\n",
      "ho\n"
     ]
    }
   ],
   "source": [
    "x = \"Hello\"\n",
    "\n",
    "def SomeFunc():\n",
    "    x = \"Hello\"\n",
    "    \n",
    "    def InnerFunc(n):\n",
    "        print(x*n)\n",
    "        \n",
    "    return InnerFunc\n",
    "\n",
    "f = SomeFunc()\n",
    "x = \"ho\"\n",
    "f(4)\n",
    "print(x)"
   ]
  },
  {
   "cell_type": "code",
   "execution_count": 16,
   "metadata": {},
   "outputs": [
    {
     "name": "stdout",
     "output_type": "stream",
     "text": [
      "[2]\n",
      "[2, 3]\n",
      "[2, 3, 1]\n",
      "\n",
      "[7]\n",
      "[7, 7]\n",
      "[7, 7, 7]\n",
      "\n",
      "[2, 3, 1, 13]\n"
     ]
    }
   ],
   "source": [
    "def SomeFunc():\n",
    "    x = []\n",
    "    \n",
    "    def InnerFunc(n):\n",
    "        x.append(n)\n",
    "        print(x)\n",
    "\n",
    "    return InnerFunc\n",
    "\n",
    "f1 = SomeFunc()\n",
    "f1(2)\n",
    "f1(3)\n",
    "f1(1)\n",
    "\n",
    "print()\n",
    "\n",
    "f2 = SomeFunc()\n",
    "f2(7)\n",
    "f2(7)\n",
    "f2(7)\n",
    "\n",
    "\n",
    "print()\n",
    "f1(13)"
   ]
  },
  {
   "cell_type": "code",
   "execution_count": 28,
   "metadata": {},
   "outputs": [
    {
     "data": {
      "text/plain": [
       "[9, 10, 11, 12, 13, 14, 15, 16, 17, 18]"
      ]
     },
     "execution_count": 28,
     "metadata": {},
     "output_type": "execute_result"
    }
   ],
   "source": [
    "def MakeGen(start):\n",
    "    x = start\n",
    "        \n",
    "    def SomeFunc():\n",
    "        nonlocal x\n",
    "        x += 1\n",
    "        # x = x + 1\n",
    "        return x\n",
    "    \n",
    "    return SomeFunc\n",
    "\n",
    "f = MakeGen(3)\n",
    "f(), f(), f(), f(), f()"
   ]
  },
  {
   "cell_type": "markdown",
   "metadata": {},
   "source": [
    "> `nonlocal` - оператор, подсказывающий Python'у, что данную переменную можно найти в области на выше (то есть в объемлющей функции)."
   ]
  },
  {
   "cell_type": "markdown",
   "metadata": {},
   "source": [
    "# Домашнее задание\n",
    "\n"
   ]
  },
  {
   "cell_type": "markdown",
   "metadata": {},
   "source": [
    "# Задача 1 (Обязательно)\n",
    "\n",
    "Дан файл __task1.txt__. В данном файле хранятся числа. Нужно найти три числа, которые в сумме дают 2020. Записать произведение трех этих чисел в файл __output1.txt__.\n",
    "\n",
    "Например, если бы у нас в файле были числа:\n",
    "```\n",
    "1721\n",
    "979\n",
    "366\n",
    "299\n",
    "675\n",
    "1456\n",
    "```\n",
    "\n",
    "то мы бы нашли среди них 979, 366 и 675 (дают в сумме 2020), что дало бы ответ\n",
    "```\n",
    "241861950\n",
    "```"
   ]
  },
  {
   "cell_type": "markdown",
   "metadata": {},
   "source": [
    "## Задача 2 (Обязательно)\n",
    "\n",
    "Пользователь вводит строку в виде __NdM__, где\n",
    " - N - это количество кубиков\n",
    " - M - это количество сторона этого кубика. Каждая сторона пронумерована от 1 до M.\n",
    " \n",
    "Например, 1d6 - это один обычный игральный кубик. 5d12 - это 5 кубиков с 12 сторонами.\n",
    " \n",
    "Задача, написать программу, которая находит вероятности получения всех возможных сумм, которые можно получить складывая __ВСЕ__ числа на __ВСЕХ__ кубиках после броска. Считать, что вероятность выпадения каждого числа равновероятна.\n",
    "\n",
    "\n",
    "Пример: 2d4\n",
    "\n",
    "Вывод:\n",
    "```  \n",
    "  2 =   6.25 %\n",
    "  3 =  12.50 %\n",
    "  4 =  18.75 %\n",
    "  5 =  25.00 %\n",
    "  6 =  18.75 %\n",
    "  7 =  12.50 %\n",
    "  8 =   6.25 %\n",
    "```\n",
    "\n",
    "\n",
    "Пример: 3d8\n",
    "\n",
    "Вывод: \n",
    "```\n",
    "  3 =   0.20 %\n",
    "  4 =   0.59 %\n",
    "  5 =   1.17 %\n",
    "  6 =   1.95 %\n",
    "  7 =   2.93 %\n",
    "  8 =   4.10 %\n",
    "  9 =   5.47 %\n",
    " 10 =   7.03 %\n",
    " 11 =   8.20 %\n",
    " 12 =   8.98 %\n",
    " 13 =   9.38 %\n",
    " 14 =   9.38 %\n",
    " 15 =   8.98 %\n",
    " 16 =   8.20 %\n",
    " 17 =   7.03 %\n",
    " 18 =   5.47 %\n",
    " 19 =   4.10 %\n",
    " 20 =   2.93 %\n",
    " 21 =   1.95 %\n",
    " 22 =   1.17 %\n",
    " 23 =   0.59 %\n",
    " 24 =   0.20 %\n",
    "```"
   ]
  },
  {
   "cell_type": "markdown",
   "metadata": {},
   "source": [
    "## Задача 3 (Опционально)\n",
    "\n",
    "Позволить пользователю вводить любое число слов вида __NdM__, разделенных пробелом.\n",
    "\n",
    "Пример ввода: 2d4 1d10"
   ]
  },
  {
   "cell_type": "markdown",
   "metadata": {},
   "source": [
    "## Задача 4 (Опционально)\n",
    "\n",
    "Сгенерировать бросок этих кубиков и вывести результат пользователю (использовать модуль __random__)."
   ]
  }
 ],
 "metadata": {
  "kernelspec": {
   "display_name": "Python 3 (ipykernel)",
   "language": "python",
   "name": "python3"
  },
  "language_info": {
   "codemirror_mode": {
    "name": "ipython",
    "version": 3
   },
   "file_extension": ".py",
   "mimetype": "text/x-python",
   "name": "python",
   "nbconvert_exporter": "python",
   "pygments_lexer": "ipython3",
   "version": "3.10.11"
  }
 },
 "nbformat": 4,
 "nbformat_minor": 4
}
