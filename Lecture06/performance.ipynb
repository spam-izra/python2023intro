{
 "cells": [
  {
   "cell_type": "markdown",
   "id": "53421973-bcc3-4d73-9efe-b8289413e10d",
   "metadata": {},
   "source": [
    "# Тестирование производительности"
   ]
  },
  {
   "cell_type": "code",
   "execution_count": 1,
   "id": "59be6fec-99b0-4037-848a-698ea6bd7874",
   "metadata": {},
   "outputs": [],
   "source": [
    "import time\n",
    "\n",
    "def work(task):\n",
    "    time.sleep(task)"
   ]
  },
  {
   "cell_type": "markdown",
   "id": "07f8e1d6-2a6a-419f-85b0-d0f91dff0036",
   "metadata": {},
   "source": [
    "## 1. Прямой замер времени\n",
    "\n",
    "Данный вариант максимально просто и подходит для локального однократного временного замера времени. Важно понимать, что точность такого подхода весьма невысока."
   ]
  },
  {
   "cell_type": "code",
   "execution_count": 2,
   "id": "736bec68-1b66-4c7c-8147-524076873621",
   "metadata": {},
   "outputs": [],
   "source": [
    "import time"
   ]
  },
  {
   "cell_type": "code",
   "execution_count": 3,
   "id": "359b36e3-065b-4f74-a9fa-b9fcd3cd96eb",
   "metadata": {},
   "outputs": [
    {
     "name": "stdout",
     "output_type": "stream",
     "text": [
      "2.000572681427002 seconds\n"
     ]
    }
   ],
   "source": [
    "start = time.time()\n",
    "work(2)\n",
    "print(f'{time.time() - start} seconds')"
   ]
  },
  {
   "cell_type": "markdown",
   "id": "4dbc9c1f-2713-4fb0-b4f8-1740ae82bf43",
   "metadata": {},
   "source": [
    "Это не самый лучший таймер, есть варианты получше"
   ]
  },
  {
   "cell_type": "code",
   "execution_count": 12,
   "id": "34f0e7a7-2af6-46e2-bd70-f2470c31da2c",
   "metadata": {},
   "outputs": [
    {
     "name": "stdout",
     "output_type": "stream",
     "text": [
      "User time: 2.0061835999949835 seconds\n"
     ]
    }
   ],
   "source": [
    "start = time.perf_counter()\n",
    "work(2)\n",
    "print(f'User time: {time.perf_counter() - start} seconds')"
   ]
  },
  {
   "cell_type": "code",
   "execution_count": 13,
   "id": "863d7b24-b99d-4275-90aa-cb1b4f72a216",
   "metadata": {},
   "outputs": [
    {
     "name": "stdout",
     "output_type": "stream",
     "text": [
      "CPU time: 0.015625 seconds\n"
     ]
    }
   ],
   "source": [
    "start = time.process_time()\n",
    "work(2)\n",
    "print(f'CPU time: {time.process_time() - start} seconds')"
   ]
  },
  {
   "cell_type": "markdown",
   "id": "f19606d2-8abb-4f85-9c86-5d2f95d0e38f",
   "metadata": {},
   "source": [
    "## 2. `timeit`\n",
    "\n",
    "Более удобный вариант с усредненным значением замера. Нужно учесть, что во время работы отключается сборщик мусора."
   ]
  },
  {
   "cell_type": "code",
   "execution_count": 5,
   "id": "b507b1aa-fdd0-4dbd-aae5-1a0e08d9a142",
   "metadata": {},
   "outputs": [
    {
     "name": "stdout",
     "output_type": "stream",
     "text": [
      "0.01530858000041917\n",
      "[0.015373947999905794, 0.015408963999943808, 0.015442867999663577, 0.015406765999505296, 0.015420617999043316]\n"
     ]
    }
   ],
   "source": [
    "import timeit\n",
    "\n",
    "N = 50\n",
    "\n",
    "def step():\n",
    "    work(0.01)\n",
    "\n",
    "print(timeit.timeit(step, number=N) / N)\n",
    "print([v / N for v in timeit.repeat(step, number=N, repeat=5)])"
   ]
  },
  {
   "cell_type": "markdown",
   "id": "7a6fda4c-00bc-4f72-8f81-01f14be47968",
   "metadata": {},
   "source": [
    "Если важно включение сборщика мусора, то "
   ]
  },
  {
   "cell_type": "code",
   "execution_count": 6,
   "id": "3cc00ace-a497-4d65-81f3-bc26a777846b",
   "metadata": {},
   "outputs": [
    {
     "data": {
      "text/plain": [
       "0.015198074000654743"
      ]
     },
     "execution_count": 6,
     "metadata": {},
     "output_type": "execute_result"
    }
   ],
   "source": [
    "timeit.timeit(step, setup=\"gc.enable()\", number=N) / N"
   ]
  },
  {
   "cell_type": "markdown",
   "id": "99d34b52-7a23-4946-b9c0-ccf87315fe01",
   "metadata": {},
   "source": [
    "При тестировании функций из текущего кода их нужно импортировать"
   ]
  },
  {
   "cell_type": "code",
   "execution_count": 7,
   "id": "66cd877e-eb3b-4a65-a0b1-82290f6793fc",
   "metadata": {},
   "outputs": [
    {
     "data": {
      "text/plain": [
       "0.015283116000937298"
      ]
     },
     "execution_count": 7,
     "metadata": {},
     "output_type": "execute_result"
    }
   ],
   "source": [
    "timeit.timeit(\"work(0.01)\", setup=\"from __main__ import work\", number=N) / N"
   ]
  },
  {
   "cell_type": "code",
   "execution_count": 8,
   "id": "6ab3b174-b681-4c10-ba12-b86299caa2ab",
   "metadata": {},
   "outputs": [
    {
     "data": {
      "text/plain": [
       "0.01525665600085631"
      ]
     },
     "execution_count": 8,
     "metadata": {},
     "output_type": "execute_result"
    }
   ],
   "source": [
    "# Так удобнее\n",
    "\n",
    "timeit.timeit('work(0.01)', globals=globals(), number=N) / N"
   ]
  },
  {
   "cell_type": "markdown",
   "id": "746bfde5-565d-4045-8f78-3a2112ee1aff",
   "metadata": {},
   "source": [
    "### Командная строка\n",
    "\n",
    "Помимо этого можно использовать данный модуль прямо из командной строки\n",
    "\n",
    "```\n",
    "python -m timeit -n 50 -s \"from test import work\" \"work(0.001)\"\n",
    "```"
   ]
  },
  {
   "cell_type": "code",
   "execution_count": 9,
   "id": "99d134bd-767d-439d-8bb1-40450b50275e",
   "metadata": {},
   "outputs": [
    {
     "name": "stdout",
     "output_type": "stream",
     "text": [
      "50 loops, best of 5: 15.1 msec per loop\n"
     ]
    }
   ],
   "source": [
    "!python -m timeit -n 50 -s \"from test import work\" \"work(0.001)\""
   ]
  },
  {
   "cell_type": "markdown",
   "id": "57ea5b3c-5f89-4381-b892-05f8f62388f5",
   "metadata": {},
   "source": [
    "## 3. Jupyter\n",
    "\n",
    "Модуль выше можно использовать через [магические команды](https://ipython.readthedocs.io/en/stable/interactive/magics.html) Jupyter'а."
   ]
  },
  {
   "cell_type": "markdown",
   "id": "511096f4-13bc-4b7a-a649-19dc01303083",
   "metadata": {},
   "source": [
    "Можно замерить время конкретного выражения"
   ]
  },
  {
   "cell_type": "code",
   "execution_count": 11,
   "id": "db65f21e-e906-4eaf-bf2f-7e153a2ea945",
   "metadata": {},
   "outputs": [
    {
     "name": "stdout",
     "output_type": "stream",
     "text": [
      "CPU times: total: 0 ns\n",
      "Wall time: 512 ms\n"
     ]
    }
   ],
   "source": [
    "%time work(0.5)"
   ]
  },
  {
   "cell_type": "markdown",
   "id": "a401f4d0-7dda-4c05-9e6d-b8ff5c59cbe5",
   "metadata": {},
   "source": [
    "Или можно использовать `timeit`"
   ]
  },
  {
   "cell_type": "code",
   "execution_count": 19,
   "id": "526231f5-7b70-4c77-9e8b-38464e70813a",
   "metadata": {},
   "outputs": [
    {
     "name": "stdout",
     "output_type": "stream",
     "text": [
      "108 ms ± 63.9 µs per loop (mean ± std. dev. of 2 runs, 20 loops each)\n"
     ]
    }
   ],
   "source": [
    "%timeit -n20 -r2 work(0.1)"
   ]
  },
  {
   "cell_type": "markdown",
   "id": "17cd0ac1-9d9b-4a5a-91cc-0b56df470935",
   "metadata": {},
   "source": [
    "Если использовать `%%`, то применяется к коду в ячейке"
   ]
  },
  {
   "cell_type": "code",
   "execution_count": 21,
   "id": "d2fd11b1-e144-493d-a935-4150ee112927",
   "metadata": {},
   "outputs": [
    {
     "name": "stdout",
     "output_type": "stream",
     "text": [
      "108 ms ± 26.9 µs per loop (mean ± std. dev. of 2 runs, 20 loops each)\n"
     ]
    }
   ],
   "source": [
    "%%timeit -n20 -r2 \n",
    "\n",
    "work(0.1)"
   ]
  },
  {
   "cell_type": "markdown",
   "id": "f3c2393e-f6de-4024-aea2-4fdb72f2c3d8",
   "metadata": {},
   "source": [
    "## 4. Профилирование\n",
    "\n",
    "Все выше помогает замерить общее время работы части программы. Если перед вами стоит задача найти узкие места (задача оптимизации), то удобнее воспользоваться профилированием. В этом случае сильно страдает точность замера, но проще, понять, где проблема."
   ]
  },
  {
   "cell_type": "code",
   "execution_count": 23,
   "id": "7590d99d-d1eb-4d06-81f2-38b1a37abc79",
   "metadata": {},
   "outputs": [
    {
     "name": "stdout",
     "output_type": "stream",
     "text": [
      "         10 function calls in 1.521 seconds\n",
      "\n",
      "   Ordered by: standard name\n",
      "\n",
      "   ncalls  tottime  percall  cumtime  percall filename:lineno(function)\n",
      "        3    0.000    0.000    1.521    0.507 2391014705.py:3(work)\n",
      "        1    0.000    0.000    1.521    1.521 3803998991.py:3(work2)\n",
      "        1    0.000    0.000    1.521    1.521 <string>:1(<module>)\n",
      "        1    0.000    0.000    1.521    1.521 {built-in method builtins.exec}\n",
      "        3    1.521    0.507    1.521    0.507 {built-in method time.sleep}\n",
      "        1    0.000    0.000    0.000    0.000 {method 'disable' of '_lsprof.Profiler' objects}\n",
      "\n",
      "\n"
     ]
    }
   ],
   "source": [
    "import cProfile\n",
    "\n",
    "def work2():\n",
    "    for _ in range(3):\n",
    "        work(0.5)\n",
    "\n",
    "cProfile.run('work2()')"
   ]
  },
  {
   "cell_type": "markdown",
   "id": "0ec868b8-7f18-4531-a836-c03c81611929",
   "metadata": {},
   "source": [
    "* `ncalls` - количество вызовов\n",
    "* `tottime` - время проведенное внутри функции (исключая все вызовы других функций)\n",
    "* `cumtime` - полное время, проведенное в этой функции\n",
    "* `percall` - время за один запрос"
   ]
  },
  {
   "cell_type": "code",
   "execution_count": 26,
   "id": "1c8d8b0f-723c-465d-a616-5efa75394140",
   "metadata": {},
   "outputs": [
    {
     "name": "stdout",
     "output_type": "stream",
     "text": [
      "         5 function calls in 0.506 seconds\n",
      "\n",
      "   Ordered by: standard name\n",
      "\n",
      "   ncalls  tottime  percall  cumtime  percall filename:lineno(function)\n",
      "        1    0.000    0.000    0.506    0.506 test.py:1(<module>)\n",
      "        1    0.000    0.000    0.506    0.506 test.py:3(work)\n",
      "        1    0.000    0.000    0.506    0.506 {built-in method builtins.exec}\n",
      "        1    0.505    0.505    0.505    0.505 {built-in method time.sleep}\n",
      "        1    0.000    0.000    0.000    0.000 {method 'disable' of '_lsprof.Profiler' objects}\n",
      "\n",
      "\n"
     ]
    }
   ],
   "source": [
    "!python -m cProfile test.py"
   ]
  },
  {
   "cell_type": "code",
   "execution_count": null,
   "id": "119eefe5-6c4e-4a41-8a3c-a4523649b3b9",
   "metadata": {},
   "outputs": [],
   "source": []
  }
 ],
 "metadata": {
  "kernelspec": {
   "display_name": "Python 3 (ipykernel)",
   "language": "python",
   "name": "python3"
  },
  "language_info": {
   "codemirror_mode": {
    "name": "ipython",
    "version": 3
   },
   "file_extension": ".py",
   "mimetype": "text/x-python",
   "name": "python",
   "nbconvert_exporter": "python",
   "pygments_lexer": "ipython3",
   "version": "3.10.11"
  }
 },
 "nbformat": 4,
 "nbformat_minor": 5
}
