{
 "cells": [
  {
   "cell_type": "markdown",
   "id": "cd99ac4d-9c72-4fe8-abba-ee1e72652496",
   "metadata": {},
   "source": [
    "# Python и другие языки программирования\n",
    "\n",
    "У Python есть существенный недостаток - он сам по себе довольно медленный язык программирования для вычислительных задач. Это ограничение можно обойти, если вычисления вынести в модуль, который выполняет их значительно эффективней.\n",
    "\n",
    "Есть два способа взаимодействия с таким модулем:\n",
    "1) Межпроцессорное взаимодействие (потоки ввода-вывода, сокеты, общая память, файлы и прочее), поддерживает любой язык программирования\n",
    "2) Оформить его в виде подключаемого модуля, поддерживает языки, которые поддерживают соглашение C ABI (Fortran, C/C++).\n",
    "\n",
    "\n",
    "Самым простым способом является управление внешним процессом и взаимодействие с ним. Здесь может помочь модуль [subprocess](https://docs.python.org/3/library/subprocess.html)."
   ]
  },
  {
   "cell_type": "markdown",
   "id": "0d26e2f8-7362-4909-9735-10c3d12e7cdb",
   "metadata": {},
   "source": [
    "# Python C API\n",
    "\n",
    "Если язык поддерживает C ABI, то скомпилированный код можно оформить в библиотеку, которую можно подключить в коде Python'a. Помимо этого, имеется возможность подключения самого Python'а, как скрипт-движок. В этом туториале, рассмотрим только создание модулей."
   ]
  },
  {
   "cell_type": "markdown",
   "id": "dff3a426-f80c-4ba8-8ede-27981f9a2285",
   "metadata": {},
   "source": [
    "### CMake\n",
    "\n",
    "В данному туториале я использую для сборки [CMake](https://cmake.org/) и [Visual Studio Build Tools](https://visualstudio.microsoft.com/downloads/). Можно уставноить полноценную Visual Studio, если вам так будет проще."
   ]
  },
  {
   "cell_type": "markdown",
   "id": "9ef5a59b-e37b-4f26-8a0c-a8ccc995190f",
   "metadata": {},
   "source": [
    "# C API"
   ]
  },
  {
   "cell_type": "markdown",
   "id": "64a55b4d-6efe-4ac4-8b5e-59ca9f268191",
   "metadata": {},
   "source": [
    "Есть несколько способов создания модулей на C++: \n",
    "* использовать Python C API напрямую (сложно)\n",
    "* воспользовать готовыми библиотеками ([Boost/Python](https://www.boost.org/doc/libs/1_76_0/libs/python/doc/html/index.html) или [pybind11](https://pybind11.readthedocs.io/en/stable/))\n",
    "* вызывать функции из библиотки с помощью ctypes"
   ]
  },
  {
   "cell_type": "markdown",
   "id": "313be2bb-d6fd-4019-91cb-3050c380d0d6",
   "metadata": {},
   "source": [
    "## Сложный путь"
   ]
  },
  {
   "cell_type": "markdown",
   "id": "f06e98d8-949a-4064-81fd-ec40f16f5d77",
   "metadata": {},
   "source": [
    "Из плюсов - нет существенных ограничений на версии компиляторов и прочее. По факту нужно написать код с C интерфейсом, который будет использовать Python. Из минусов - вам придется делать все самому.\n",
    "\n",
    "Описание C API: https://docs.python.org/3/c-api/index.html"
   ]
  },
  {
   "cell_type": "markdown",
   "id": "816e605c-d731-4122-8b77-ab795e90eac0",
   "metadata": {},
   "source": [
    "Пример: `native`\n",
    "\n",
    "```\n",
    "cd native\n",
    "mkdir b\n",
    "cd b\n",
    "cmake ..\n",
    "cmake --build . --config Release\n",
    "cmake --install . --prefix=..\n",
    "```"
   ]
  },
  {
   "cell_type": "markdown",
   "id": "cbfc0b42-a1a9-4c13-ba30-e607333b2fed",
   "metadata": {},
   "source": [
    "## Простой путь\n",
    "\n",
    "Просто использовать либо Boost/Python или pybind11. Накладывает ограничение на компилятор, но код оформлять становится значительно проще."
   ]
  },
  {
   "cell_type": "markdown",
   "id": "fdf2dabd-d298-47e7-a26b-f342d72f7502",
   "metadata": {},
   "source": [
    "Пример: `pybind`\n",
    "\n",
    "```\n",
    "cd pybind\n",
    "mkdir b\n",
    "cd b\n",
    "cmake ..\n",
    "cmake --build . --config Release\n",
    "cmake --install . --prefix=..\n",
    "```"
   ]
  },
  {
   "cell_type": "markdown",
   "id": "1a9b4d83-d02e-4456-b46c-d3efefe978cf",
   "metadata": {},
   "source": [
    "# Еще один сложный путь\n",
    "\n",
    "Альтернативным способом является вызов функции библиотеки напрямую с помощью [ctypes](https://docs.python.org/3/library/ctypes.html). Подходит в тех случаях, когда нет желания оформлять все в удобный модуль, а функцию уже хочется вызвать здесь и сейчас. Подходит для всех библиотек, которые используют соглашение о стандартном вызове функций."
   ]
  },
  {
   "cell_type": "markdown",
   "id": "2bf1b026-439b-4d43-ba92-f759adc466d4",
   "metadata": {},
   "source": [
    "Пример: `ctypeslib`\n",
    "\n",
    "```\n",
    "cd ctypeslib\n",
    "mkdir b\n",
    "cd b\n",
    "cmake ..\n",
    "cmake --build . --config Release\n",
    "cmake --install . --prefix=..\n",
    "```"
   ]
  }
 ],
 "metadata": {
  "kernelspec": {
   "display_name": "Python 3 (ipykernel)",
   "language": "python",
   "name": "python3"
  },
  "language_info": {
   "codemirror_mode": {
    "name": "ipython",
    "version": 3
   },
   "file_extension": ".py",
   "mimetype": "text/x-python",
   "name": "python",
   "nbconvert_exporter": "python",
   "pygments_lexer": "ipython3",
   "version": "3.10.4"
  }
 },
 "nbformat": 4,
 "nbformat_minor": 5
}
