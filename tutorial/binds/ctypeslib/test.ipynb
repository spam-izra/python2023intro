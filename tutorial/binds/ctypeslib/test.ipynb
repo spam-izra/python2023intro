{
 "cells": [
  {
   "cell_type": "markdown",
   "id": "2aa9b159-cc21-4acb-9cd8-f6850322cba3",
   "metadata": {},
   "source": [
    "В этом случае все относительно сложно. Нужно найти имя символа отвечающего за функцию."
   ]
  },
  {
   "cell_type": "code",
   "execution_count": 14,
   "id": "2b7ef198-6f0a-4bc1-86e2-3ff0cca6deb0",
   "metadata": {},
   "outputs": [],
   "source": [
    "from ctypes import cdll, c_double"
   ]
  },
  {
   "cell_type": "code",
   "execution_count": 15,
   "id": "8f01bf1f-08ed-4767-a38f-94b10a54fabe",
   "metadata": {},
   "outputs": [
    {
     "data": {
      "text/plain": [
       "<CDLL 'D:\\Share\\python_api_c\\ctypeslib\\bin\\mymod.dll', handle 7ffaaf2a0000 at 0x16066e07880>"
      ]
     },
     "execution_count": 15,
     "metadata": {},
     "output_type": "execute_result"
    }
   ],
   "source": [
    "mylib = cdll.LoadLibrary(\"bin/mymod.dll\")\n",
    "mylib"
   ]
  },
  {
   "cell_type": "code",
   "execution_count": 16,
   "id": "a1ee8f02-d45b-4310-96c5-aa01cdaa407b",
   "metadata": {},
   "outputs": [
    {
     "data": {
      "text/plain": [
       "<_FuncPtr object at 0x0000016065B15560>"
      ]
     },
     "execution_count": 16,
     "metadata": {},
     "output_type": "execute_result"
    }
   ],
   "source": [
    "f = getattr(mylib, \"?my_sqr_func@@YANN@Z\")\n",
    "f"
   ]
  },
  {
   "cell_type": "code",
   "execution_count": 17,
   "id": "b63bfc35-fd4f-407b-9ac0-2b11aac34308",
   "metadata": {},
   "outputs": [
    {
     "data": {
      "text/plain": [
       "-1449180787"
      ]
     },
     "execution_count": 17,
     "metadata": {},
     "output_type": "execute_result"
    }
   ],
   "source": [
    "f(2)"
   ]
  },
  {
   "cell_type": "code",
   "execution_count": 18,
   "id": "9c85f7ea-d1ed-45b4-a48a-6a8ef5285a99",
   "metadata": {},
   "outputs": [
    {
     "data": {
      "text/plain": [
       "-1449180787"
      ]
     },
     "execution_count": 18,
     "metadata": {},
     "output_type": "execute_result"
    }
   ],
   "source": [
    "# Мы не ограничены в аргументах\n",
    "f(1, 2, 3)"
   ]
  },
  {
   "cell_type": "code",
   "execution_count": 19,
   "id": "768d4666-2118-4e52-b58d-d63bcf4868bf",
   "metadata": {},
   "outputs": [
    {
     "ename": "ArgumentError",
     "evalue": "argument 1: <class 'TypeError'>: Don't know how to convert parameter 1",
     "output_type": "error",
     "traceback": [
      "\u001b[1;31m---------------------------------------------------------------------------\u001b[0m",
      "\u001b[1;31mArgumentError\u001b[0m                             Traceback (most recent call last)",
      "Input \u001b[1;32mIn [19]\u001b[0m, in \u001b[0;36m<cell line: 2>\u001b[1;34m()\u001b[0m\n\u001b[0;32m      1\u001b[0m \u001b[38;5;66;03m# по умолчанию работает только с целыми числами, строками и байтами\u001b[39;00m\n\u001b[1;32m----> 2\u001b[0m \u001b[43mf\u001b[49m\u001b[43m(\u001b[49m\u001b[38;5;241;43m2.0\u001b[39;49m\u001b[43m)\u001b[49m\n",
      "\u001b[1;31mArgumentError\u001b[0m: argument 1: <class 'TypeError'>: Don't know how to convert parameter 1"
     ]
    }
   ],
   "source": [
    "# по умолчанию работает только с целыми числами, строками и байтами\n",
    "f(2.0)"
   ]
  },
  {
   "cell_type": "code",
   "execution_count": 20,
   "id": "1184540e-2f17-40fa-89d7-6885439ad6b7",
   "metadata": {},
   "outputs": [
    {
     "data": {
      "text/plain": [
       "-1449180787"
      ]
     },
     "execution_count": 20,
     "metadata": {},
     "output_type": "execute_result"
    }
   ],
   "source": [
    "# нужно указывать явный тип\n",
    "f(c_double(2.0))"
   ]
  },
  {
   "cell_type": "code",
   "execution_count": 21,
   "id": "c703a6f9-d9f3-45b3-b6b2-300ef8457a5e",
   "metadata": {},
   "outputs": [],
   "source": [
    "# Тип возвращаемого значения\n",
    "f.restype = c_double"
   ]
  },
  {
   "cell_type": "code",
   "execution_count": 22,
   "id": "03fb5d48-380d-4e0a-8a50-50d7d92ed544",
   "metadata": {},
   "outputs": [
    {
     "data": {
      "text/plain": [
       "4.0"
      ]
     },
     "execution_count": 22,
     "metadata": {},
     "output_type": "execute_result"
    }
   ],
   "source": [
    "f(c_double(2.0))"
   ]
  },
  {
   "cell_type": "code",
   "execution_count": 23,
   "id": "0ffb26b2-45a8-4f01-8ae7-a132860de90e",
   "metadata": {},
   "outputs": [],
   "source": [
    "# Указать типы аргументов\n",
    "f.argtypes = [c_double]"
   ]
  },
  {
   "cell_type": "code",
   "execution_count": 24,
   "id": "ce9dfa29-3a9a-466e-8a96-2f82af10b434",
   "metadata": {},
   "outputs": [
    {
     "data": {
      "text/plain": [
       "(4.0, 4.0)"
      ]
     },
     "execution_count": 24,
     "metadata": {},
     "output_type": "execute_result"
    }
   ],
   "source": [
    "f(2.0), f(2)"
   ]
  }
 ],
 "metadata": {
  "kernelspec": {
   "display_name": "Python 3 (ipykernel)",
   "language": "python",
   "name": "python3"
  },
  "language_info": {
   "codemirror_mode": {
    "name": "ipython",
    "version": 3
   },
   "file_extension": ".py",
   "mimetype": "text/x-python",
   "name": "python",
   "nbconvert_exporter": "python",
   "pygments_lexer": "ipython3",
   "version": "3.10.4"
  }
 },
 "nbformat": 4,
 "nbformat_minor": 5
}
