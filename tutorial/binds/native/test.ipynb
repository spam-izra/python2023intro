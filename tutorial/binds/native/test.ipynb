{
 "cells": [
  {
   "cell_type": "markdown",
   "id": "84c9e880-1785-4f0c-8855-a920060d65e4",
   "metadata": {},
   "source": [
    "# Native"
   ]
  },
  {
   "cell_type": "markdown",
   "id": "a5b125ce-ed7e-43a0-bde0-236d34512e97",
   "metadata": {},
   "source": [
    "Работа с созданным модулем не отличается от работы с обычным модулем Python'а."
   ]
  },
  {
   "cell_type": "code",
   "execution_count": 8,
   "id": "8bcbc033-407c-4125-8c93-e771ee63705c",
   "metadata": {},
   "outputs": [],
   "source": [
    "# импорт из директории\n",
    "import bin.mymod as mymod"
   ]
  },
  {
   "cell_type": "code",
   "execution_count": 9,
   "id": "66fb659c-4188-4c60-a783-e8a84fd0b654",
   "metadata": {},
   "outputs": [
    {
     "data": {
      "text/plain": [
       "['__doc__',\n",
       " '__file__',\n",
       " '__loader__',\n",
       " '__name__',\n",
       " '__package__',\n",
       " '__spec__',\n",
       " 'my_sqr_func']"
      ]
     },
     "execution_count": 9,
     "metadata": {},
     "output_type": "execute_result"
    }
   ],
   "source": [
    "# Можно посмотреть, что внутри\n",
    "dir(mymod)"
   ]
  },
  {
   "cell_type": "code",
   "execution_count": 10,
   "id": "afa5b096-8399-45fa-b061-26967c8e6c50",
   "metadata": {},
   "outputs": [
    {
     "data": {
      "text/plain": [
       "1.9599999999999997"
      ]
     },
     "execution_count": 10,
     "metadata": {},
     "output_type": "execute_result"
    }
   ],
   "source": [
    "# Вызов функции также работает\n",
    "mymod.my_sqr_func(1.4)"
   ]
  },
  {
   "cell_type": "code",
   "execution_count": 11,
   "id": "c16def2d-5ee0-454c-8b48-5f5a9941143d",
   "metadata": {},
   "outputs": [
    {
     "data": {
      "text/plain": [
       "1.0"
      ]
     },
     "execution_count": 11,
     "metadata": {},
     "output_type": "execute_result"
    }
   ],
   "source": [
    "mymod.my_sqr_func(1)"
   ]
  },
  {
   "cell_type": "code",
   "execution_count": null,
   "id": "fcd2b6aa-677f-43f7-8144-f939bb42a3d2",
   "metadata": {},
   "outputs": [],
   "source": []
  }
 ],
 "metadata": {
  "kernelspec": {
   "display_name": "Python 3 (ipykernel)",
   "language": "python",
   "name": "python3"
  },
  "language_info": {
   "codemirror_mode": {
    "name": "ipython",
    "version": 3
   },
   "file_extension": ".py",
   "mimetype": "text/x-python",
   "name": "python",
   "nbconvert_exporter": "python",
   "pygments_lexer": "ipython3",
   "version": "3.10.4"
  }
 },
 "nbformat": 4,
 "nbformat_minor": 5
}
