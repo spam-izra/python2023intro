{
 "cells": [
  {
   "cell_type": "code",
   "execution_count": 12,
   "metadata": {},
   "outputs": [],
   "source": [
    "%matplotlib inline\n",
    "\n",
    "import numpy as np\n",
    "import pandas as pd\n",
    "from matplotlib import pyplot as plt\n",
    "import warnings\n",
    "warnings.filterwarnings('ignore')\n",
    "from pylab import rcParams\n",
    "rcParams['figure.figsize'] = 8, 4"
   ]
  },
  {
   "cell_type": "markdown",
   "metadata": {},
   "source": [
    "# Статистика для физиков\n",
    "\n",
    "Основными задачами экспериментаторов являются измерения различного рода величин и иногда открытие новых феноменов. При этом всегда возникает необходимость оценить правильность результата, и как он согласуется с теорией.\n",
    "\n",
    "Пример из [статьи](http://inspirehep.net/record/1410174/files/ATLAS-CONF-2015-081.pdf?version=1)\n",
    "\n",
    "<img style=\"max-width: 300px\" src=\"ris1.png\">\n",
    "\n",
    "Какова вероятность, что выброс порожден обычным фоновым процессом, а не тем процессом, что нам интересен (новой физикой)?"
   ]
  },
  {
   "cell_type": "markdown",
   "metadata": {},
   "source": [
    "## Вероятность\n",
    "\n",
    "Что такое вероятность? На данный вопрос довольно сложно дать однозначный ответ. Выделяют несколько трактовок этого понятия:\n",
    "\n",
    "* частотный подход (Frequentist) - процентная доля интересуемых событий \n",
    "<br/><br/>\n",
    "$$\n",
    "p = \\lim_{N \\to \\infty} \\frac{n}{N}\n",
    "$$\n",
    "\n",
    "* субъективный (Bayesian) - степень уверенности в чем-то\n",
    "> Он станет президентом с вероятностью 60%"
   ]
  },
  {
   "cell_type": "markdown",
   "metadata": {
    "jp-MarkdownHeadingCollapsed": true,
    "tags": []
   },
   "source": [
    "## Законы теории вероятности\n",
    "\n",
    "Несмотря на разные трактовки, законы теории вероятности одни и те же. Стоит отметить, что язык, которым пользуются физики значительно отличается от языка, которым пользуются статистики.\n",
    "\n",
    "> __Событие__ - физики под этим обычно подразумевают результат эксперимента, у которого может быть несколько исходов. Как пример, бросок кости или столкновение двух протонов в коллайдере. Статистики под событием обычно подразумевают подмножество в простанстве всех возможных значений (сумма двух кубов больше 5 или $p_T(\\gamma) > 40 GeV$).\n",
    "\n",
    "Пусть __A__ и __B__ некоторые события. Тогда будем обозначать \n",
    "* $A \\cup B$ или $A + B$ как наступление события либо $A$, либо $B$, либо $A$ и $B$ одновременно\n",
    "* $A \\cap B$ или $AB$ как наступление, одновременно, событий $A$ и $B$ \n",
    "\n",
    "Для любых двух событий $A$ и $B$ верно\n",
    "\n",
    "$$\n",
    "P(A + B) = P(A) + P(B) - P(AB)\n",
    "$$\n",
    "\n",
    "<img src=\"./AB.png\"/>\n",
    "\n",
    "И если события __несовместны (взаимно исключают друг друга)__, то есть при наступлении события $A$, событие $B$ произойти не может\n",
    "\n",
    "$$\n",
    "P(A + B) = P(A) + P(B)\n",
    "$$"
   ]
  },
  {
   "cell_type": "markdown",
   "metadata": {},
   "source": [
    "## Условная вероятность\n",
    "\n",
    "Пусть\n",
    "\n",
    "$$\n",
    "\\begin{split}\n",
    "P(A) = \\frac{n_A}{N}\\quad P(AB) = \\frac{n_{AB}}{N} \\\\\n",
    "P(AB) = \\frac{n_A}{N}\\frac{n_{AB}}{n_A} = P(A) \\frac{n_{AB}}{n_A}\n",
    "\\end{split}\n",
    "$$\n",
    "\n",
    "> __Условная вероятность__ - это вероятность события __B__, при условии, что событие **A** уже произошло \n",
    "<br/><br/>\n",
    "$$\n",
    "P(B|A) = \\frac{P(AB)}{P(A)}\n",
    "$$\n",
    "\n",
    "Отсюда можно получить сразу же следствие. Если на появления события __B__ не влияет появление события **A**, то данные события считаются независимыми\n",
    "\n",
    "$$\n",
    "\\begin{split}\n",
    "P(B|A) &= P(B) \\\\\n",
    "P(AB) &= P(A) P(B)\n",
    "\\end{split}\n",
    "$$"
   ]
  },
  {
   "cell_type": "markdown",
   "metadata": {
    "tags": []
   },
   "source": [
    "## Формула полной вероятности\n",
    "\n",
    "Если считать, что множество событий $\\{A_i\\}_{i=1}^N$ несовместны\n",
    "\n",
    "$$\n",
    "P(B) = \\sum_i P(A_i B) = \\sum_i P(A_i) P(B|A_i)\n",
    "$$\n",
    "\n",
    "данный процесс можно назвать маргинализацией (Marginalisation) и он является довольно частым явление в физике. Нередко нас может интересовать только наступление события $P(B)$, но мерим или работаем мы с условной вероятностью. Данной операцией мы можем избавиться от ненужных параметров и получить то, что нам нужно."
   ]
  },
  {
   "cell_type": "markdown",
   "metadata": {},
   "source": [
    "<img src=\"pb.png\">"
   ]
  },
  {
   "cell_type": "markdown",
   "metadata": {},
   "source": [
    "## Теорема Байеса\n",
    "\n",
    "Если подумать, то мы можем записать $P(AB)$ двумя способами\n",
    "\n",
    "$$\n",
    "\\begin{split}\n",
    "P(AB) = P(A) P(B|A) = P(B) P(A|B)\n",
    "\\end{split}\n",
    "$$\n",
    "\n",
    "что приводит нас к\n",
    "\n",
    "$$\n",
    "P(A|B) = \\frac{P(B|A) P(A)}{P(B)}\n",
    "$$\n",
    "\n",
    "* __P(A)__ - априорная вероятность гипотезы или события A\n",
    "* __P(B)__ - полная вероятность события B\n",
    "* __P(A|B)__ - вероятность гипотезы A при наступлении события B (апостериорная вероятность)\n",
    "* __P(B|A)__ - вероятность наступления события B при истинности гипотезы A (правдоподобие)"
   ]
  },
  {
   "cell_type": "markdown",
   "metadata": {},
   "source": [
    "Например, пусть у нас есть детектор, который умеет регистрировать мюоны с вероятностью $P(+|\\mu) = 0.95$, то есть 5% мюонов будут им пропущены. Небольшая доля пионов регистрируется как мюон с вероятностью $P(+|\\pi) = 0.05$. Нам нужно посчитать вероятность того, что зарегистрированная частица - это мюон."
   ]
  },
  {
   "cell_type": "markdown",
   "metadata": {},
   "source": [
    "Для этого нам нужно знать долю пионов и мюонов в поток частиц. Пусть это будет $P(\\mu) = 0.04$ и $P(\\pi) = 0.96$.\n",
    "\n",
    "Теперь по формуле\n",
    "$$\n",
    "\\begin{split}\n",
    "P(\\mu|+) &= \\frac{P(+|\\mu) P(\\mu)}{P(+)}\n",
    "\\\\\n",
    "P(+) &= P(+|\\mu) P(\\mu) + P(+|\\pi) P(\\pi)\n",
    "\\end{split}\n",
    "$$"
   ]
  },
  {
   "cell_type": "code",
   "execution_count": 2,
   "metadata": {},
   "outputs": [
    {
     "data": {
      "text/plain": [
       "0.4418604651162791"
      ]
     },
     "execution_count": 2,
     "metadata": {},
     "output_type": "execute_result"
    }
   ],
   "source": [
    "0.95 * 0.04 / (0.95 * 0.04 + 0.05 * 0.96)"
   ]
  },
  {
   "cell_type": "markdown",
   "metadata": {
    "jp-MarkdownHeadingCollapsed": true,
    "tags": []
   },
   "source": [
    "## Случайные величины\n",
    "\n",
    "Пока мы говорили об абстрактной вероятности. Рассмотрим же её теперь подробнее.\n",
    "\n",
    "> __Случайная величина__ - это просто переменная, которая представляется собой численные исходы какого-либо события.\n",
    "\n",
    "Случайные величины бывают:\n",
    "* дискретными\n",
    "* непрерывными"
   ]
  },
  {
   "cell_type": "markdown",
   "metadata": {
    "jp-MarkdownHeadingCollapsed": true,
    "tags": []
   },
   "source": [
    "## Дискретные случайные величины\n",
    "\n",
    "Если существет лишь конечное число исходов некого события __A__, то каждому конкретному исходу $A_i$ можно приписать вероятность\n",
    "\n",
    "$$\n",
    "P(A = A_i) = P_i\n",
    "$$\n",
    "\n",
    "Множество вероятностей $P_i$ называют дискретным распределением вероятности.\n",
    "\n",
    "И достаточно очевидно, что\n",
    "\n",
    "$$\n",
    "\\sum_i P(A = A_i) = 1\n",
    "$$\n",
    "\n",
    "Это означает, что вероятность наступления любого события равна 1, что довольно логично.\n",
    "\n",
    "\n",
    "Хорошим примером является бросок кубика или вероятность конкретного процесса при столкновении двух протонов в коллайдере."
   ]
  },
  {
   "cell_type": "markdown",
   "metadata": {
    "tags": []
   },
   "source": [
    "## Непрерывные случайные величины\n",
    "\n",
    "Если случайная величина может принимать любые значения из некоторого непрерывного интервала значений, то такую величину принято называть непрерывной.\n",
    "\n",
    "Примером может служить длина комнаты, температура за окном, импульс частицы и т.д.\n",
    "\n",
    "\n",
    "Здесь у нас возникают небольшие проблемы, ведь если\n",
    "$$\n",
    "P(X = x) \\not = 0\n",
    "$$\n",
    "\n",
    "тогда сумма по всем $x$ даст нам\n",
    "$$\n",
    "\\sum_x P(X = x) = \\infty \n",
    "$$\n",
    "\n",
    "что не будет иметь смысла.\n",
    "\n",
    "\n",
    "Обойдем эту проблему следующим образом. Вместо конкретного значения $x$ мы расммотрим вероятность того, что $X$ находится в каком-то малом интервале\n",
    "\n",
    "$$\n",
    "P(x < X < x + dx) = f(x)dx\n",
    "$$\n",
    "\n",
    "где $f(x)$ будем называть функцией плотности вероятности (probability density function). __Физики нередко называют это распределением вероятности.__\n",
    "\n",
    "Отсюда \n",
    "$$\n",
    "P(x_1 < X < x_2) = \\int_{x_1}^{x_2} f(x) dx = F(x_2) - F(x_1)\n",
    "$$\n",
    "\n",
    "где $F(x)$ - это функция вероятности (Cumulative distribution function)\n",
    "$$\n",
    "F(x) = \\int_{-\\infty}^x f(x) dx\n",
    "$$\n",
    "\n",
    "При этом всегда имеет место\n",
    "$$\n",
    "\\int_{-\\infty}^\\infty f(x) dx = 1\n",
    "$$\n"
   ]
  },
  {
   "cell_type": "markdown",
   "metadata": {},
   "source": [
    "Формула полной вероятности также будет выражаться через интеграл\n",
    "$$\n",
    "P(A) = \\int_{-\\infty}^\\infty P(A | X = x) f(x) dx\n",
    "$$"
   ]
  },
  {
   "cell_type": "markdown",
   "metadata": {
    "jp-MarkdownHeadingCollapsed": true,
    "tags": []
   },
   "source": [
    "## Основные характеристики распределений\n",
    "\n",
    "* Математическое ожидание или среднее (expected value or mean), которое принято обозначать $\\mu$\n",
    "<br><br>\n",
    "$$\n",
    "\\begin{align}\n",
    "&\\mu = \\langle X \\rangle = E[X] = \\sum_x x P(X = x), \\,\\,\\,\\,\\,\\,\\, &\\text{дискретный случай} \n",
    "\\\\\n",
    "&\\mu = \\langle X \\rangle = E[X] = \\int_{-\\infty}^\\infty x f(x)\\, dx \\,\\,\\,\\,\\,\\,\\, &\\text{непрерывный случай} \n",
    "\\end{align}\n",
    "$$\n",
    "\n",
    "* Математическое ожидание или среднее (mean) от некоторой функции случайно величины $h(X)$\n",
    "<br><br>\n",
    "$$\n",
    "\\begin{align}\n",
    "&E[h(X)] = \\sum_x h(x) P(X = x), \\,\\,\\,\\,\\,\\,\\, &\\text{дискретный случай} \n",
    "\\\\\n",
    "&E[h(X)] = \\int_{-\\infty}^\\infty h(x) f(x)\\, dx \\,\\,\\,\\,\\,\\,\\, &\\text{непрерывный случай} \n",
    "\\end{align}\n",
    "$$\n",
    "\n",
    "* Дисперсия (variance) или среднеквадратичная ошибка (mean square error) которую принято обозначать $\\sigma^2$\n",
    "<br><br>\n",
    "$$\n",
    "\\sigma^2 = D[x] = Var[x] = E[ (x-\\mu)^2 ] = E[x^2] - \\mu^2\n",
    "$$\n",
    "\n",
    "> $E[x^2]$ - называют средним квадратическим (root mean square), а $\\sigma$ - стандартным отклонение (standard deviation)\n",
    "\n",
    "* Ковариация\n",
    "<br><br>\n",
    "$$\n",
    "Cov(X, Y) = E[ (X - E[X])(Y - E[Y]) ]\n",
    "$$\n",
    "* Коэффициент корреляции\n",
    "* Медиана\n",
    "* Коэффициент ассиметрии\n",
    "* и другие\n"
   ]
  },
  {
   "cell_type": "markdown",
   "metadata": {},
   "source": [
    "## Нормальное распределение\n",
    "\n",
    "Одно из самых выжнейших классов распределений\n",
    "$$\n",
    "f(x|\\mu, \\sigma^2) = \\mathcal{N}(x|\\mu, \\sigma^2) = \\frac{1}{ \\sqrt{2\\pi \\sigma^2}} e^{-\\frac{(x-\\mu)^2}{2\\sigma^2}}\n",
    "$$\n",
    "\n",
    "* $\\mu$ - среднее случайной величины $X$\n",
    "* $\\sigma^2$ - дисперсия случайной величины $X$"
   ]
  },
  {
   "cell_type": "code",
   "execution_count": 13,
   "metadata": {},
   "outputs": [
    {
     "data": {
      "image/png": "[encoded data removed]",
      "text/plain": [
       "<Figure size 800x400 with 1 Axes>"
      ]
     },
     "metadata": {},
     "output_type": "display_data"
    }
   ],
   "source": [
    "from scipy.stats import norm\n",
    "\n",
    "x = np.linspace(-5, 5, 1000)\n",
    "\n",
    "xs = np.linspace(-3, 3, 100)\n",
    "plt.fill(np.concatenate([xs, xs[::-1]]),\n",
    "         np.concatenate([norm.pdf(xs), np.zeros(xs.shape)]),\n",
    "         alpha=1, fc='b', label=\"$3\\sigma$\")\n",
    "\n",
    "xs = np.linspace(-2, 2, 100)\n",
    "plt.fill(np.concatenate([xs, xs[::-1]]),\n",
    "         np.concatenate([norm.pdf(xs), np.zeros(xs.shape)]),\n",
    "         alpha=1, fc='r', label=\"$2\\sigma$\")\n",
    "\n",
    "xs = np.linspace(-1, 1, 100)\n",
    "plt.fill(np.concatenate([xs, xs[::-1]]),\n",
    "         np.concatenate([norm.pdf(xs), np.zeros(xs.shape)]),\n",
    "         alpha=1, fc='g', label=\"$1\\sigma$\")\n",
    "plt.axvline(0, c='r', ls='--')\n",
    "plt.plot(x, norm.pdf(x));\n",
    "plt.grid()\n",
    "plt.legend()\n",
    "plt.show()"
   ]
  },
  {
   "cell_type": "markdown",
   "metadata": {},
   "source": [
    "Оно на столько канонично, что иногда вероятности выражают через квантили данного распределения на так называемой Z-шкале.\n",
    "\n",
    "> Квантиль - это некое число $x_\\alpha$, значение которого случайная величина не превышает с некоторой наперед заданной вероятностью $\\alpha$\n",
    "<br><br>\n",
    "\n",
    "$$\n",
    "\\begin{split}\n",
    "P(X \\le x_\\alpha) = \\alpha\n",
    "\\\\\n",
    "F(x_\\alpha) = \\alpha\n",
    "\\end{split}\n",
    "$$\n",
    "\n",
    "\n",
    "Квантили нормального распределения обычно смотрять в виде\n",
    "$$\n",
    "P(x - k_\\alpha \\sigma < \\mu < x + k_\\alpha \\sigma] = \\alpha\n",
    "$$\n",
    "\n",
    "| $k_\\alpha$ | $\\alpha$<img width=100/>                |\n",
    "| ---------- | ----------------------- |\n",
    "| 1          | 68.3%                   |\n",
    "| 2          | 95.4%                   |\n",
    "| 3          | 99.7%                   |\n",
    "| 4          | $1 - 6.5 \\cdot 10^{-3}$ % |\n",
    "| 5          | $1 - 5.7 \\cdot 10^{-5}$ % |"
   ]
  },
  {
   "cell_type": "markdown",
   "metadata": {},
   "source": [
    "Для удобства вероятности различного рода величин иногда также записывают в количествах $\\sigma$ нормального распределения. При этом сами эти величины могут быть из любого распределения. \n",
    "\n",
    "$$\n",
    "k_\\alpha = \\sqrt{2} \\, \\mathrm{erf}^{-1} (\\alpha)\n",
    "$$\n",
    "\n",
    "Иногда называют это $Z$-масштаб ($Z$ scale)."
   ]
  },
  {
   "cell_type": "code",
   "execution_count": 19,
   "metadata": {},
   "outputs": [
    {
     "data": {
      "text/plain": [
       "(1.0006418287624492, 1.995393310167825, 6.109410191663288)"
      ]
     },
     "execution_count": 19,
     "metadata": {},
     "output_type": "execute_result"
    }
   ],
   "source": [
    "from scipy.special import erfinv\n",
    "\n",
    "def zscale(p: float) -> float:\n",
    "    return np.sqrt(2) * erfinv(p)\n",
    "\n",
    "zscale(0.683), zscale(0.954), zscale(0.999999999)"
   ]
  },
  {
   "cell_type": "markdown",
   "metadata": {},
   "source": [
    "## Центральная предельная теорема\n",
    "\n",
    "Если не очень строго, то\n",
    "\n",
    "> Пусть __X__ - случайная величина, распределенная по любому закону с конечными средним и дисперсией. Тогда сумма достаточно большого числа этих случайных величин\n",
    "<br>\n",
    "$$\n",
    "S = \\sum_{i=1}^{N} X_i\n",
    "$$\n",
    "будет вести себя как случайная величина, распределенная по закону $\\mathcal{N}(n\\mu, n\\sigma^2)$\n",
    "\n",
    "Таким образом, биномиальное распределение как сумма случайных событий Бернулли при больших $N$ стремится к нормальному распределению, это же касается распределения Пуассона при больших $\\lambda$."
   ]
  },
  {
   "cell_type": "code",
   "execution_count": 14,
   "metadata": {},
   "outputs": [
    {
     "data": {
      "image/png": "[encoded data removed]",
      "text/plain": [
       "<Figure size 800x400 with 1 Axes>"
      ]
     },
     "metadata": {},
     "output_type": "display_data"
    }
   ],
   "source": [
    "from scipy.stats import uniform\n",
    "\n",
    "# Проверим работу этой теоремы на\n",
    "# равномерное распределение\n",
    "\n",
    "# сначала проверим, что оно равномерно\n",
    "rvs = uniform.rvs(size=1000)\n",
    "plt.axhline(1, c='r', ls='--',)\n",
    "plt.hist(rvs, density=True, bins=10)\n",
    "plt.show()"
   ]
  },
  {
   "cell_type": "code",
   "execution_count": 27,
   "metadata": {},
   "outputs": [
    {
     "data": {
      "image/png": "[encoded data removed]",
      "text/plain": [
       "<Figure size 800x400 with 1 Axes>"
      ]
     },
     "metadata": {},
     "output_type": "display_data"
    }
   ],
   "source": [
    "from scipy.stats import norm\n",
    "\n",
    "# Теперь найдем сумму K равномерно распределенных\n",
    "# случайных величин\n",
    "\n",
    "K = 10\n",
    "rvs = [uniform.rvs(size=K).sum() for _ in range(10000)]\n",
    "plt.hist(rvs, density=True, bins=20);\n",
    "\n",
    "# И сравним с нормальным распределением из теоремы\n",
    "x = np.linspace(2, 8, 1000)\n",
    "plt.plot(x, norm.pdf(x, K/2, np.sqrt(K/12)), lw=3)\n",
    "plt.show()"
   ]
  }
 ],
 "metadata": {
  "kernelspec": {
   "display_name": "Python 3 (ipykernel)",
   "language": "python",
   "name": "python3"
  },
  "language_info": {
   "codemirror_mode": {
    "name": "ipython",
    "version": 3
   },
   "file_extension": ".py",
   "mimetype": "text/x-python",
   "name": "python",
   "nbconvert_exporter": "python",
   "pygments_lexer": "ipython3",
   "version": "3.10.11"
  }
 },
 "nbformat": 4,
 "nbformat_minor": 4
}
