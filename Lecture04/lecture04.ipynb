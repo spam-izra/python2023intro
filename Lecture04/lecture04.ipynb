{
 "cells": [
  {
   "cell_type": "markdown",
   "metadata": {},
   "source": [
    "# Лекция 4. Цикл for. Коллекции (продолжение)\n",
    "\n",
    "* Цикл __for__\n",
    "* Словари\n",
    "* Полезности"
   ]
  },
  {
   "cell_type": "markdown",
   "metadata": {},
   "source": [
    "# Циклы (продолжение)\n",
    "\n",
    "## for\n",
    "\n",
    "Данный оператор позволяет пройтись по элементам любой последовательности или итерируемого объекта. Полный синтаксис оператора __for__\n",
    "\n",
    "```Python\n",
    "\n",
    "for <цель> in <объект>:\n",
    "    <блок кода>\n",
    "else:\n",
    "    <блок кода>\n",
    "```\n",
    "\n",
    "_Объектом_ выступает любой объект, которые поддерживает протокол итераций. При каждой итерации, получаемый элемент присваивается _цели_.\n",
    "\n",
    "Доступны __continue__ и __break__, которые работают точно также, как и для __while__.\n",
    "\n",
    "Блок __else__ срабатывает, если внутри цикла не был использован __break__."
   ]
  },
  {
   "cell_type": "code",
   "execution_count": 1,
   "metadata": {},
   "outputs": [
    {
     "name": "stdout",
     "output_type": "stream",
     "text": [
      "h\n",
      "e\n",
      "l\n",
      "l\n",
      "o\n"
     ]
    }
   ],
   "source": [
    "for c in \"hello\":\n",
    "    print(c)"
   ]
  },
  {
   "cell_type": "markdown",
   "metadata": {},
   "source": [
    "# Словари\n",
    "\n",
    "__Словарь__ - неупорядоченная коллекция данных, которая предоставляет доступ к своим элементам по ключу.\n",
    "\n",
    "\n",
    "Создать словарь можно с помощью литерала __\"{}\"__ или __dict()__"
   ]
  },
  {
   "cell_type": "code",
   "execution_count": 141,
   "metadata": {},
   "outputs": [
    {
     "name": "stdout",
     "output_type": "stream",
     "text": [
      "{'key1': 15, 'key2': 'text'}\n",
      "{'key': 'value', 'another key': 15}\n",
      "{'key1': None, 'key2': None}\n"
     ]
    }
   ],
   "source": [
    "# Пустой словарь\n",
    "a = {}\n",
    "b = dict()\n",
    "\n",
    "# С инициализацией\n",
    "a = {\n",
    "    \"key\": [\"1\", 2],\n",
    "    (6, 6): \"value\",\n",
    "    5: {\n",
    "        \"sub\": \"pub\",\n",
    "    },\n",
    "}\n",
    "\n",
    "print(a[(6, 6)])\n",
    "\n",
    "\n",
    "b = dict(key1=15, key2=\"text\")\n",
    "print(b)\n",
    "\n",
    "b = dict([\n",
    "    (\"key\", \"value\"),\n",
    "    (\"another key\", 15)\n",
    "])\n",
    "print(b)\n",
    "\n",
    "b = dict.fromkeys([\"key1\", \"key2\"])\n",
    "print(b)"
   ]
  },
  {
   "cell_type": "markdown",
   "metadata": {},
   "source": [
    "## Операции со словарями\n",
    "\n",
    "- `a[\"key\"], a.get(\"key\", None)` - полученние данных по ключу\n",
    "- `\"key\" in a` - проверка наличия ключа в словаре\n",
    "- `a.keys(), a.values()` - получение __итерируемых объектов__ с ключами и значениями\n",
    "- `a.items()` - получение __итерируемого объекта__, состоящего из кортежей (ключ, значение)\n",
    "- `a.update(b)` - обновить данные словаря с помощью другого словаря\n",
    "- `len(a)` - количество элементов в словаре\n",
    "- `del a[\"key\"], a.pop(\"key\"), a.popitem()` - удаление из словаря\n",
    "- `a.clear()` - удалить все из словаря\n",
    "- `a.copy()` - получить поверхностную копию"
   ]
  },
  {
   "cell_type": "code",
   "execution_count": 3,
   "metadata": {},
   "outputs": [
    {
     "name": "stdout",
     "output_type": "stream",
     "text": [
      "['1', 2]\n",
      "pub\n",
      "value\n"
     ]
    }
   ],
   "source": [
    "a = {\n",
    "    \"key\": [\"1\", 2],\n",
    "    (6, 6): \"value\",\n",
    "    5: {\n",
    "        \"sub\": \"pub\",\n",
    "    },\n",
    "}\n",
    "\n",
    "# получение данных\n",
    "print(a[\"key\"])\n",
    "print(a[5]['sub'])\n",
    "print(a[(6, 6)])"
   ]
  },
  {
   "cell_type": "code",
   "execution_count": 35,
   "metadata": {},
   "outputs": [
    {
     "data": {
      "text/plain": [
       "'value'"
      ]
     },
     "execution_count": 35,
     "metadata": {},
     "output_type": "execute_result"
    }
   ],
   "source": [
    "a[(6, 6)]"
   ]
  },
  {
   "cell_type": "code",
   "execution_count": 25,
   "metadata": {},
   "outputs": [
    {
     "ename": "KeyError",
     "evalue": "'dunno'",
     "output_type": "error",
     "traceback": [
      "\u001b[0;31m---------------------------------------------------------------------------\u001b[0m",
      "\u001b[0;31mKeyError\u001b[0m                                  Traceback (most recent call last)",
      "\u001b[0;32m<ipython-input-25-229a12a0f303>\u001b[0m in \u001b[0;36m<module>\u001b[0;34m\u001b[0m\n\u001b[1;32m      1\u001b[0m \u001b[0;31m# но если ключа нет, то получим ошибку\u001b[0m\u001b[0;34m\u001b[0m\u001b[0;34m\u001b[0m\u001b[0m\n\u001b[0;32m----> 2\u001b[0;31m \u001b[0ma\u001b[0m\u001b[0;34m[\u001b[0m\u001b[0;34m\"dunno\"\u001b[0m\u001b[0;34m]\u001b[0m\u001b[0;34m\u001b[0m\u001b[0;34m\u001b[0m\u001b[0m\n\u001b[0m",
      "\u001b[0;31mKeyError\u001b[0m: 'dunno'"
     ]
    }
   ],
   "source": [
    "# но если ключа нет, то получим ошибку\n",
    "a[\"dunno\"]"
   ]
  },
  {
   "cell_type": "markdown",
   "metadata": {},
   "source": [
    "Ниже представлены способы обхода ошибки, связанной с отсутствием ключа"
   ]
  },
  {
   "cell_type": "code",
   "execution_count": 30,
   "metadata": {},
   "outputs": [
    {
     "name": "stdout",
     "output_type": "stream",
     "text": [
      "None\n",
      "default\n",
      "error\n"
     ]
    }
   ],
   "source": [
    "# сначала проверяем, что ключ есть\n",
    "if \"dunno\" in a:\n",
    "    print(a[\"dunno\"])\n",
    "\n",
    "# или пользоваться get, который возвращает None, если ключа нет\n",
    "c = a.get(\"dunno\")\n",
    "if c is None:\n",
    "    pass\n",
    "print(c)\n",
    "\n",
    "# или может возвращать значение по умолчанию\n",
    "c = a.get(\"dunno\", \"default\")\n",
    "print(c)\n",
    "\n",
    "# или перехватывать эту ошибку(будет рассказано в следующих лекциях)\n",
    "try:\n",
    "    c = a[\"dunno\"]\n",
    "except KeyError:\n",
    "    c = \"default\"\n",
    "    print(\"error\")"
   ]
  },
  {
   "cell_type": "markdown",
   "metadata": {},
   "source": [
    "Примеры остальных операций"
   ]
  },
  {
   "cell_type": "code",
   "execution_count": 6,
   "metadata": {},
   "outputs": [
    {
     "name": "stdout",
     "output_type": "stream",
     "text": [
      "dict_keys(['key', (6, 6), 5])\n"
     ]
    }
   ],
   "source": [
    "print(a.keys())"
   ]
  },
  {
   "cell_type": "code",
   "execution_count": 151,
   "metadata": {},
   "outputs": [
    {
     "name": "stdout",
     "output_type": "stream",
     "text": [
      "[('key', ['1', 2]), ((6, 6), 'value'), (5, {'sub': 'pub'})]\n",
      "5 {'sub': 'pub'}\n"
     ]
    }
   ],
   "source": [
    "# получить все ключи\n",
    "# list нужен, чтобы преобразовать итерируемый объект в список\n",
    "keys = list(a.keys())\n",
    "\n",
    "# Или тоже самое\n",
    "keys = list(a)\n",
    "\n",
    "\n",
    "# значения\n",
    "values = list(a.values())\n",
    "\n",
    "# или оба сразу\n",
    "items = list(a.items())\n",
    "print(items)\n",
    "\n",
    "# удаляем\n",
    "del a['key']\n",
    "v = a.pop((6, 6)) # выдаст ошибку, если ключа нет\n",
    "v = a.pop('dunno', 'default') # вернет значение по умолчанию, если ключа нет\n",
    "\n",
    "k, v = a.popitem()\n",
    "print(k, v)"
   ]
  },
  {
   "cell_type": "code",
   "execution_count": 41,
   "metadata": {},
   "outputs": [
    {
     "data": {
      "text/plain": [
       "'New Value'"
      ]
     },
     "execution_count": 41,
     "metadata": {},
     "output_type": "execute_result"
    }
   ],
   "source": [
    "# изменение словаря (добавление новых значений)\n",
    "\n",
    "a[\"new_key\"] = \"New Value\"\n",
    "a[\"new_key\"]\n",
    "\n",
    "\n",
    "# Изящный способ использования значения по умолчанию\n",
    "a[\"new_key2\"] = a.get(\"new_key2\", 0) + 1"
   ]
  },
  {
   "cell_type": "code",
   "execution_count": 8,
   "metadata": {},
   "outputs": [
    {
     "data": {
      "text/plain": [
       "{'asdf': 1, 'g': 3, 'dfh': 1}"
      ]
     },
     "execution_count": 8,
     "metadata": {},
     "output_type": "execute_result"
    }
   ],
   "source": [
    "# Подсчет слов в тексте\n",
    "\n",
    "text = \"asdf g dfh g g \"\n",
    "words = text.split()\n",
    "\n",
    "counter = {}\n",
    "\n",
    "for word in words:\n",
    "    counter[word] = counter.get(word, 0) + 1\n",
    "    \n",
    "counter"
   ]
  },
  {
   "cell_type": "code",
   "execution_count": 9,
   "metadata": {},
   "outputs": [
    {
     "name": "stdout",
     "output_type": "stream",
     "text": [
      "      asdf = 1\n",
      "         g = 3\n",
      "       dfh = 1\n"
     ]
    }
   ],
   "source": [
    "# пример обхода словаря\n",
    "\n",
    "for word, count in counter.items():\n",
    "    print(f'{word:>10} = {count}')"
   ]
  },
  {
   "cell_type": "markdown",
   "metadata": {},
   "source": [
    "# Прочие коллекции\n",
    "\n",
    "Существует еще несколько весьма удобных коллекций в модуле __[collections](https://docs.python.org/3/library/collections.html)__\n",
    "\n",
    "- __set()__ - множества\n",
    "- __namedtuple()__ - кортеж с именоваными элементами (похож на словарь)\n",
    "- __defaultdict()__ - словарь, который автоматически создает значение для несуществующих ключей"
   ]
  },
  {
   "cell_type": "code",
   "execution_count": 11,
   "metadata": {},
   "outputs": [
    {
     "name": "stdout",
     "output_type": "stream",
     "text": [
      "Point(x=5, y=10)\n",
      "5 5\n",
      "5 10\n"
     ]
    }
   ],
   "source": [
    "from collections import namedtuple, defaultdict\n",
    "\n",
    "Point = namedtuple('Point', ['x', 'y'])\n",
    "\n",
    "p = Point(x=5, y=10)\n",
    "print(p)\n",
    "print(p.x, p[0])\n",
    "x, y = p\n",
    "print(x, y)"
   ]
  },
  {
   "cell_type": "code",
   "execution_count": 17,
   "metadata": {},
   "outputs": [
    {
     "name": "stdout",
     "output_type": "stream",
     "text": [
      "5\n",
      "[]\n"
     ]
    }
   ],
   "source": [
    "a = defaultdict(lambda: 5)\n",
    "print(a[\"dunno\"])\n",
    "\n",
    "a = defaultdict(list)\n",
    "print(a[\"dunno\"])"
   ]
  },
  {
   "cell_type": "markdown",
   "metadata": {},
   "source": [
    "## Полезные функции для циклов\n",
    "\n",
    "> `range(start, end, step)` -  позволяет генерировать числа по запросу."
   ]
  },
  {
   "cell_type": "code",
   "execution_count": 12,
   "metadata": {},
   "outputs": [
    {
     "data": {
      "text/plain": [
       "[0, 1, 2, 3, 4, 5, 6, 7, 8, 9]"
      ]
     },
     "execution_count": 12,
     "metadata": {},
     "output_type": "execute_result"
    }
   ],
   "source": [
    "#  Получить от нуля до 10, не включая\n",
    "list(range(10))"
   ]
  },
  {
   "cell_type": "code",
   "execution_count": 13,
   "metadata": {},
   "outputs": [
    {
     "data": {
      "text/plain": [
       "[5, 6, 7, 8, 9]"
      ]
     },
     "execution_count": 13,
     "metadata": {},
     "output_type": "execute_result"
    }
   ],
   "source": [
    "# Получить от 5 до 10, не включая\n",
    "list(range(5, 10))"
   ]
  },
  {
   "cell_type": "code",
   "execution_count": 59,
   "metadata": {},
   "outputs": [
    {
     "data": {
      "text/plain": [
       "[0, 2, 4, 6, 8]"
      ]
     },
     "execution_count": 59,
     "metadata": {},
     "output_type": "execute_result"
    }
   ],
   "source": [
    "# Получить от 5 до 10, не включая, с шагом 2\n",
    "list(range(0, 10, 2))"
   ]
  },
  {
   "cell_type": "markdown",
   "metadata": {},
   "source": [
    "Данную функцию очень удобно использовать для генерации индексов"
   ]
  },
  {
   "cell_type": "code",
   "execution_count": 17,
   "metadata": {},
   "outputs": [
    {
     "name": "stdout",
     "output_type": "stream",
     "text": [
      "[0, 0, 0]\n"
     ]
    }
   ],
   "source": [
    "a = [1, 2, 3]\n",
    "\n",
    "for i in range(len(a)):\n",
    "    a[i] = 0\n",
    "\n",
    "print(a)"
   ]
  },
  {
   "cell_type": "markdown",
   "metadata": {},
   "source": [
    "> `zip(obj1, obj2, ...)` - _\"склеивает\"_ элементы списков в кортежи, пока это возможно сделать."
   ]
  },
  {
   "cell_type": "code",
   "execution_count": 19,
   "metadata": {},
   "outputs": [
    {
     "name": "stdout",
     "output_type": "stream",
     "text": [
      "1 4\n",
      "2 5\n",
      "3 6\n"
     ]
    }
   ],
   "source": [
    "a = [1, 2, 3]\n",
    "b = [4, 5, 6]\n",
    "\n",
    "for el_a, el_b in zip(a, b):\n",
    "    print(el_a, el_b)"
   ]
  },
  {
   "cell_type": "code",
   "execution_count": 19,
   "metadata": {},
   "outputs": [
    {
     "data": {
      "text/plain": [
       "[(1, 4), (2, 5), (3, 6)]"
      ]
     },
     "execution_count": 19,
     "metadata": {},
     "output_type": "execute_result"
    }
   ],
   "source": [
    "list(zip(a, b))"
   ]
  },
  {
   "cell_type": "code",
   "execution_count": 62,
   "metadata": {},
   "outputs": [
    {
     "name": "stdout",
     "output_type": "stream",
     "text": [
      "H F\n",
      "i o\n"
     ]
    }
   ],
   "source": [
    "for a, b in zip(\"Hi\", \"Foo\"):\n",
    "    print(a, b)"
   ]
  },
  {
   "cell_type": "markdown",
   "metadata": {},
   "source": [
    "Например, иногда очень удобно использовать для создание словарей"
   ]
  },
  {
   "cell_type": "code",
   "execution_count": 25,
   "metadata": {},
   "outputs": [
    {
     "name": "stdout",
     "output_type": "stream",
     "text": [
      "{'H': 'F', 'i': 'o'}\n"
     ]
    }
   ],
   "source": [
    "d = dict(zip(\"Hi\", \"Foo\"))\n",
    "print(d)"
   ]
  },
  {
   "cell_type": "markdown",
   "metadata": {},
   "source": [
    "> `map()` - позволяет очень быстро отобразить функцию на последовательность (работает быстрее for)."
   ]
  },
  {
   "cell_type": "code",
   "execution_count": 64,
   "metadata": {},
   "outputs": [
    {
     "name": "stdout",
     "output_type": "stream",
     "text": [
      "<map object at 0x1087be490>\n",
      "[1, 2, 3, 4]\n"
     ]
    }
   ],
   "source": [
    "a = [\"1\", \"2\", \"3\", \"4\"]\n",
    "\n",
    "# обратите внимание на int без скобок\n",
    "result = map(int, a)\n",
    "\n",
    "# видим, что это объект, а не конкретный результат\n",
    "print(result)\n",
    "\n",
    "print(list(result))"
   ]
  },
  {
   "cell_type": "markdown",
   "metadata": {},
   "source": [
    "> `enumerate()` - позволяет генерировать индекс элемента и сам элемент"
   ]
  },
  {
   "cell_type": "code",
   "execution_count": 31,
   "metadata": {},
   "outputs": [
    {
     "name": "stdout",
     "output_type": "stream",
     "text": [
      "s[00] = 'H'\n",
      "s[01] = 'e'\n",
      "s[02] = 'l'\n",
      "s[03] = 'l'\n",
      "s[04] = 'o'\n",
      "s[05] = ' '\n",
      "s[06] = 'W'\n",
      "s[07] = 'o'\n",
      "s[08] = 'r'\n",
      "s[09] = 'l'\n",
      "s[10] = 'd'\n"
     ]
    }
   ],
   "source": [
    "for i, c in enumerate(\"Hello World\"):\n",
    "    # используем форматирование, чтобы индекс выглядел красиво\n",
    "    print(f\"s[{i:02d}] = '{c}'\")"
   ]
  },
  {
   "cell_type": "markdown",
   "metadata": {},
   "source": [
    "> `all(iterable)` - возвращает True, если все значения true-подобны. Если элементов в объекте нет, то возращает True"
   ]
  },
  {
   "cell_type": "code",
   "execution_count": 14,
   "metadata": {},
   "outputs": [
    {
     "name": "stdout",
     "output_type": "stream",
     "text": [
      "False\n",
      "True\n",
      "True\n"
     ]
    }
   ],
   "source": [
    "a = [1, 2, 0]\n",
    "print(all(a))\n",
    "\n",
    "a = [1, 2, 3]\n",
    "print(all(a))\n",
    "\n",
    "# но если список пустой\n",
    "a = []\n",
    "print(all(a))"
   ]
  },
  {
   "cell_type": "markdown",
   "metadata": {},
   "source": [
    "> `any(iterable)` - возвращает True, если хотя бы одно значение true-подобно. Если элментов нет, то возвращает False"
   ]
  },
  {
   "cell_type": "code",
   "execution_count": 16,
   "metadata": {},
   "outputs": [
    {
     "name": "stdout",
     "output_type": "stream",
     "text": [
      "False\n",
      "True\n",
      "False\n"
     ]
    }
   ],
   "source": [
    "a = [0, 0, 0]\n",
    "print(any(a))\n",
    "\n",
    "a = [0, 2, 0]\n",
    "print(any(a))\n",
    "\n",
    "# но если список пустой\n",
    "a = []\n",
    "print(any(a))"
   ]
  },
  {
   "cell_type": "markdown",
   "metadata": {},
   "source": [
    "> `min(iterable), min(arg1, arg2, ...), max(iterable), max(arg1, arg2, ...)` - получить минимальный или максимальный элемент"
   ]
  },
  {
   "cell_type": "code",
   "execution_count": 18,
   "metadata": {},
   "outputs": [
    {
     "name": "stdout",
     "output_type": "stream",
     "text": [
      "-1\n",
      "-1\n"
     ]
    }
   ],
   "source": [
    "print(min([3, -1, 5]))\n",
    "print(min(3, -1, 6))"
   ]
  },
  {
   "cell_type": "markdown",
   "metadata": {},
   "source": [
    "> `sum(iterable)` - найти сумму всех элементов"
   ]
  },
  {
   "cell_type": "code",
   "execution_count": 21,
   "metadata": {},
   "outputs": [
    {
     "name": "stdout",
     "output_type": "stream",
     "text": [
      "45\n",
      "55\n"
     ]
    }
   ],
   "source": [
    "a = [i for i in range(10)]\n",
    "\n",
    "print(sum(a))\n",
    "print(sum(a, 10))"
   ]
  },
  {
   "cell_type": "markdown",
   "metadata": {},
   "source": [
    "> `filter(func, iterable)` - отфильтровать значения"
   ]
  },
  {
   "cell_type": "code",
   "execution_count": 6,
   "metadata": {},
   "outputs": [
    {
     "name": "stdout",
     "output_type": "stream",
     "text": [
      "[0, 1, 2, 3, 4, 5, 6, 7, 8, 9]\n",
      "[1, 3, 5, 7, 9]\n"
     ]
    }
   ],
   "source": [
    "a = [i for i in range(10)]\n",
    "print(a)\n",
    "b = list(filter(lambda x: x % 2, a))\n",
    "print(b)"
   ]
  },
  {
   "cell_type": "markdown",
   "metadata": {},
   "source": [
    "# Инициализация списков и словарей\n",
    "\n",
    "Если перед нами стоит задача изменения списка, то мы вынуждены написаны следующий код"
   ]
  },
  {
   "cell_type": "code",
   "execution_count": 71,
   "metadata": {},
   "outputs": [
    {
     "name": "stdout",
     "output_type": "stream",
     "text": [
      "[10, 11, 12, 13, 14, 15]\n"
     ]
    }
   ],
   "source": [
    "# Функциональный стиль\n",
    "a = [0, 1, 2, 3, 4, 5]\n",
    "b = []\n",
    "for el in a:\n",
    "    b.append(el + 10)\n",
    "print(b)"
   ]
  },
  {
   "cell_type": "markdown",
   "metadata": {},
   "source": [
    "Данный подход не самый оптимальный. Python предоставляет нам более удобный способ"
   ]
  },
  {
   "cell_type": "code",
   "execution_count": 3,
   "metadata": {},
   "outputs": [
    {
     "name": "stdout",
     "output_type": "stream",
     "text": [
      "[10, 11, 12, 13, 14, 15]\n"
     ]
    }
   ],
   "source": [
    "a = [0, 1, 2, 3, 4, 5]\n",
    "a = [el + 10 for el in a]\n",
    "print(a)"
   ]
  },
  {
   "cell_type": "code",
   "execution_count": 73,
   "metadata": {},
   "outputs": [
    {
     "data": {
      "text/plain": [
       "[0, 0, 0, 0, 0, 0, 0, 0, 0, 0]"
      ]
     },
     "execution_count": 73,
     "metadata": {},
     "output_type": "execute_result"
    }
   ],
   "source": [
    "# инициализация списка нужного размера\n",
    "a = [0 for _ in range(10)]\n",
    "a"
   ]
  },
  {
   "cell_type": "markdown",
   "metadata": {},
   "source": [
    "Также можно добавить условие, которое позволит \"фильтровать\" элементы списка"
   ]
  },
  {
   "cell_type": "code",
   "execution_count": 4,
   "metadata": {},
   "outputs": [
    {
     "name": "stdout",
     "output_type": "stream",
     "text": [
      "[10, 12, 14]\n"
     ]
    }
   ],
   "source": [
    "a = [0, 1, 2, 3, 4, 5]\n",
    "a = [el + 10 for el in a if el % 2 == 0]\n",
    "print(a)"
   ]
  },
  {
   "cell_type": "markdown",
   "metadata": {},
   "source": [
    "Никто не запрещает нам использовать вложенные циклы"
   ]
  },
  {
   "cell_type": "code",
   "execution_count": 12,
   "metadata": {},
   "outputs": [
    {
     "name": "stdout",
     "output_type": "stream",
     "text": [
      "['ad', 'ae', 'af', 'ag', 'ah', 'bd', 'be', 'bf', 'bg', 'bh', 'cd', 'ce', 'cf', 'cg', 'ch']\n",
      "['ad', 'ae', 'af', 'ag', 'ah', 'bd', 'be', 'bf', 'bg', 'bh', 'cd', 'ce', 'cf', 'cg', 'ch']\n"
     ]
    }
   ],
   "source": [
    "a = [x+y for x in \"abc\" for y in \"defgh\"]\n",
    "print(a)\n",
    "\n",
    "# или эквивалент\n",
    "a = []\n",
    "for x in \"abc\":\n",
    "    for y in \"defgh\":\n",
    "        a.append(x + y)\n",
    "print(a)"
   ]
  },
  {
   "cell_type": "markdown",
   "metadata": {},
   "source": [
    "Точно такая же конструкция может быть использована для создания словарей и множеств"
   ]
  },
  {
   "cell_type": "code",
   "execution_count": 22,
   "metadata": {},
   "outputs": [
    {
     "name": "stdout",
     "output_type": "stream",
     "text": [
      "<class 'set'> {0, 1, 2, 3, 4, 5, 6, 7, 8, 9}\n",
      "<class 'dict'> {'0': 0, '1': 1, '2': 4, '3': 9, '4': 16, '5': 25, '6': 36, '7': 49, '8': 64, '9': 81}\n"
     ]
    }
   ],
   "source": [
    "s = {n for n in range(10)}\n",
    "print(type(s), s)\n",
    "\n",
    "d = {str(n): n**2 for n in range(10)}\n",
    "print(type(d), d)"
   ]
  },
  {
   "cell_type": "markdown",
   "metadata": {},
   "source": [
    "## Распаковка\n",
    "\n",
    "Есть также возможность использовать распаковку объектов поддерживающих протокол итераций для создания списков"
   ]
  },
  {
   "cell_type": "code",
   "execution_count": 11,
   "metadata": {},
   "outputs": [
    {
     "data": {
      "text/plain": [
       "['list', 3, 4, 5, 'dict', 'z', 'g']"
      ]
     },
     "execution_count": 11,
     "metadata": {},
     "output_type": "execute_result"
    }
   ],
   "source": [
    "a = [3, 4, 5, ]\n",
    "b = {\"z\": 2, \"g\": 6}\n",
    "c = [\"list\", *a, \"dict\", *b]\n",
    "\n",
    "c"
   ]
  },
  {
   "cell_type": "markdown",
   "metadata": {},
   "source": [
    "# Примеры"
   ]
  },
  {
   "cell_type": "code",
   "execution_count": 4,
   "metadata": {},
   "outputs": [],
   "source": [
    "a = {\n",
    "    \"a\": 1,\n",
    "    \"b\": 2,\n",
    "}"
   ]
  },
  {
   "cell_type": "code",
   "execution_count": 5,
   "metadata": {},
   "outputs": [
    {
     "name": "stdout",
     "output_type": "stream",
     "text": [
      "a\n",
      "b\n"
     ]
    }
   ],
   "source": [
    "for key in a:\n",
    "    print(key)"
   ]
  },
  {
   "cell_type": "code",
   "execution_count": 6,
   "metadata": {},
   "outputs": [
    {
     "name": "stdout",
     "output_type": "stream",
     "text": [
      "1\n",
      "2\n"
     ]
    }
   ],
   "source": [
    "for value in a.values():\n",
    "    print(value)"
   ]
  },
  {
   "cell_type": "code",
   "execution_count": 7,
   "metadata": {},
   "outputs": [
    {
     "name": "stdout",
     "output_type": "stream",
     "text": [
      "a 1\n",
      "b 2\n"
     ]
    }
   ],
   "source": [
    "for key, value in a.items():\n",
    "    print(key, value)"
   ]
  },
  {
   "cell_type": "markdown",
   "metadata": {},
   "source": [
    "При этом __важно__ понимать, что цель - это обычная переменная, так что если ее перезаписать, то перезапишется она, а не элемента массива"
   ]
  },
  {
   "cell_type": "code",
   "execution_count": 4,
   "metadata": {},
   "outputs": [
    {
     "name": "stdout",
     "output_type": "stream",
     "text": [
      "[1, 2, 3]\n",
      "5\n"
     ]
    }
   ],
   "source": [
    "a = [1, 2, 3]\n",
    "\n",
    "for el in a:\n",
    "    el = 5\n",
    "\n",
    "# не совсем то, что хотелось бы\n",
    "print(a)\n",
    "print(el)"
   ]
  },
  {
   "cell_type": "markdown",
   "metadata": {},
   "source": [
    "Так что если очень хочется, то придется делать так"
   ]
  },
  {
   "cell_type": "code",
   "execution_count": 3,
   "metadata": {},
   "outputs": [
    {
     "name": "stdout",
     "output_type": "stream",
     "text": [
      "[5, 5, 5]\n"
     ]
    }
   ],
   "source": [
    "for i in range(len(a)):\n",
    "    a[i] = 5\n",
    "\n",
    "print(a)"
   ]
  },
  {
   "cell_type": "markdown",
   "metadata": {},
   "source": [
    "# Домашнее задание\n",
    "\n",
    "\n",
    "# Задача 1\n",
    "\n",
    "Необходимо сгенерировать список состоящих из случайных целых чисел. Количество чисел задает пользователь.\n",
    "\n",
    "Можно использовать модуль [random](https://docs.python.org/3/library/random.html)\n",
    "\n",
    "# Задача 2\n",
    "\n",
    "Взять список из предыдущей задачи и отсортировать его методом [сортировки пузырьком](https://ru.wikipedia.org/wiki/%D0%A1%D0%BE%D1%80%D1%82%D0%B8%D1%80%D0%BE%D0%B2%D0%BA%D0%B0_%D0%BF%D1%83%D0%B7%D1%8B%D1%80%D1%8C%D0%BA%D0%BE%D0%BC).\n",
    "\n",
    "# Задача 3\n",
    "\n",
    "Реализовать сортировку методом [Bogosort](https://ru.wikipedia.org/wiki/Bogosort).\n",
    "В этом случае использовать список небольшого размера и небольшой набор целых чисел."
   ]
  }
 ],
 "metadata": {
  "kernelspec": {
   "display_name": "Python 3 (ipykernel)",
   "language": "python",
   "name": "python3"
  },
  "language_info": {
   "codemirror_mode": {
    "name": "ipython",
    "version": 3
   },
   "file_extension": ".py",
   "mimetype": "text/x-python",
   "name": "python",
   "nbconvert_exporter": "python",
   "pygments_lexer": "ipython3",
   "version": "3.10.11"
  }
 },
 "nbformat": 4,
 "nbformat_minor": 4
}
