{
 "cells": [
  {
   "cell_type": "markdown",
   "metadata": {},
   "source": [
    "# Лекция 9. Последние штрихи\n",
    "\n",
    "* Исключения\n",
    "* Декораторы\n",
    "* Управление атрибутами"
   ]
  },
  {
   "cell_type": "markdown",
   "metadata": {},
   "source": [
    "# Исключения\n",
    "\n",
    "Мы уже знаем, как перехватывать исключения"
   ]
  },
  {
   "cell_type": "code",
   "execution_count": 31,
   "metadata": {},
   "outputs": [
    {
     "name": "stdout",
     "output_type": "stream",
     "text": [
      "Invalid operation\n",
      "FINALLY\n"
     ]
    }
   ],
   "source": [
    "try:    \n",
    "    a = 1 / 0\n",
    "    assert a > 0\n",
    "    \n",
    "except (ZeroDivisionError, AssertionError): # можно перечислить несколько\n",
    "    print(\"Invalid operation\")\n",
    "else:\n",
    "    # а это будет выполнено только если исключения внутри try не возникли\n",
    "    print(\"ELSE\")\n",
    "finally:\n",
    "    # этот блок будет всегда выполнен\n",
    "    print(\"FINALLY\")"
   ]
  },
  {
   "cell_type": "markdown",
   "metadata": {},
   "source": [
    "Генерировать исключения тоже легко. Это можно сделать с помощью оператора `raise`\n",
    "\n",
    "> `raise <ExceptionClass>` - данный оператор создает исключение, которое может быть перехвачено обработчиком, написанным программистом. В противном случае, данное исключение будет перехвачено стандартным обработчиком и приведет к остановке программы. Если использовать оператор `raise` без аргумента, то будет повторно сгенерировано самое последнее исключение."
   ]
  },
  {
   "cell_type": "code",
   "execution_count": 2,
   "metadata": {},
   "outputs": [
    {
     "name": "stdout",
     "output_type": "stream",
     "text": [
      "Invalid operation \n"
     ]
    }
   ],
   "source": [
    "try:\n",
    "    # можно указать класс (будет создан экземпляр)\n",
    "    raise ZeroDivisionError\n",
    "    # а можно указать экземпляр, тогда будет возвращен этот экземпляр\n",
    "    raise ZeroDivisionError()\n",
    "except (ZeroDivisionError, AssertionError) as e:\n",
    "    print(\"Invalid operation\", e)"
   ]
  },
  {
   "cell_type": "code",
   "execution_count": 3,
   "metadata": {},
   "outputs": [
    {
     "name": "stdout",
     "output_type": "stream",
     "text": [
      "Got ZeroDivisionError\n"
     ]
    },
    {
     "ename": "ZeroDivisionError",
     "evalue": "",
     "output_type": "error",
     "traceback": [
      "\u001b[0;31m---------------------------------------------------------------------------\u001b[0m",
      "\u001b[0;31mZeroDivisionError\u001b[0m                         Traceback (most recent call last)",
      "\u001b[0;32m<ipython-input-3-bf011b08f0fe>\u001b[0m in \u001b[0;36m<module>\u001b[0;34m\u001b[0m\n\u001b[1;32m      1\u001b[0m \u001b[0;32mtry\u001b[0m\u001b[0;34m:\u001b[0m\u001b[0;34m\u001b[0m\u001b[0;34m\u001b[0m\u001b[0m\n\u001b[0;32m----> 2\u001b[0;31m     \u001b[0;32mraise\u001b[0m \u001b[0mZeroDivisionError\u001b[0m\u001b[0;34m\u001b[0m\u001b[0;34m\u001b[0m\u001b[0m\n\u001b[0m\u001b[1;32m      3\u001b[0m \u001b[0;32mexcept\u001b[0m \u001b[0mZeroDivisionError\u001b[0m\u001b[0;34m:\u001b[0m\u001b[0;34m\u001b[0m\u001b[0;34m\u001b[0m\u001b[0m\n\u001b[1;32m      4\u001b[0m     \u001b[0mprint\u001b[0m\u001b[0;34m(\u001b[0m\u001b[0;34m\"Got ZeroDivisionError\"\u001b[0m\u001b[0;34m)\u001b[0m\u001b[0;34m\u001b[0m\u001b[0;34m\u001b[0m\u001b[0m\n\u001b[1;32m      5\u001b[0m     \u001b[0;32mraise\u001b[0m\u001b[0;34m\u001b[0m\u001b[0;34m\u001b[0m\u001b[0m\n",
      "\u001b[0;31mZeroDivisionError\u001b[0m: "
     ]
    }
   ],
   "source": [
    "try:\n",
    "    raise ZeroDivisionError\n",
    "except ZeroDivisionError:\n",
    "    print(\"Got ZeroDivisionError\")\n",
    "    raise"
   ]
  },
  {
   "cell_type": "markdown",
   "metadata": {},
   "source": [
    "Также есть возможность условной генерации исключений с помощью оператора `assert`, который часто используется для отладки на стадии разработки\n",
    "\n",
    "> `assert <condition> [, <data>]` - позволяет генерировать исключения, если какое-то условие не выполняется. "
   ]
  },
  {
   "cell_type": "code",
   "execution_count": 1,
   "metadata": {},
   "outputs": [
    {
     "name": "stdout",
     "output_type": "stream",
     "text": [
      "ASSERT: ['FAIL', 1]\n"
     ]
    }
   ],
   "source": [
    "# Срабатывает, если не выполнении условия\n",
    "\n",
    "try:\n",
    "    # все ок\n",
    "    assert 5 > 2\n",
    "\n",
    "    # все плохо\n",
    "    assert 5 < 2, 'FAIL'\n",
    "    \n",
    "    # Эквивалентно\n",
    "    if not(5 < 2):\n",
    "        raise AssertionError(\"FAIL\")\n",
    "        \n",
    "except AssertionError as e:\n",
    "    print(\"ASSERT:\", e)"
   ]
  },
  {
   "cell_type": "markdown",
   "metadata": {},
   "source": [
    "Есть также универсальный класс исключений **Exception**"
   ]
  },
  {
   "cell_type": "code",
   "execution_count": 2,
   "metadata": {},
   "outputs": [
    {
     "name": "stdout",
     "output_type": "stream",
     "text": [
      "('item', 1, 3)\n",
      "item 1\n"
     ]
    }
   ],
   "source": [
    "try:\n",
    "    raise Exception(\"item\", 1, 3)\n",
    "        \n",
    "except Exception as e:\n",
    "    print(e)\n",
    "    print(e.args[0], e.args[1])"
   ]
  },
  {
   "cell_type": "markdown",
   "metadata": {
    "tags": []
   },
   "source": [
    "## Создание своих исключений\n",
    "\n",
    "Выше мы использовали встроенные исключения. Python также позволяет программисту создавать собственные уникальные исключения."
   ]
  },
  {
   "cell_type": "code",
   "execution_count": 206,
   "metadata": {},
   "outputs": [],
   "source": [
    "# Нам нужно просто отнаследоваться от базового класса для исключений\n",
    "\n",
    "class MyOwnCrazyException(Exception): pass"
   ]
  },
  {
   "cell_type": "code",
   "execution_count": 207,
   "metadata": {},
   "outputs": [
    {
     "name": "stdout",
     "output_type": "stream",
     "text": [
      "My Exception\n",
      "('FAIL',)\n"
     ]
    }
   ],
   "source": [
    "try:\n",
    "    raise MyOwnCrazyException(\"FAIL\")\n",
    "except MyOwnCrazyException as e:\n",
    "    print(\"My Exception\")\n",
    "    print(e.args)"
   ]
  },
  {
   "cell_type": "code",
   "execution_count": 19,
   "metadata": {},
   "outputs": [],
   "source": [
    "# или вариант посложнее\n",
    "\n",
    "class MyOwnCrazyException2(Exception):\n",
    "    def __init__(self, *args, **kargs):\n",
    "        super().__init__(*args, **kargs)\n",
    "        \n",
    "    def __str__(self):\n",
    "        return \"[MyOwnCrazyException2]: \" + \", \".join([str(arg) for arg in self.args])\n",
    "    \n",
    "    def __repr__(self):\n",
    "        return self.__str__()"
   ]
  },
  {
   "cell_type": "code",
   "execution_count": 20,
   "metadata": {},
   "outputs": [
    {
     "name": "stdout",
     "output_type": "stream",
     "text": [
      "[MyOwnCrazyException2]: 1, 4, [3.4]\n"
     ]
    }
   ],
   "source": [
    "try:\n",
    "    raise MyOwnCrazyException2(\"1\", \"4\", [3.4])\n",
    "except MyOwnCrazyException2 as e:\n",
    "    print(e)"
   ]
  },
  {
   "cell_type": "markdown",
   "metadata": {},
   "source": [
    "## Иерархия исключений\n",
    "\n",
    "Исключения образуют иерархию, что позволяет перехватывать исключения по их предку, а не по конкретному типу исключения. \n",
    "\n",
    "Все исключения наследуются от `BaseException`. Класс `Exception` также наследуется от этого класса. "
   ]
  },
  {
   "cell_type": "code",
   "execution_count": 57,
   "metadata": {},
   "outputs": [
    {
     "name": "stdout",
     "output_type": "stream",
     "text": [
      "FAIL\n"
     ]
    }
   ],
   "source": [
    "class MyException(Exception): pass\n",
    "\n",
    "\n",
    "try:\n",
    "    raise MyException(\"FAIL\")\n",
    "except Exception as e:\n",
    "    print(e)"
   ]
  },
  {
   "cell_type": "markdown",
   "metadata": {},
   "source": [
    "Это очень удобно для формирования категорий исключений"
   ]
  },
  {
   "cell_type": "code",
   "execution_count": 214,
   "metadata": {},
   "outputs": [
    {
     "name": "stdout",
     "output_type": "stream",
     "text": [
      "Exception:  ZeroDivisionError()\n"
     ]
    }
   ],
   "source": [
    "class GeneralError(Exception): pass\n",
    "\n",
    "class IOError(GeneralError): pass\n",
    "class InvalidOperationError(GeneralError): pass\n",
    "class ConnectionError(GeneralError): pass\n",
    "\n",
    "try:\n",
    "    # Наше исключение\n",
    "    #raise ConnectionError\n",
    "    \n",
    "    # Встроенное\n",
    "    # raise ZeroDivisionError\n",
    "    \n",
    "    # Специальное встроенное\n",
    "    raise SystemExit\n",
    "except GeneralError as e:\n",
    "    print(\"Custom exception: \", repr(e))\n",
    "except Exception as e:\n",
    "    print(\"Exception: \", repr(e))\n",
    "except BaseException as e:\n",
    "    print(\"BaseException: \", repr(e))\n",
    "    raise\n",
    "except:\n",
    "    print(\"Unknown exception\")"
   ]
  },
  {
   "cell_type": "markdown",
   "metadata": {},
   "source": [
    "# Декораторы\n",
    "\n",
    "> __Декораторы__ - это довольно изящный способ указания дополнительного управляющего или дополняющего кода для функций и классов.\n",
    " \n",
    "Создать декоратор довольно просто - это обычная функция/класс, которая получает исполняемый объект и затем возвращает также исполняемый объект."
   ]
  },
  {
   "cell_type": "code",
   "execution_count": 6,
   "metadata": {},
   "outputs": [],
   "source": [
    "# простейший декоратор, который ничего не делает\n",
    "def decorator(F):\n",
    "    return F\n",
    "\n",
    "# простейший декоратор, который ничего не делает\n",
    "class decorator:\n",
    "    def __init__(self, F):\n",
    "        self.F = F\n",
    "    def __call__(self, *args, **kargs):\n",
    "        return self.F(*args, **kargs)  "
   ]
  },
  {
   "cell_type": "markdown",
   "metadata": {},
   "source": [
    "Использовать декоратор также легко, для этого используется символ `@`"
   ]
  },
  {
   "cell_type": "code",
   "execution_count": 7,
   "metadata": {},
   "outputs": [
    {
     "name": "stdout",
     "output_type": "stream",
     "text": [
      "hi\n"
     ]
    }
   ],
   "source": [
    "@decorator\n",
    "def my_function(arg):\n",
    "    print(arg)\n",
    "    \n",
    "my_function(\"hi\")"
   ]
  },
  {
   "cell_type": "markdown",
   "metadata": {},
   "source": [
    "Что эквивалентно"
   ]
  },
  {
   "cell_type": "code",
   "execution_count": 85,
   "metadata": {},
   "outputs": [
    {
     "name": "stdout",
     "output_type": "stream",
     "text": [
      "hi\n"
     ]
    }
   ],
   "source": [
    "def my_function(arg):\n",
    "    print(arg)\n",
    "    \n",
    "my_function = decorator(my_function)\n",
    "\n",
    "my_function(\"hi\")"
   ]
  },
  {
   "cell_type": "markdown",
   "metadata": {},
   "source": [
    "## Примеры"
   ]
  },
  {
   "cell_type": "code",
   "execution_count": 4,
   "metadata": {},
   "outputs": [
    {
     "data": {
      "text/plain": [
       "'1111'"
      ]
     },
     "execution_count": 4,
     "metadata": {},
     "output_type": "execute_result"
    }
   ],
   "source": [
    "# Декоратор, который умножает аргументы на 2\n",
    "\n",
    "def x2arg(F):\n",
    "    def wrapper(*args, **kargs):\n",
    "        nargs = [2*arg for arg in args]\n",
    "        nkargs = {k:2*v for k, v in kargs.items()}\n",
    "        return F(*nargs, **nkargs)\n",
    "    return wrapper\n",
    "\n",
    "@x2arg\n",
    "def Add(a, b):\n",
    "    return a + b\n",
    "    \n",
    "Add(1, 1)"
   ]
  },
  {
   "cell_type": "code",
   "execution_count": 5,
   "metadata": {},
   "outputs": [
    {
     "data": {
      "text/plain": [
       "8"
      ]
     },
     "execution_count": 5,
     "metadata": {},
     "output_type": "execute_result"
    }
   ],
   "source": [
    "# а можно несколько раз\n",
    "\n",
    "@x2arg\n",
    "@x2arg\n",
    "def Add(a, b):\n",
    "    return a + b\n",
    "\n",
    "Add(1, 1)"
   ]
  },
  {
   "cell_type": "code",
   "execution_count": 6,
   "metadata": {},
   "outputs": [
    {
     "name": "stdout",
     "output_type": "stream",
     "text": [
      "0\n",
      "1\n",
      "2\n",
      "3\n",
      "4\n"
     ]
    }
   ],
   "source": [
    "class counter:\n",
    "    \"\"\"\n",
    "        Декоратор-класс, который считает вызовы функции\n",
    "    \"\"\"\n",
    "    def __init__(self, F):\n",
    "        self.F = F\n",
    "        self.counter = 0\n",
    "        \n",
    "    def __call__(self, *args, **kargs):\n",
    "        self.counter += 1\n",
    "        return self.F(*args, **kargs)\n",
    " \n",
    "@counter\n",
    "def Add(a, b):\n",
    "    return a + b\n",
    "\n",
    "\n",
    "Add = counter(Add)\n",
    "\n",
    "print(Add.counter)\n",
    "\n",
    "Add(1, 1)\n",
    "print(Add.counter)\n",
    "\n",
    "Add(1, 1)\n",
    "print(Add.counter)\n",
    "\n",
    "Add(1, 1)\n",
    "print(Add.counter)\n",
    "\n",
    "Add(1, 1)\n",
    "print(Add.counter)"
   ]
  },
  {
   "cell_type": "markdown",
   "metadata": {},
   "source": [
    "## Декораторы с параметрами\n",
    "\n",
    "Можно создавать декораторы с параметрами, если помнить, как именно происходит вызов декоратора на самом деле. "
   ]
  },
  {
   "cell_type": "code",
   "execution_count": null,
   "metadata": {},
   "outputs": [],
   "source": [
    "xArg(Add)"
   ]
  },
  {
   "cell_type": "code",
   "execution_count": 7,
   "metadata": {},
   "outputs": [
    {
     "data": {
      "text/plain": [
       "10"
      ]
     },
     "execution_count": 7,
     "metadata": {},
     "output_type": "execute_result"
    }
   ],
   "source": [
    "def xArg(mul):\n",
    "    def xArgDecorator(F):\n",
    "        def wrapper(*args, **kargs):\n",
    "            nargs = [mul*arg for arg in args]\n",
    "            nkargs = {k:mul*v for k, v in kargs.items()}\n",
    "            return F(*nargs, **nkargs)\n",
    "        return wrapper\n",
    "    return xArgDecorator\n",
    "\n",
    "@xArg(5)\n",
    "def Add(a, b):\n",
    "    return a + b\n",
    "\n",
    "Add(1, 1)"
   ]
  },
  {
   "cell_type": "markdown",
   "metadata": {},
   "source": [
    "Это эквивалентно"
   ]
  },
  {
   "cell_type": "code",
   "execution_count": 95,
   "metadata": {},
   "outputs": [
    {
     "data": {
      "text/plain": [
       "10"
      ]
     },
     "execution_count": 95,
     "metadata": {},
     "output_type": "execute_result"
    }
   ],
   "source": [
    "def Add(a, b):\n",
    "    return a + b\n",
    "\n",
    "Add = xArg(5)(Add)\n",
    "Add(1, 1)"
   ]
  },
  {
   "cell_type": "markdown",
   "metadata": {},
   "source": [
    "## Декораторы классов\n",
    "\n",
    "Декорировать классы немного хитрее. Пример ошибочной реализации"
   ]
  },
  {
   "cell_type": "code",
   "execution_count": 8,
   "metadata": {},
   "outputs": [
    {
     "name": "stdout",
     "output_type": "stream",
     "text": [
      "decorator was created\n",
      "X =  Test (1, 2, 3)\n",
      "\n",
      "X =  Test (5, 4, 5)\n",
      "Y =  Test (5, 4, 5)\n"
     ]
    }
   ],
   "source": [
    "# ЭТО РАБОТАТЬ АДЕКВАТНО НЕ БУДЕТ\n",
    "\n",
    "class decorator:\n",
    "    def __init__(self, cls):\n",
    "        print(\"decorator was created\")\n",
    "        self.C = cls\n",
    "        \n",
    "    # перехватываем вызов, чтобы создать экземпляр класса\n",
    "    def __call__(self, *args, **kargs):\n",
    "        self.instance = self.C(*args, **kargs)\n",
    "        self.instance.args = args\n",
    "        return self\n",
    "    \n",
    "    def __getattr__(self, attrname):\n",
    "        return getattr(self.instance, attrname)\n",
    "  \n",
    "\n",
    "@decorator\n",
    "class Test:\n",
    "    def __init__(self, *arg, **kargs):\n",
    "        self.X = \"Test\"\n",
    "# эквивалентно\n",
    "# Test = decorator(Test)\n",
    "\n",
    "x = Test(1, 2, 3)\n",
    "print(\"X = \", x.X, x.args)\n",
    "print()\n",
    "\n",
    "# а здесь мы перезапишем x, хотя казалось бы, что не должны\n",
    "y = Test(5, 4, 5)\n",
    "print(\"X = \", x.X, x.args)\n",
    "print(\"Y = \", y.X, y.args)"
   ]
  },
  {
   "cell_type": "markdown",
   "metadata": {},
   "source": [
    "Правильный путь - это создавать каждый раз объект-обертку"
   ]
  },
  {
   "cell_type": "code",
   "execution_count": 116,
   "metadata": {},
   "outputs": [
    {
     "name": "stdout",
     "output_type": "stream",
     "text": [
      "X =  Test (1, 2, 3)\n",
      "\n",
      "X =  Test (1, 2, 3)\n",
      "Y =  Test (5, 4, 5)\n"
     ]
    }
   ],
   "source": [
    "def decorator(cls):\n",
    "    class Wrapper:\n",
    "        def __init__(self, *args, **kargs):\n",
    "            self.instance = cls(*args, **kargs)\n",
    "            self.instance.args = args\n",
    "            \n",
    "        def __getattr__(self, attrname):\n",
    "            return getattr(self.instance, attrname)\n",
    "    return Wrapper\n",
    "\n",
    "\n",
    "# Здесь мы подменяем один класс другим классом\n",
    "@decorator\n",
    "class Test:\n",
    "    def __init__(self, *arg, **kargs):\n",
    "        self.X = \"Test\"\n",
    "# эквивалентно\n",
    "# Test = decorator(Test)\n",
    "\n",
    "x = Test(1, 2, 3)\n",
    "print(\"X = \", x.X, x.args)\n",
    "print()\n",
    "\n",
    "# Теперь ок\n",
    "y = Test(5, 4, 5)\n",
    "print(\"X = \", x.X, x.args)\n",
    "print(\"Y = \", y.X, y.args)"
   ]
  },
  {
   "cell_type": "code",
   "execution_count": 120,
   "metadata": {},
   "outputs": [
    {
     "name": "stdout",
     "output_type": "stream",
     "text": [
      "X =  Test (1, 2, 3)\n",
      "\n",
      "X =  Test (1, 2, 3)\n",
      "Y =  Test (5, 4, 5)\n"
     ]
    }
   ],
   "source": [
    "# А можно сделать так, мы создаем класс-фасад, который \n",
    "# принимает готовый экземпляр\n",
    "\n",
    "class Wrapper:\n",
    "    def __init__(self, instance):\n",
    "        self.instance = instance\n",
    "    def __getattr__(self, attrname):\n",
    "        return getattr(self.instance, attrname)\n",
    "    \n",
    "def decorator(cls):\n",
    "    def onCall(*args, **kargs):\n",
    "        instance = cls(*args, **kargs)\n",
    "        instance.args = args\n",
    "        return Wrapper(instance)\n",
    "    return onCall\n",
    "\n",
    "\n",
    "@decorator\n",
    "class Test:\n",
    "    def __init__(self, *arg, **kargs):\n",
    "        self.X = \"Test\"\n",
    "        \n",
    "x = Test(1, 2, 3)\n",
    "print(\"X = \", x.X, x.args)\n",
    "print()\n",
    "\n",
    "# Теперь ок\n",
    "y = Test(5, 4, 5)\n",
    "print(\"X = \", x.X, x.args)\n",
    "print(\"Y = \", y.X, y.args)"
   ]
  },
  {
   "cell_type": "markdown",
   "metadata": {},
   "source": [
    "# Домашняя работа\n",
    "\n",
    "## Задача 1\n",
    "\n",
    "Написать декоратор для вывода времени выполнения функции"
   ]
  },
  {
   "cell_type": "code",
   "execution_count": 37,
   "metadata": {},
   "outputs": [
    {
     "name": "stdout",
     "output_type": "stream",
     "text": [
      "(AnyFunction): It takes 1.00123 seconds\n",
      "(AnyFunction): It takes 1.00136\n"
     ]
    },
    {
     "data": {
      "text/plain": [
       "5"
      ]
     },
     "execution_count": 37,
     "metadata": {},
     "output_type": "execute_result"
    }
   ],
   "source": [
    "def timer1(F):\n",
    "    ...\n",
    "\n",
    "class timer2:\n",
    "    ...\n",
    "    \n",
    "@timer1\n",
    "def AnyFunction(t):\n",
    "    import time\n",
    "    time.sleep(t)\n",
    "\n",
    "AnyFunction(1)\n",
    "\n",
    "@timer2\n",
    "def AnyFunction(t):\n",
    "    import time\n",
    "    time.sleep(t)\n",
    "    return 5 \n",
    "\n",
    "AnyFunction(1)"
   ]
  }
 ],
 "metadata": {
  "kernelspec": {
   "display_name": "Python 3 (ipykernel)",
   "language": "python",
   "name": "python3"
  },
  "language_info": {
   "codemirror_mode": {
    "name": "ipython",
    "version": 3
   },
   "file_extension": ".py",
   "mimetype": "text/x-python",
   "name": "python",
   "nbconvert_exporter": "python",
   "pygments_lexer": "ipython3",
   "version": "3.10.11"
  }
 },
 "nbformat": 4,
 "nbformat_minor": 4
}
