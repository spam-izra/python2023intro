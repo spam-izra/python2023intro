{
 "cells": [
  {
   "cell_type": "markdown",
   "id": "b2074c20-7650-459e-a298-386ad8c4c7df",
   "metadata": {},
   "source": [
    "# Pybind\n",
    "\n",
    "Тут все тоже самое, что и с нативным вызовом"
   ]
  },
  {
   "cell_type": "code",
   "execution_count": 10,
   "id": "8be94a8d-6fda-4145-b6b0-2e5514a9b2f6",
   "metadata": {},
   "outputs": [],
   "source": [
    "import bin.mymod as mymod"
   ]
  },
  {
   "cell_type": "code",
   "execution_count": 11,
   "id": "c8c67315-6903-4daf-b7ea-4509699a105a",
   "metadata": {},
   "outputs": [
    {
     "data": {
      "text/plain": [
       "['MY_STR',\n",
       " 'MyObject',\n",
       " 'MySharedObject',\n",
       " '__doc__',\n",
       " '__file__',\n",
       " '__loader__',\n",
       " '__name__',\n",
       " '__package__',\n",
       " '__spec__',\n",
       " 'utility']"
      ]
     },
     "execution_count": 11,
     "metadata": {},
     "output_type": "execute_result"
    }
   ],
   "source": [
    "dir(mymod)"
   ]
  },
  {
   "cell_type": "code",
   "execution_count": 3,
   "id": "1f20b69e-14a3-4ea3-a7e8-765dea8fd2bd",
   "metadata": {
    "scrolled": true
   },
   "outputs": [
    {
     "name": "stdout",
     "output_type": "stream",
     "text": [
      "Help on module bin.mymod in bin:\n",
      "\n",
      "NAME\n",
      "    bin.mymod - Documentation for my modele\n",
      "\n",
      "SUBMODULES\n",
      "    utility\n",
      "\n",
      "CLASSES\n",
      "    pybind11_builtins.pybind11_object(builtins.object)\n",
      "        MyObject\n",
      "            MySharedObject\n",
      "    \n",
      "    class MyObject(pybind11_builtins.pybind11_object)\n",
      "     |  Объект для возведения в степерь\n",
      "     |  \n",
      "     |  Method resolution order:\n",
      "     |      MyObject\n",
      "     |      pybind11_builtins.pybind11_object\n",
      "     |      builtins.object\n",
      "     |  \n",
      "     |  Methods defined here:\n",
      "     |  \n",
      "     |  __call__(...)\n",
      "     |      __call__(self: bin.mymod.MyObject, arg0: float) -> float\n",
      "     |  \n",
      "     |  __init__(...)\n",
      "     |      __init__(self: bin.mymod.MyObject, power: float) -> None\n",
      "     |  \n",
      "     |  __repr__(...)\n",
      "     |      __repr__(self: bin.mymod.MyObject) -> str\n",
      "     |  \n",
      "     |  calculate(...)\n",
      "     |      calculate(self: bin.mymod.MyObject, arg0: float) -> float\n",
      "     |  \n",
      "     |  ----------------------------------------------------------------------\n",
      "     |  Readonly properties defined here:\n",
      "     |  \n",
      "     |  power\n",
      "     |  \n",
      "     |  ----------------------------------------------------------------------\n",
      "     |  Data descriptors defined here:\n",
      "     |  \n",
      "     |  attr\n",
      "     |      Бесполезная переменная\n",
      "     |  \n",
      "     |  ----------------------------------------------------------------------\n",
      "     |  Static methods inherited from pybind11_builtins.pybind11_object:\n",
      "     |  \n",
      "     |  __new__(*args, **kwargs) from pybind11_builtins.pybind11_type\n",
      "     |      Create and return a new object.  See help(type) for accurate signature.\n",
      "    \n",
      "    class MySharedObject(MyObject)\n",
      "     |  Объект в умном указателе\n",
      "     |  \n",
      "     |  Method resolution order:\n",
      "     |      MySharedObject\n",
      "     |      MyObject\n",
      "     |      pybind11_builtins.pybind11_object\n",
      "     |      builtins.object\n",
      "     |  \n",
      "     |  Methods defined here:\n",
      "     |  \n",
      "     |  __init__(...)\n",
      "     |      __init__(self: bin.mymod.MySharedObject, arg0: float) -> None\n",
      "     |  \n",
      "     |  ----------------------------------------------------------------------\n",
      "     |  Methods inherited from MyObject:\n",
      "     |  \n",
      "     |  __call__(...)\n",
      "     |      __call__(self: bin.mymod.MyObject, arg0: float) -> float\n",
      "     |  \n",
      "     |  __repr__(...)\n",
      "     |      __repr__(self: bin.mymod.MyObject) -> str\n",
      "     |  \n",
      "     |  calculate(...)\n",
      "     |      calculate(self: bin.mymod.MyObject, arg0: float) -> float\n",
      "     |  \n",
      "     |  ----------------------------------------------------------------------\n",
      "     |  Readonly properties inherited from MyObject:\n",
      "     |  \n",
      "     |  power\n",
      "     |  \n",
      "     |  ----------------------------------------------------------------------\n",
      "     |  Data descriptors inherited from MyObject:\n",
      "     |  \n",
      "     |  attr\n",
      "     |      Бесполезная переменная\n",
      "     |  \n",
      "     |  ----------------------------------------------------------------------\n",
      "     |  Static methods inherited from pybind11_builtins.pybind11_object:\n",
      "     |  \n",
      "     |  __new__(*args, **kwargs) from pybind11_builtins.pybind11_type\n",
      "     |      Create and return a new object.  See help(type) for accurate signature.\n",
      "\n",
      "DATA\n",
      "    MY_STR = 'Hello World'\n",
      "\n",
      "FILE\n",
      "    d:\\share\\python_api_c\\pybind\\bin\\mymod.cp310-win_amd64.pyd\n",
      "\n",
      "\n"
     ]
    }
   ],
   "source": [
    "help(mymod)"
   ]
  },
  {
   "cell_type": "code",
   "execution_count": 4,
   "id": "2a88fd3e-f89a-4ad8-a488-426bf551d156",
   "metadata": {},
   "outputs": [
    {
     "name": "stdout",
     "output_type": "stream",
     "text": [
      "Hello World\n"
     ]
    }
   ],
   "source": [
    "print(mymod.MY_STR)"
   ]
  },
  {
   "cell_type": "code",
   "execution_count": 12,
   "id": "139dba95-28ac-44ba-bae0-25a37ef88ae6",
   "metadata": {},
   "outputs": [
    {
     "data": {
      "text/plain": [
       "(16.0, 16.0, -1.0, 2.0)"
      ]
     },
     "execution_count": 12,
     "metadata": {},
     "output_type": "execute_result"
    }
   ],
   "source": [
    "obj = mymod.MyObject(2)\n",
    "obj(4), obj.calculate(4), obj.attr, obj.power"
   ]
  },
  {
   "cell_type": "code",
   "execution_count": 13,
   "id": "e9c3f52c-7894-41ab-a41d-f175fc271afe",
   "metadata": {},
   "outputs": [
    {
     "data": {
      "text/plain": [
       "(16.0, 16.0, -1.0)"
      ]
     },
     "execution_count": 13,
     "metadata": {},
     "output_type": "execute_result"
    }
   ],
   "source": [
    "obj = mymod.MySharedObject(2)\n",
    "obj(4), obj.calculate(4), obj.attr"
   ]
  },
  {
   "cell_type": "code",
   "execution_count": 14,
   "id": "c7208000-f758-4992-9352-31a6b65c9382",
   "metadata": {},
   "outputs": [
    {
     "data": {
      "text/plain": [
       "25.0"
      ]
     },
     "execution_count": 14,
     "metadata": {},
     "output_type": "execute_result"
    }
   ],
   "source": [
    "mymod.utility.my_sqr(5)"
   ]
  }
 ],
 "metadata": {
  "kernelspec": {
   "display_name": "Python 3 (ipykernel)",
   "language": "python",
   "name": "python3"
  },
  "language_info": {
   "codemirror_mode": {
    "name": "ipython",
    "version": 3
   },
   "file_extension": ".py",
   "mimetype": "text/x-python",
   "name": "python",
   "nbconvert_exporter": "python",
   "pygments_lexer": "ipython3",
   "version": "3.10.4"
  }
 },
 "nbformat": 4,
 "nbformat_minor": 5
}
