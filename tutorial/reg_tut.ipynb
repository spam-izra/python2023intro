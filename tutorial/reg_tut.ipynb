{
 "cells": [
  {
   "cell_type": "markdown",
   "metadata": {},
   "source": [
    "# Регулярные выражения\n",
    "    \n",
    "Регулярные выражения являются формальным языком, описывающий некий шаблон, который сравнивается с текстом."
   ]
  },
  {
   "cell_type": "markdown",
   "metadata": {},
   "source": [
    "Пример регулярного выражения\n",
    "```\n",
    "([0123456789]{2,})\\.([0-9]{2})\\.(\\d{2}|\\d{4})\n",
    "```"
   ]
  },
  {
   "cell_type": "markdown",
   "metadata": {},
   "source": [
    "## Мета-символы\n",
    "\n",
    "Регулярное выражение состоит из различных мета-символов и символов обычного текста. Символы `[ ] ( ) { } . * + ? ^ $ \\` в регулярных выражения имеют свой особый смысл:\n",
    "\n",
    "|Символ|Описание|\n",
    "|:----:|----|\n",
    "|**.**| обозначает любой символ |\n",
    "|**[ ]**| обозначает любой символ из некого множества |\n",
    "|**[^ ]**| обозначает любой символ, который не входит в некое множество |\n",
    "|**\\***| обозначает, что предшевствующий символ повторяется 0 и более раз |\n",
    "|**+**| обозначает, что предшевствующий символ повторяется 1 и более раз |\n",
    "|**?**| обозначает, что предшевствующий символ повторяется 0 и 1 раз (опциональный) |\n",
    "|**{n,m}**| обозначает, что предшевствующий символ повторяется от n до m раз |\n",
    "|**(xyz)**| обозначает группу в регулярном выражении, xyz - регулярное выражение для этой группы |\n",
    "|**\\|**| приемлемо одно из двух выражений: либо до **\\|**, либо после **\\|** |\n",
    "|**\\\\**| превращает мета-символ в обычный символ | \n",
    "|**^**| символ начала строки |\n",
    "|**$**| символ конца строки |\n",
    "|**текст**| все остальные символы являются самими собой |"
   ]
  },
  {
   "cell_type": "markdown",
   "metadata": {},
   "source": [
    "## re\n",
    "\n",
    "Модуль `re` предоставляет различные функции по работе с регулярными выражениями"
   ]
  },
  {
   "cell_type": "code",
   "execution_count": 1,
   "metadata": {},
   "outputs": [],
   "source": [
    "import re"
   ]
  },
  {
   "cell_type": "markdown",
   "metadata": {},
   "source": [
    "> `match` - проверка выражения на совпадение от начала строки, будет захвачена строка максимальной длины\n",
    "\n",
    "> `fullmatch` - проверка, что вся строка совпадает с выражением\n",
    "\n",
    "> `search` - проверка, что можно найти выражение в строке (в любом месте)\n",
    "\n",
    "> `split` - разбиение строки на подстроки, где разделиртель - это рег. выражение\n",
    "\n",
    "> `sub` - замена в строке, согласно рег. выражению (одна замена)\n",
    "\n",
    "> `compile` - создать специальный объект регулярного выражения (оптимизация, не требует каждый раз парсинга регулярного выражения)"
   ]
  },
  {
   "cell_type": "markdown",
   "metadata": {},
   "source": [
    "## Повторения и простые шаблоны"
   ]
  },
  {
   "cell_type": "code",
   "execution_count": 46,
   "metadata": {},
   "outputs": [
    {
     "name": "stdout",
     "output_type": "stream",
     "text": [
      "<re.Match object; span=(0, 4), match='test'>\n",
      "<re.Match object; span=(0, 4), match='test'>\n",
      "None\n",
      "<re.Match object; span=(0, 4), match='test'>\n"
     ]
    }
   ],
   "source": [
    "# 4 любых символа \n",
    "r = re.fullmatch(r\"....\", \"test\")\n",
    "print(r)\n",
    "\n",
    "r = re.fullmatch(r\".{4}\", \"test\")\n",
    "print(r)\n",
    "\n",
    "r = re.fullmatch(r\".{4}\", \"test1\")\n",
    "print(r)\n",
    "\n",
    "r = re.match(r\".{4}\", \"test1\")\n",
    "print(r)"
   ]
  },
  {
   "cell_type": "code",
   "execution_count": 11,
   "metadata": {},
   "outputs": [
    {
     "name": "stdout",
     "output_type": "stream",
     "text": [
      "<re.Match object; span=(0, 4), match='test'>\n",
      "<re.Match object; span=(0, 4), match='test'>\n"
     ]
    }
   ],
   "source": [
    "# любое количество символов\n",
    "r = re.fullmatch(r\".*\", \"test\")\n",
    "print(r)\n",
    "\n",
    "r = re.fullmatch(r\".{0,}\", \"test\")\n",
    "print(r)"
   ]
  },
  {
   "cell_type": "code",
   "execution_count": 47,
   "metadata": {},
   "outputs": [
    {
     "name": "stdout",
     "output_type": "stream",
     "text": [
      "<re.Match object; span=(0, 5), match='aaaaa'>\n"
     ]
    }
   ],
   "source": [
    "r = re.match(r\"a{2,5}\", \"aaaaa\")\n",
    "print(r)"
   ]
  },
  {
   "cell_type": "code",
   "execution_count": null,
   "metadata": {},
   "outputs": [],
   "source": [
    "# тоже самое, что и fullmatch\n",
    "r = re.match(r\"a{2,5}$\", \"testaaa\")\n",
    "print(r)\n",
    "\n",
    "# без изменений\n",
    "r = re.match(r\"^a{2,5}\", \"testaaa\")\n",
    "print(r)\n",
    "\n",
    "# тоже самое, что и fullmatch\n",
    "r = re.match(r\"^a{2,5}$\", \"testaaa\")\n",
    "print(r)"
   ]
  },
  {
   "cell_type": "code",
   "execution_count": 48,
   "metadata": {},
   "outputs": [
    {
     "name": "stdout",
     "output_type": "stream",
     "text": [
      "<re.Match object; span=(4, 7), match='aaa'>\n",
      "None\n",
      "None\n"
     ]
    }
   ],
   "source": [
    "r = re.search(r\"a{2,5}$\", \"testaaa\")\n",
    "print(r)\n",
    "\n",
    "r = re.search(r\"^a{2,5}\", \"testaaa\")\n",
    "print(r)\n",
    "\n",
    "r = re.search(r\"^a{2,5}$\", \"testaaa\")\n",
    "print(r)"
   ]
  },
  {
   "cell_type": "markdown",
   "metadata": {},
   "source": [
    "## Жадность и лень"
   ]
  },
  {
   "cell_type": "markdown",
   "metadata": {},
   "source": [
    "Если нужно захватить минимальную строку, то к мета-символам повторения можно добавить `?`"
   ]
  },
  {
   "cell_type": "code",
   "execution_count": 49,
   "metadata": {},
   "outputs": [
    {
     "name": "stdout",
     "output_type": "stream",
     "text": [
      "<re.Match object; span=(0, 2), match='aa'>\n",
      "<re.Match object; span=(0, 0), match=''>\n",
      "<re.Match object; span=(0, 1), match='a'>\n",
      "<re.Match object; span=(0, 0), match=''>\n"
     ]
    }
   ],
   "source": [
    "r = re.match(r\"a{2,5}?\", \"aaaa\")\n",
    "print(r)\n",
    "\n",
    "r = re.match(r\"a*?\", \"aaaa\")\n",
    "print(r)\n",
    "\n",
    "r = re.match(r\"a+?\", \"aaaa\")\n",
    "print(r)\n",
    "\n",
    "r = re.match(r\"a??\", \"aaaa\")\n",
    "print(r)"
   ]
  },
  {
   "cell_type": "markdown",
   "metadata": {},
   "source": [
    "## Множества\n",
    "\n",
    "Тут все просто, все символы перечисленные внутри `[]` образуют множество. Для диапазона можно использовать `-`, если нужен `-` как символ, то его нужно ставить первым символом множества"
   ]
  },
  {
   "cell_type": "code",
   "execution_count": 50,
   "metadata": {},
   "outputs": [
    {
     "name": "stdout",
     "output_type": "stream",
     "text": [
      "<re.Match object; span=(0, 3), match='123'>\n",
      "<re.Match object; span=(0, 4), match='12-3'>\n"
     ]
    }
   ],
   "source": [
    "r = re.fullmatch(r\"[0-9]+\", \"123\")\n",
    "print(r)\n",
    "\n",
    "r = re.fullmatch(r\"[-0-9]+\", \"12-3\")\n",
    "print(r)\n"
   ]
  },
  {
   "cell_type": "code",
   "execution_count": 52,
   "metadata": {},
   "outputs": [
    {
     "name": "stdout",
     "output_type": "stream",
     "text": [
      "<re.Match object; span=(0, 4), match='zzzz'>\n"
     ]
    }
   ],
   "source": [
    "r = re.fullmatch(r\"[^-0-9]+\", \"zzzz\")\n",
    "print(r)"
   ]
  },
  {
   "cell_type": "markdown",
   "metadata": {
    "heading_collapsed": true
   },
   "source": [
    "Также есть алиасы для типовых множество\n",
    "\n",
    "|Shorthand|Description|\n",
    "|:----:|----|\n",
    "|<b>.<b>| любой символ, кроме конца строки |\n",
    "|<b>\\w<b>| все буквы, числа и `_` (почти `[a-zA-Z0-9_]`)|\n",
    "|<b>\\W<b>| инверсия `\\w` (фактически `[^\\w]`)\n",
    "|<b>\\d<b>| все цифры, эквивалент `[0-9]`|\n",
    "|<b>\\D<b>| не цифры, эквивалент `[^\\d]`|\n",
    "|<b>\\s<b>| все пробельные символы (почти `[\\t\\n\\f\\r\\p{Z}]`)|\n",
    "|<b>\\S<b>| любые непробельные символы (фактически `[^\\s]`)|"
   ]
  },
  {
   "cell_type": "markdown",
   "metadata": {},
   "source": [
    "## Границы\n",
    "\n",
    "Есть возможность использовать специальную конструкцию `\\b` (инверсия `\\B`), которая просто обозначает границу начала или конца слова (рядом стоящие символы `\\w` и `\\W`)"
   ]
  },
  {
   "cell_type": "markdown",
   "metadata": {},
   "source": [
    "## Группы\n",
    "\n",
    "Круглые скобки позволяют определять под вырежание в регулярном выражение и создают группы, которые также захватываются при анализе строки. Обратите внимание, группы нумеруются по порядку открывающих скобок, а не по приоритету."
   ]
  },
  {
   "cell_type": "code",
   "execution_count": 56,
   "metadata": {},
   "outputs": [
    {
     "name": "stdout",
     "output_type": "stream",
     "text": [
      "<re.Match object; span=(0, 10), match='01.01.2001'>\n",
      "('01', '01', '2001')\n"
     ]
    },
    {
     "data": {
      "text/plain": [
       "('01.01.2001', '01', '01', '2001')"
      ]
     },
     "execution_count": 56,
     "metadata": {},
     "output_type": "execute_result"
    }
   ],
   "source": [
    "r = re.fullmatch(r'(\\d{2})\\.(\\d{2})\\.(\\d{2}|\\d{4})', \"01.01.2001\")\n",
    "print(r)\n",
    "print(r.groups())\n",
    "r.group(0), r.group(1), r.group(2), r.group(3)"
   ]
  },
  {
   "cell_type": "code",
   "execution_count": 35,
   "metadata": {},
   "outputs": [
    {
     "name": "stdout",
     "output_type": "stream",
     "text": [
      "=123= fasd fsdaf =33=\n",
      "=123= fasd fsdaf =33=\n"
     ]
    }
   ],
   "source": [
    "print(re.sub(r\"_(\\d+)_\", r\"=\\1=\", \"_123_ fasd fsdaf _33_\"))\n",
    "print(re.sub(r\"_(\\d+)_\", r\"=\\g<1>=\", \"_123_ fasd fsdaf _33_\"))"
   ]
  }
 ],
 "metadata": {
  "kernelspec": {
   "display_name": "Python 3 (ipykernel)",
   "language": "python",
   "name": "python3"
  },
  "language_info": {
   "codemirror_mode": {
    "name": "ipython",
    "version": 3
   },
   "file_extension": ".py",
   "mimetype": "text/x-python",
   "name": "python",
   "nbconvert_exporter": "python",
   "pygments_lexer": "ipython3",
   "version": "3.10.4"
  },
  "nbTranslate": {
   "displayLangs": [
    "*"
   ],
   "hotkey": "alt-t",
   "langInMainMenu": true,
   "sourceLang": "en",
   "targetLang": "fr",
   "useGoogleTranslate": true
  },
  "toc": {
   "base_numbering": 1,
   "nav_menu": {},
   "number_sections": true,
   "sideBar": true,
   "skip_h1_title": false,
   "title_cell": "Table of Contents",
   "title_sidebar": "Contents",
   "toc_cell": false,
   "toc_position": {},
   "toc_section_display": true,
   "toc_window_display": false
  }
 },
 "nbformat": 4,
 "nbformat_minor": 4
}
